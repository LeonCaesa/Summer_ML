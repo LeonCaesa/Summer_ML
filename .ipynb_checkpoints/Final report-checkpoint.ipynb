{
 "cells": [
  {
   "cell_type": "code",
   "execution_count": 1,
   "metadata": {},
   "outputs": [],
   "source": [
    "from cleandata import *  # analysis:ignore\n",
    "import pandas as pd\n",
    "from SVM import *  # analysis:ignore\n",
    "from datetime import datetime\n",
    "from dateutil.relativedelta import relativedelta\n",
    "from sklearn.mixture import BayesianGaussianMixture as BGM\n",
    "from LSTM import *\n",
    "from sklearn.preprocessing import StandardScaler\n",
    "from sklearn.decomposition import PCA\n",
    "from cycler import cycler\n",
    "from ML2020 import *"
   ]
  },
  {
   "cell_type": "markdown",
   "metadata": {},
   "source": [
    "# 1.Data Scraching and Processing"
   ]
  },
  {
   "cell_type": "markdown",
   "metadata": {},
   "source": [
    "## 1.1 Data from WRDS"
   ]
  },
  {
   "cell_type": "markdown",
   "metadata": {},
   "source": [
    "Scatching S&P500 fundamental monthly data from WRDS(Wharton Research Data Services), 'Compustat' database by SAS. The date of the role dataset is from 1/1/2013 to 6/5/2020. The number of companies included in the dataset is more than 3000 from 2014/9 to 2019/9. And number of companies is less than 500 before 2014/9 and after 2019/10. The role dataset contains 309 variables and 25937 entries. "
   ]
  },
  {
   "cell_type": "markdown",
   "metadata": {},
   "source": [
    "## 1.2 Data from Yahoo Finance"
   ]
  },
  {
   "cell_type": "markdown",
   "metadata": {},
   "source": [
    "## 1.3 Processing the data --- Median Algorithm"
   ]
  },
  {
   "cell_type": "markdown",
   "metadata": {},
   "source": [
    "Because of a large number of missing value in the dataset, the data was processed by the median algorithm:\\\n",
    "\n",
    "* Step1: Calculate the percentage of missing data in each columns.\\\n",
    "* Step2: Delete the columns with more than 30 percent missing data, 103 out of 309 variables were deleted.\\\n",
    "* Step3: Fill in each columns with median values.\\\n",
    "* Step4: To deal with the low rank problem of the dataset, random noise $Z_{ij}$ were added to the whole dataset with $Z_{ij}\\sim$ N(0,1)\n"
   ]
  },
  {
   "cell_type": "code",
   "execution_count": 2,
   "metadata": {},
   "outputs": [
    {
     "data": {
      "text/html": [
       "<div>\n",
       "<style scoped>\n",
       "    .dataframe tbody tr th:only-of-type {\n",
       "        vertical-align: middle;\n",
       "    }\n",
       "\n",
       "    .dataframe tbody tr th {\n",
       "        vertical-align: top;\n",
       "    }\n",
       "\n",
       "    .dataframe thead th {\n",
       "        text-align: right;\n",
       "    }\n",
       "</style>\n",
       "<table border=\"1\" class=\"dataframe\">\n",
       "  <thead>\n",
       "    <tr style=\"text-align: right;\">\n",
       "      <th></th>\n",
       "      <th>Unnamed: 0</th>\n",
       "      <th>permno</th>\n",
       "      <th>gvkey</th>\n",
       "      <th>fyear</th>\n",
       "      <th>sic2</th>\n",
       "      <th>spi</th>\n",
       "      <th>mve_f</th>\n",
       "      <th>bm</th>\n",
       "      <th>ep</th>\n",
       "      <th>cashpr</th>\n",
       "      <th>...</th>\n",
       "      <th>STOCHRSI_FASTD</th>\n",
       "      <th>STOCHRSI_FASTK</th>\n",
       "      <th>STOCH_SLOWD</th>\n",
       "      <th>STOCH_SLOWK</th>\n",
       "      <th>TRANGE</th>\n",
       "      <th>TYPPRICE</th>\n",
       "      <th>Volume</th>\n",
       "      <th>WCLPRICE</th>\n",
       "      <th>WILLR</th>\n",
       "      <th>lagClose</th>\n",
       "    </tr>\n",
       "  </thead>\n",
       "  <tbody>\n",
       "    <tr>\n",
       "      <td>0</td>\n",
       "      <td>0</td>\n",
       "      <td>79411</td>\n",
       "      <td>28648</td>\n",
       "      <td>2012</td>\n",
       "      <td>42</td>\n",
       "      <td>-0.002863</td>\n",
       "      <td>6889.63530</td>\n",
       "      <td>0.163084</td>\n",
       "      <td>0.056538</td>\n",
       "      <td>11.502685</td>\n",
       "      <td>...</td>\n",
       "      <td>52.655606</td>\n",
       "      <td>55.05861</td>\n",
       "      <td>60.751473</td>\n",
       "      <td>61.081358</td>\n",
       "      <td>5.87</td>\n",
       "      <td>61.469999</td>\n",
       "      <td>55489800.0</td>\n",
       "      <td>61.56250</td>\n",
       "      <td>-35.50184</td>\n",
       "      <td>61.560001</td>\n",
       "    </tr>\n",
       "    <tr>\n",
       "      <td>1</td>\n",
       "      <td>1</td>\n",
       "      <td>11081</td>\n",
       "      <td>14489</td>\n",
       "      <td>2012</td>\n",
       "      <td>22</td>\n",
       "      <td>-0.002863</td>\n",
       "      <td>23011.12000</td>\n",
       "      <td>0.464123</td>\n",
       "      <td>0.103081</td>\n",
       "      <td>-1.509500</td>\n",
       "      <td>...</td>\n",
       "      <td>52.655606</td>\n",
       "      <td>55.05861</td>\n",
       "      <td>60.751473</td>\n",
       "      <td>61.081358</td>\n",
       "      <td>5.87</td>\n",
       "      <td>61.469999</td>\n",
       "      <td>55489800.0</td>\n",
       "      <td>61.56250</td>\n",
       "      <td>-35.50184</td>\n",
       "      <td>61.560001</td>\n",
       "    </tr>\n",
       "    <tr>\n",
       "      <td>2</td>\n",
       "      <td>2</td>\n",
       "      <td>16678</td>\n",
       "      <td>6502</td>\n",
       "      <td>2012</td>\n",
       "      <td>37</td>\n",
       "      <td>-0.002863</td>\n",
       "      <td>14237.80000</td>\n",
       "      <td>0.295481</td>\n",
       "      <td>0.105143</td>\n",
       "      <td>-3.578541</td>\n",
       "      <td>...</td>\n",
       "      <td>52.655606</td>\n",
       "      <td>55.05861</td>\n",
       "      <td>60.751473</td>\n",
       "      <td>61.081358</td>\n",
       "      <td>5.87</td>\n",
       "      <td>21.068333</td>\n",
       "      <td>132791600.0</td>\n",
       "      <td>21.15625</td>\n",
       "      <td>-35.50184</td>\n",
       "      <td>20.170000</td>\n",
       "    </tr>\n",
       "    <tr>\n",
       "      <td>3</td>\n",
       "      <td>3</td>\n",
       "      <td>18403</td>\n",
       "      <td>8446</td>\n",
       "      <td>2012</td>\n",
       "      <td>36</td>\n",
       "      <td>-0.002863</td>\n",
       "      <td>4458.36900</td>\n",
       "      <td>0.711247</td>\n",
       "      <td>-0.220933</td>\n",
       "      <td>-2.544765</td>\n",
       "      <td>...</td>\n",
       "      <td>52.655606</td>\n",
       "      <td>55.05861</td>\n",
       "      <td>60.751473</td>\n",
       "      <td>61.081358</td>\n",
       "      <td>5.87</td>\n",
       "      <td>61.469999</td>\n",
       "      <td>55489800.0</td>\n",
       "      <td>61.56250</td>\n",
       "      <td>-35.50184</td>\n",
       "      <td>61.560001</td>\n",
       "    </tr>\n",
       "    <tr>\n",
       "      <td>4</td>\n",
       "      <td>4</td>\n",
       "      <td>40539</td>\n",
       "      <td>11672</td>\n",
       "      <td>2012</td>\n",
       "      <td>39</td>\n",
       "      <td>-0.002863</td>\n",
       "      <td>32705.89236</td>\n",
       "      <td>0.112088</td>\n",
       "      <td>0.058298</td>\n",
       "      <td>11.704499</td>\n",
       "      <td>...</td>\n",
       "      <td>52.655606</td>\n",
       "      <td>55.05861</td>\n",
       "      <td>60.751473</td>\n",
       "      <td>61.081358</td>\n",
       "      <td>5.87</td>\n",
       "      <td>29.405000</td>\n",
       "      <td>126245200.0</td>\n",
       "      <td>29.65250</td>\n",
       "      <td>-35.50184</td>\n",
       "      <td>28.195000</td>\n",
       "    </tr>\n",
       "  </tbody>\n",
       "</table>\n",
       "<p>5 rows × 204 columns</p>\n",
       "</div>"
      ],
      "text/plain": [
       "   Unnamed: 0  permno  gvkey  fyear  sic2       spi        mve_f        bm  \\\n",
       "0           0   79411  28648   2012    42 -0.002863   6889.63530  0.163084   \n",
       "1           1   11081  14489   2012    22 -0.002863  23011.12000  0.464123   \n",
       "2           2   16678   6502   2012    37 -0.002863  14237.80000  0.295481   \n",
       "3           3   18403   8446   2012    36 -0.002863   4458.36900  0.711247   \n",
       "4           4   40539  11672   2012    39 -0.002863  32705.89236  0.112088   \n",
       "\n",
       "         ep     cashpr  ...  STOCHRSI_FASTD  STOCHRSI_FASTK  STOCH_SLOWD  \\\n",
       "0  0.056538  11.502685  ...       52.655606        55.05861    60.751473   \n",
       "1  0.103081  -1.509500  ...       52.655606        55.05861    60.751473   \n",
       "2  0.105143  -3.578541  ...       52.655606        55.05861    60.751473   \n",
       "3 -0.220933  -2.544765  ...       52.655606        55.05861    60.751473   \n",
       "4  0.058298  11.704499  ...       52.655606        55.05861    60.751473   \n",
       "\n",
       "   STOCH_SLOWK  TRANGE   TYPPRICE       Volume  WCLPRICE     WILLR   lagClose  \n",
       "0    61.081358    5.87  61.469999   55489800.0  61.56250 -35.50184  61.560001  \n",
       "1    61.081358    5.87  61.469999   55489800.0  61.56250 -35.50184  61.560001  \n",
       "2    61.081358    5.87  21.068333  132791600.0  21.15625 -35.50184  20.170000  \n",
       "3    61.081358    5.87  61.469999   55489800.0  61.56250 -35.50184  61.560001  \n",
       "4    61.081358    5.87  29.405000  126245200.0  29.65250 -35.50184  28.195000  \n",
       "\n",
       "[5 rows x 204 columns]"
      ]
     },
     "execution_count": 2,
     "metadata": {},
     "output_type": "execute_result"
    }
   ],
   "source": [
    "raw_data = pd.read_csv(\"fun_tech_2013_median.csv\")\n",
    "raw_data.head()"
   ]
  },
  {
   "cell_type": "markdown",
   "metadata": {},
   "source": [
    "## 1.4 Multicolinearity checking---Variance inflation factor(VIF)"
   ]
  },
  {
   "cell_type": "markdown",
   "metadata": {},
   "source": [
    "In order to further dealing with the low rank problem of the dataset. The VIF of the independent variables of the dataset were calculated and compared with each other. Finally 7 more variables, SINH, j, AVGPRICE, COSH, ROCP, SINH, ROCR100 were deleted due to high VIF. "
   ]
  },
  {
   "cell_type": "code",
   "execution_count": 3,
   "metadata": {},
   "outputs": [
    {
     "name": "stdout",
     "output_type": "stream",
     "text": [
      "date format corrected\n",
      "missing indicator variables deleted\n",
      "continous variables containing infinity deleted\n",
      "missing continuous variables filled in with mean\n"
     ]
    }
   ],
   "source": [
    "ML_object = MLEngineer(raw_data, num_stocks=40,\n",
    "                       trading_window = 12, algorithm='SVM', small_sample=False, pca =True)\n",
    "ML_object.data_processing()"
   ]
  },
  {
   "cell_type": "code",
   "execution_count": null,
   "metadata": {},
   "outputs": [],
   "source": [
    "vif_df = ML_object.calc_vif()    \n",
    "vif_inf_flags = np.isinf(vif_df['VIF Factor'])\n",
    "vif_df.loc[vif_inf_flags==False,:].plot.density()"
   ]
  },
  {
   "cell_type": "code",
   "execution_count": null,
   "metadata": {},
   "outputs": [],
   "source": [
    "ML_object.data_float.columns[vif_inf_flags]"
   ]
  },
  {
   "cell_type": "code",
   "execution_count": null,
   "metadata": {},
   "outputs": [],
   "source": [
    "ML_object.clean_data = ML_object.clean_data.drop(ML_object.data_float.columns[vif_inf_flags], axis=1)"
   ]
  },
  {
   "cell_type": "markdown",
   "metadata": {},
   "source": [
    "## 1.5 Valid Trading Period"
   ]
  },
  {
   "cell_type": "code",
   "execution_count": 4,
   "metadata": {},
   "outputs": [
    {
     "data": {
      "text/plain": [
       "Text(0, 0.5, '# Obs (# Company have data at time step)')"
      ]
     },
     "execution_count": 4,
     "metadata": {},
     "output_type": "execute_result"
    },
    {
     "data": {
      "image/png": "[encoded data removed]",
      "text/plain": [
       "<Figure size 576x360 with 1 Axes>"
      ]
     },
     "metadata": {
      "needs_background": "light"
     },
     "output_type": "display_data"
    }
   ],
   "source": [
    "import matplotlib.ticker as plticker\n",
    "loc = plticker.MultipleLocator(base=3.0) # this locator puts ticks at regular intervals\n",
    "fig, ax = plt.subplots(figsize=(8,5))\n",
    "ax.xaxis.set_major_locator(loc)\n",
    "ax.plot(ML_object.date_list.strftime('%Y-%m'), ML_object.clean_data.groupby('DATE').count()['RET'].values)\n",
    "plt.xticks(rotation=45)\n",
    "plt.ylabel('# Obs (# Company have data at time step)')"
   ]
  },
  {
   "cell_type": "markdown",
   "metadata": {},
   "source": [
    "In our ML training, we focused on the time period between $\\textbf{2015/09}\\ and\\ \\textbf{2019/07}$,during which time, there is at least 400 companies at each month"
   ]
  },
  {
   "cell_type": "markdown",
   "metadata": {},
   "source": [
    "# 2. Machine Learning Trading Framework"
   ]
  },
  {
   "cell_type": "markdown",
   "metadata": {},
   "source": [
    "## 2.1 Time Step $T_i$"
   ]
  },
  {
   "cell_type": "markdown",
   "metadata": {},
   "source": [
    "In our Machine Learning project, we conducted out of sample trading test based upon monthly window, at every timestep $T_i \\in [2015/09, 2019/07]$, we constructed training dataset with $M$ months by looking back M months to timestep $T_i$, Thus for every $T_i$, there are roughtly $M*400 \\approx 4800 (M=12)$ data points as the training dataset to predict the return on time $T_i$\n"
   ]
  },
  {
   "cell_type": "code",
   "execution_count": 5,
   "metadata": {},
   "outputs": [
    {
     "data": {
      "text/html": [
       "<div>\n",
       "<style scoped>\n",
       "    .dataframe tbody tr th:only-of-type {\n",
       "        vertical-align: middle;\n",
       "    }\n",
       "\n",
       "    .dataframe tbody tr th {\n",
       "        vertical-align: top;\n",
       "    }\n",
       "\n",
       "    .dataframe thead th {\n",
       "        text-align: right;\n",
       "    }\n",
       "</style>\n",
       "<table border=\"1\" class=\"dataframe\">\n",
       "  <thead>\n",
       "    <tr style=\"text-align: right;\">\n",
       "      <th></th>\n",
       "      <th>sic2</th>\n",
       "      <th>age</th>\n",
       "      <th>spii</th>\n",
       "      <th>woGW</th>\n",
       "      <th>sin</th>\n",
       "      <th>divi</th>\n",
       "      <th>divo</th>\n",
       "      <th>securedind</th>\n",
       "      <th>convind</th>\n",
       "      <th>rd</th>\n",
       "      <th>...</th>\n",
       "      <th>STOCHRSI_FASTD</th>\n",
       "      <th>STOCHRSI_FASTK</th>\n",
       "      <th>STOCH_SLOWD</th>\n",
       "      <th>STOCH_SLOWK</th>\n",
       "      <th>TRANGE</th>\n",
       "      <th>TYPPRICE</th>\n",
       "      <th>Volume</th>\n",
       "      <th>WCLPRICE</th>\n",
       "      <th>WILLR</th>\n",
       "      <th>lagClose</th>\n",
       "    </tr>\n",
       "  </thead>\n",
       "  <tbody>\n",
       "    <tr>\n",
       "      <td>1293</td>\n",
       "      <td>52</td>\n",
       "      <td>1</td>\n",
       "      <td>1</td>\n",
       "      <td>0</td>\n",
       "      <td>0</td>\n",
       "      <td>0</td>\n",
       "      <td>0</td>\n",
       "      <td>1</td>\n",
       "      <td>0</td>\n",
       "      <td>0</td>\n",
       "      <td>...</td>\n",
       "      <td>0.013536</td>\n",
       "      <td>0.053676</td>\n",
       "      <td>-0.606588</td>\n",
       "      <td>-0.929465</td>\n",
       "      <td>-0.057360</td>\n",
       "      <td>-0.258713</td>\n",
       "      <td>1.562245</td>\n",
       "      <td>-0.261405</td>\n",
       "      <td>0.164022</td>\n",
       "      <td>-0.258928</td>\n",
       "    </tr>\n",
       "    <tr>\n",
       "      <td>1294</td>\n",
       "      <td>52</td>\n",
       "      <td>1</td>\n",
       "      <td>1</td>\n",
       "      <td>0</td>\n",
       "      <td>0</td>\n",
       "      <td>0</td>\n",
       "      <td>0</td>\n",
       "      <td>0</td>\n",
       "      <td>0</td>\n",
       "      <td>0</td>\n",
       "      <td>...</td>\n",
       "      <td>0.013536</td>\n",
       "      <td>0.053676</td>\n",
       "      <td>1.306872</td>\n",
       "      <td>1.412610</td>\n",
       "      <td>-0.049668</td>\n",
       "      <td>-0.225130</td>\n",
       "      <td>4.582742</td>\n",
       "      <td>-0.226495</td>\n",
       "      <td>0.164022</td>\n",
       "      <td>-0.220806</td>\n",
       "    </tr>\n",
       "    <tr>\n",
       "      <td>1295</td>\n",
       "      <td>45</td>\n",
       "      <td>1</td>\n",
       "      <td>1</td>\n",
       "      <td>0</td>\n",
       "      <td>0</td>\n",
       "      <td>0</td>\n",
       "      <td>0</td>\n",
       "      <td>0</td>\n",
       "      <td>0</td>\n",
       "      <td>0</td>\n",
       "      <td>...</td>\n",
       "      <td>0.013536</td>\n",
       "      <td>0.053676</td>\n",
       "      <td>-0.592541</td>\n",
       "      <td>-0.267314</td>\n",
       "      <td>-0.020280</td>\n",
       "      <td>-0.071790</td>\n",
       "      <td>-0.360656</td>\n",
       "      <td>-0.068189</td>\n",
       "      <td>0.164022</td>\n",
       "      <td>-0.069638</td>\n",
       "    </tr>\n",
       "    <tr>\n",
       "      <td>1296</td>\n",
       "      <td>59</td>\n",
       "      <td>1</td>\n",
       "      <td>1</td>\n",
       "      <td>0</td>\n",
       "      <td>0</td>\n",
       "      <td>0</td>\n",
       "      <td>0</td>\n",
       "      <td>0</td>\n",
       "      <td>0</td>\n",
       "      <td>0</td>\n",
       "      <td>...</td>\n",
       "      <td>0.013536</td>\n",
       "      <td>0.053676</td>\n",
       "      <td>-0.306763</td>\n",
       "      <td>0.226229</td>\n",
       "      <td>-0.004244</td>\n",
       "      <td>-0.030312</td>\n",
       "      <td>0.000744</td>\n",
       "      <td>-0.025317</td>\n",
       "      <td>0.164022</td>\n",
       "      <td>-0.020674</td>\n",
       "    </tr>\n",
       "    <tr>\n",
       "      <td>1297</td>\n",
       "      <td>22</td>\n",
       "      <td>1</td>\n",
       "      <td>1</td>\n",
       "      <td>0</td>\n",
       "      <td>0</td>\n",
       "      <td>0</td>\n",
       "      <td>0</td>\n",
       "      <td>0</td>\n",
       "      <td>0</td>\n",
       "      <td>0</td>\n",
       "      <td>...</td>\n",
       "      <td>0.013536</td>\n",
       "      <td>0.053676</td>\n",
       "      <td>0.125391</td>\n",
       "      <td>0.133260</td>\n",
       "      <td>-0.044363</td>\n",
       "      <td>-0.150958</td>\n",
       "      <td>-0.262713</td>\n",
       "      <td>-0.152389</td>\n",
       "      <td>0.164022</td>\n",
       "      <td>-0.149091</td>\n",
       "    </tr>\n",
       "    <tr>\n",
       "      <td>...</td>\n",
       "      <td>...</td>\n",
       "      <td>...</td>\n",
       "      <td>...</td>\n",
       "      <td>...</td>\n",
       "      <td>...</td>\n",
       "      <td>...</td>\n",
       "      <td>...</td>\n",
       "      <td>...</td>\n",
       "      <td>...</td>\n",
       "      <td>...</td>\n",
       "      <td>...</td>\n",
       "      <td>...</td>\n",
       "      <td>...</td>\n",
       "      <td>...</td>\n",
       "      <td>...</td>\n",
       "      <td>...</td>\n",
       "      <td>...</td>\n",
       "      <td>...</td>\n",
       "      <td>...</td>\n",
       "      <td>...</td>\n",
       "      <td>...</td>\n",
       "    </tr>\n",
       "    <tr>\n",
       "      <td>6762</td>\n",
       "      <td>46</td>\n",
       "      <td>2</td>\n",
       "      <td>0</td>\n",
       "      <td>0</td>\n",
       "      <td>0</td>\n",
       "      <td>0</td>\n",
       "      <td>0</td>\n",
       "      <td>0</td>\n",
       "      <td>0</td>\n",
       "      <td>0</td>\n",
       "      <td>...</td>\n",
       "      <td>-1.460210</td>\n",
       "      <td>-1.422123</td>\n",
       "      <td>0.744466</td>\n",
       "      <td>0.402551</td>\n",
       "      <td>-0.000653</td>\n",
       "      <td>0.106136</td>\n",
       "      <td>-0.026548</td>\n",
       "      <td>0.107473</td>\n",
       "      <td>0.670733</td>\n",
       "      <td>0.106348</td>\n",
       "    </tr>\n",
       "    <tr>\n",
       "      <td>6763</td>\n",
       "      <td>31</td>\n",
       "      <td>2</td>\n",
       "      <td>1</td>\n",
       "      <td>0</td>\n",
       "      <td>0</td>\n",
       "      <td>0</td>\n",
       "      <td>0</td>\n",
       "      <td>0</td>\n",
       "      <td>0</td>\n",
       "      <td>0</td>\n",
       "      <td>...</td>\n",
       "      <td>0.013536</td>\n",
       "      <td>0.053676</td>\n",
       "      <td>0.125391</td>\n",
       "      <td>0.133260</td>\n",
       "      <td>-0.044363</td>\n",
       "      <td>-0.150958</td>\n",
       "      <td>-0.262713</td>\n",
       "      <td>-0.152389</td>\n",
       "      <td>0.164022</td>\n",
       "      <td>-0.149091</td>\n",
       "    </tr>\n",
       "    <tr>\n",
       "      <td>6764</td>\n",
       "      <td>9</td>\n",
       "      <td>2</td>\n",
       "      <td>1</td>\n",
       "      <td>0</td>\n",
       "      <td>0</td>\n",
       "      <td>0</td>\n",
       "      <td>0</td>\n",
       "      <td>0</td>\n",
       "      <td>0</td>\n",
       "      <td>0</td>\n",
       "      <td>...</td>\n",
       "      <td>0.013536</td>\n",
       "      <td>0.053676</td>\n",
       "      <td>0.125391</td>\n",
       "      <td>0.133260</td>\n",
       "      <td>-0.044363</td>\n",
       "      <td>-0.150958</td>\n",
       "      <td>-0.262713</td>\n",
       "      <td>-0.152389</td>\n",
       "      <td>0.164022</td>\n",
       "      <td>-0.149091</td>\n",
       "    </tr>\n",
       "    <tr>\n",
       "      <td>6765</td>\n",
       "      <td>36</td>\n",
       "      <td>3</td>\n",
       "      <td>1</td>\n",
       "      <td>0</td>\n",
       "      <td>0</td>\n",
       "      <td>0</td>\n",
       "      <td>0</td>\n",
       "      <td>1</td>\n",
       "      <td>0</td>\n",
       "      <td>0</td>\n",
       "      <td>...</td>\n",
       "      <td>-0.673480</td>\n",
       "      <td>-1.474916</td>\n",
       "      <td>0.446684</td>\n",
       "      <td>-0.217025</td>\n",
       "      <td>-0.043461</td>\n",
       "      <td>-0.104883</td>\n",
       "      <td>-0.122522</td>\n",
       "      <td>-0.104773</td>\n",
       "      <td>0.211688</td>\n",
       "      <td>-0.088085</td>\n",
       "    </tr>\n",
       "    <tr>\n",
       "      <td>6766</td>\n",
       "      <td>4</td>\n",
       "      <td>2</td>\n",
       "      <td>1</td>\n",
       "      <td>0</td>\n",
       "      <td>0</td>\n",
       "      <td>0</td>\n",
       "      <td>0</td>\n",
       "      <td>0</td>\n",
       "      <td>0</td>\n",
       "      <td>0</td>\n",
       "      <td>...</td>\n",
       "      <td>-1.805640</td>\n",
       "      <td>-1.474916</td>\n",
       "      <td>-2.057353</td>\n",
       "      <td>-1.814284</td>\n",
       "      <td>-0.061444</td>\n",
       "      <td>-0.374546</td>\n",
       "      <td>-0.102699</td>\n",
       "      <td>-0.380961</td>\n",
       "      <td>-1.973365</td>\n",
       "      <td>-0.373295</td>\n",
       "    </tr>\n",
       "  </tbody>\n",
       "</table>\n",
       "<p>5474 rows × 196 columns</p>\n",
       "</div>"
      ],
      "text/plain": [
       "      sic2  age  spii  woGW  sin  divi  divo  securedind  convind  rd  ...  \\\n",
       "1293    52    1     1     0    0     0     0           1        0   0  ...   \n",
       "1294    52    1     1     0    0     0     0           0        0   0  ...   \n",
       "1295    45    1     1     0    0     0     0           0        0   0  ...   \n",
       "1296    59    1     1     0    0     0     0           0        0   0  ...   \n",
       "1297    22    1     1     0    0     0     0           0        0   0  ...   \n",
       "...    ...  ...   ...   ...  ...   ...   ...         ...      ...  ..  ...   \n",
       "6762    46    2     0     0    0     0     0           0        0   0  ...   \n",
       "6763    31    2     1     0    0     0     0           0        0   0  ...   \n",
       "6764     9    2     1     0    0     0     0           0        0   0  ...   \n",
       "6765    36    3     1     0    0     0     0           1        0   0  ...   \n",
       "6766     4    2     1     0    0     0     0           0        0   0  ...   \n",
       "\n",
       "      STOCHRSI_FASTD  STOCHRSI_FASTK  STOCH_SLOWD  STOCH_SLOWK    TRANGE  \\\n",
       "1293        0.013536        0.053676    -0.606588    -0.929465 -0.057360   \n",
       "1294        0.013536        0.053676     1.306872     1.412610 -0.049668   \n",
       "1295        0.013536        0.053676    -0.592541    -0.267314 -0.020280   \n",
       "1296        0.013536        0.053676    -0.306763     0.226229 -0.004244   \n",
       "1297        0.013536        0.053676     0.125391     0.133260 -0.044363   \n",
       "...              ...             ...          ...          ...       ...   \n",
       "6762       -1.460210       -1.422123     0.744466     0.402551 -0.000653   \n",
       "6763        0.013536        0.053676     0.125391     0.133260 -0.044363   \n",
       "6764        0.013536        0.053676     0.125391     0.133260 -0.044363   \n",
       "6765       -0.673480       -1.474916     0.446684    -0.217025 -0.043461   \n",
       "6766       -1.805640       -1.474916    -2.057353    -1.814284 -0.061444   \n",
       "\n",
       "      TYPPRICE    Volume  WCLPRICE     WILLR  lagClose  \n",
       "1293 -0.258713  1.562245 -0.261405  0.164022 -0.258928  \n",
       "1294 -0.225130  4.582742 -0.226495  0.164022 -0.220806  \n",
       "1295 -0.071790 -0.360656 -0.068189  0.164022 -0.069638  \n",
       "1296 -0.030312  0.000744 -0.025317  0.164022 -0.020674  \n",
       "1297 -0.150958 -0.262713 -0.152389  0.164022 -0.149091  \n",
       "...        ...       ...       ...       ...       ...  \n",
       "6762  0.106136 -0.026548  0.107473  0.670733  0.106348  \n",
       "6763 -0.150958 -0.262713 -0.152389  0.164022 -0.149091  \n",
       "6764 -0.150958 -0.262713 -0.152389  0.164022 -0.149091  \n",
       "6765 -0.104883 -0.122522 -0.104773  0.211688 -0.088085  \n",
       "6766 -0.374546 -0.102699 -0.380961 -1.973365 -0.373295  \n",
       "\n",
       "[5474 rows x 196 columns]"
      ]
     },
     "execution_count": 5,
     "metadata": {},
     "output_type": "execute_result"
    }
   ],
   "source": [
    "time_step = pd.to_datetime('2015/09').to_period('M')\n",
    "ML_object.split_date( time_step)[0]"
   ]
  },
  {
   "cell_type": "markdown",
   "metadata": {},
   "source": [
    "## 2.2 Clustering on Time Step T_i"
   ]
  },
  {
   "cell_type": "markdown",
   "metadata": {},
   "source": [
    "Based upon the 4800 companies'data at each time step $T_i$, we proceed with first clustering the training set with $\\textbf{Bayesian Gassusian Mixture Model}$, which automatically cluster the data to maximum of 20 clusters of data. Then for each cluster of the data, our machine uses user specified ML algorithm to train from cluster to cluster"
   ]
  },
  {
   "cell_type": "code",
   "execution_count": 6,
   "metadata": {},
   "outputs": [
    {
     "name": "stderr",
     "output_type": "stream",
     "text": [
      "/Users/caesa/opt/anaconda3/lib/python3.7/site-packages/sklearn/mixture/base.py:265: ConvergenceWarning: Initialization 1 did not converge. Try different init parameters, or increase max_iter, tol or check for degenerate data.\n",
      "  % (init + 1), ConvergenceWarning)\n",
      "/Users/caesa/opt/anaconda3/lib/python3.7/site-packages/seaborn/axisgrid.py:2065: UserWarning: The `size` parameter has been renamed to `height`; pleaes update your code.\n",
      "  warnings.warn(msg, UserWarning)\n"
     ]
    },
    {
     "data": {
      "image/png": "[encoded data removed]",
      "text/plain": [
       "<Figure size 405.725x360 with 1 Axes>"
      ]
     },
     "metadata": {
      "needs_background": "light"
     },
     "output_type": "display_data"
    }
   ],
   "source": [
    "portfoli_permno, indx_rank = ML_object.opti_stocks(time_step)"
   ]
  },
  {
   "cell_type": "markdown",
   "metadata": {},
   "source": [
    "The above plot visualize the clustering of $400*M$ data points using Principle Component Reduction, the whole dataframe was reduced into 2 principle components and is then plotted with different color as their cluster"
   ]
  },
  {
   "cell_type": "markdown",
   "metadata": {},
   "source": [
    "## 2.2 Portfolio On Time Step $T_i$"
   ]
  },
  {
   "cell_type": "markdown",
   "metadata": {},
   "source": [
    "Then based upon the timestep $T_i$, we can use user-specified machine learning algorithm to predict the return on date $T_i$, and construct a portfolio consist of $K$ stocks based upon the prediction"
   ]
  },
  {
   "cell_type": "code",
   "execution_count": 7,
   "metadata": {},
   "outputs": [
    {
     "name": "stdout",
     "output_type": "stream",
     "text": [
      "[25953 26403 40272 26710 40125 37284 26825 27991 39538 39490 27422 38762\n",
      " 27633 38703 38156 37584 39642 27043 57568 56573 91392 58683 77702 28388\n",
      " 87657 87717 19561 20626 44601 89003 28222 86339 77338 22517 84381 90808\n",
      " 64390 53065 46886 25582]\n"
     ]
    }
   ],
   "source": [
    "print(portfoli_permno)"
   ]
  },
  {
   "cell_type": "markdown",
   "metadata": {},
   "source": [
    "## 2.3 Return along the whole trading period"
   ]
  },
  {
   "cell_type": "markdown",
   "metadata": {},
   "source": [
    "As we move $T_i$ along the whole trading period of $2015/09$ to $2019/07$, we could construct a series of portfolios and analyze the returns, \n",
    "* At each time steps $T_i \\in [2015/09, 2019/07]$,  we \n",
    "    * find the correspoding training set by looking back $M$ months\n",
    "        * cluster the $M$ months data upto 20 clusters\n",
    "            * Train our machine on cluster j\n",
    "            * predict return on timestep $T_i$ that fall into cluster j\n",
    "        * form portfolio consists of K stocks based upon the prediction\n",
    "* Generate return plot for analysis        \n",
    "            "
   ]
  },
  {
   "cell_type": "code",
   "execution_count": 8,
   "metadata": {},
   "outputs": [
    {
     "name": "stdout",
     "output_type": "stream",
     "text": [
      "2015-09\n",
      "2015-10\n",
      "2015-11\n"
     ]
    },
    {
     "name": "stderr",
     "output_type": "stream",
     "text": [
      "/Users/caesa/opt/anaconda3/lib/python3.7/site-packages/sklearn/mixture/base.py:265: ConvergenceWarning: Initialization 1 did not converge. Try different init parameters, or increase max_iter, tol or check for degenerate data.\n",
      "  % (init + 1), ConvergenceWarning)\n"
     ]
    },
    {
     "name": "stdout",
     "output_type": "stream",
     "text": [
      "2015-12\n",
      "2016-01\n",
      "2016-02\n"
     ]
    },
    {
     "name": "stderr",
     "output_type": "stream",
     "text": [
      "/Users/caesa/opt/anaconda3/lib/python3.7/site-packages/sklearn/mixture/base.py:265: ConvergenceWarning: Initialization 1 did not converge. Try different init parameters, or increase max_iter, tol or check for degenerate data.\n",
      "  % (init + 1), ConvergenceWarning)\n"
     ]
    },
    {
     "name": "stdout",
     "output_type": "stream",
     "text": [
      "2016-03\n",
      "2016-04\n",
      "2016-05\n"
     ]
    },
    {
     "name": "stderr",
     "output_type": "stream",
     "text": [
      "/Users/caesa/opt/anaconda3/lib/python3.7/site-packages/sklearn/mixture/base.py:265: ConvergenceWarning: Initialization 1 did not converge. Try different init parameters, or increase max_iter, tol or check for degenerate data.\n",
      "  % (init + 1), ConvergenceWarning)\n"
     ]
    },
    {
     "name": "stdout",
     "output_type": "stream",
     "text": [
      "2016-06\n"
     ]
    },
    {
     "name": "stderr",
     "output_type": "stream",
     "text": [
      "/Users/caesa/opt/anaconda3/lib/python3.7/site-packages/sklearn/mixture/base.py:265: ConvergenceWarning: Initialization 1 did not converge. Try different init parameters, or increase max_iter, tol or check for degenerate data.\n",
      "  % (init + 1), ConvergenceWarning)\n"
     ]
    },
    {
     "name": "stdout",
     "output_type": "stream",
     "text": [
      "2016-07\n",
      "2016-08\n"
     ]
    },
    {
     "name": "stderr",
     "output_type": "stream",
     "text": [
      "/Users/caesa/opt/anaconda3/lib/python3.7/site-packages/seaborn/axisgrid.py:2065: UserWarning: The `size` parameter has been renamed to `height`; pleaes update your code.\n",
      "  warnings.warn(msg, UserWarning)\n"
     ]
    },
    {
     "data": {
      "image/png": "[encoded data removed]",
      "text/plain": [
       "<Figure size 405.85x360 with 1 Axes>"
      ]
     },
     "metadata": {
      "needs_background": "light"
     },
     "output_type": "display_data"
    },
    {
     "name": "stdout",
     "output_type": "stream",
     "text": [
      "2016-09\n",
      "2016-10\n",
      "2016-11\n"
     ]
    },
    {
     "name": "stderr",
     "output_type": "stream",
     "text": [
      "/Users/caesa/opt/anaconda3/lib/python3.7/site-packages/sklearn/mixture/base.py:265: ConvergenceWarning: Initialization 1 did not converge. Try different init parameters, or increase max_iter, tol or check for degenerate data.\n",
      "  % (init + 1), ConvergenceWarning)\n"
     ]
    },
    {
     "name": "stdout",
     "output_type": "stream",
     "text": [
      "2016-12\n",
      "2017-01\n",
      "2017-02\n"
     ]
    },
    {
     "name": "stderr",
     "output_type": "stream",
     "text": [
      "/Users/caesa/opt/anaconda3/lib/python3.7/site-packages/sklearn/mixture/base.py:265: ConvergenceWarning: Initialization 1 did not converge. Try different init parameters, or increase max_iter, tol or check for degenerate data.\n",
      "  % (init + 1), ConvergenceWarning)\n"
     ]
    },
    {
     "name": "stdout",
     "output_type": "stream",
     "text": [
      "2017-03\n",
      "2017-04\n",
      "2017-05\n",
      "2017-06\n",
      "2017-07\n"
     ]
    },
    {
     "name": "stderr",
     "output_type": "stream",
     "text": [
      "/Users/caesa/opt/anaconda3/lib/python3.7/site-packages/sklearn/mixture/base.py:265: ConvergenceWarning: Initialization 1 did not converge. Try different init parameters, or increase max_iter, tol or check for degenerate data.\n",
      "  % (init + 1), ConvergenceWarning)\n"
     ]
    },
    {
     "name": "stdout",
     "output_type": "stream",
     "text": [
      "2017-08\n"
     ]
    },
    {
     "name": "stderr",
     "output_type": "stream",
     "text": [
      "/Users/caesa/opt/anaconda3/lib/python3.7/site-packages/seaborn/axisgrid.py:2065: UserWarning: The `size` parameter has been renamed to `height`; pleaes update your code.\n",
      "  warnings.warn(msg, UserWarning)\n"
     ]
    },
    {
     "data": {
      "image/png": "[encoded data removed]",
      "text/plain": [
       "<Figure size 405.85x360 with 1 Axes>"
      ]
     },
     "metadata": {
      "needs_background": "light"
     },
     "output_type": "display_data"
    },
    {
     "name": "stdout",
     "output_type": "stream",
     "text": [
      "2017-09\n",
      "2017-10\n",
      "2017-11\n",
      "2017-12\n",
      "2018-01\n"
     ]
    },
    {
     "name": "stderr",
     "output_type": "stream",
     "text": [
      "/Users/caesa/opt/anaconda3/lib/python3.7/site-packages/sklearn/mixture/base.py:265: ConvergenceWarning: Initialization 1 did not converge. Try different init parameters, or increase max_iter, tol or check for degenerate data.\n",
      "  % (init + 1), ConvergenceWarning)\n"
     ]
    },
    {
     "name": "stdout",
     "output_type": "stream",
     "text": [
      "2018-02\n",
      "2018-03\n",
      "2018-04\n"
     ]
    },
    {
     "name": "stderr",
     "output_type": "stream",
     "text": [
      "/Users/caesa/opt/anaconda3/lib/python3.7/site-packages/sklearn/mixture/base.py:265: ConvergenceWarning: Initialization 1 did not converge. Try different init parameters, or increase max_iter, tol or check for degenerate data.\n",
      "  % (init + 1), ConvergenceWarning)\n"
     ]
    },
    {
     "name": "stdout",
     "output_type": "stream",
     "text": [
      "2018-05\n",
      "2018-06\n",
      "2018-07\n",
      "2018-08\n"
     ]
    },
    {
     "name": "stderr",
     "output_type": "stream",
     "text": [
      "/Users/caesa/opt/anaconda3/lib/python3.7/site-packages/sklearn/mixture/base.py:265: ConvergenceWarning: Initialization 1 did not converge. Try different init parameters, or increase max_iter, tol or check for degenerate data.\n",
      "  % (init + 1), ConvergenceWarning)\n",
      "/Users/caesa/opt/anaconda3/lib/python3.7/site-packages/seaborn/axisgrid.py:2065: UserWarning: The `size` parameter has been renamed to `height`; pleaes update your code.\n",
      "  warnings.warn(msg, UserWarning)\n"
     ]
    },
    {
     "data": {
      "image/png": "[encoded data removed]",
      "text/plain": [
       "<Figure size 405.85x360 with 1 Axes>"
      ]
     },
     "metadata": {
      "needs_background": "light"
     },
     "output_type": "display_data"
    },
    {
     "name": "stdout",
     "output_type": "stream",
     "text": [
      "2018-09\n",
      "2018-10\n",
      "2018-11\n",
      "2018-12\n",
      "2019-01\n",
      "2019-02\n",
      "2019-03\n",
      "2019-04\n",
      "2019-05\n",
      "2019-06\n",
      "2019-07\n"
     ]
    }
   ],
   "source": [
    "time_list =['2015-09', '2019-07']\n",
    "returns_long = ML_object.profit_construct(time_list, strategy ='long_equal_weighted')"
   ]
  },
  {
   "cell_type": "markdown",
   "metadata": {},
   "source": [
    "In our later algorithm research, we automated the whole Mahcine Learning framework into a onestep function taking necessary input parameters"
   ]
  },
  {
   "cell_type": "code",
   "execution_count": 10,
   "metadata": {},
   "outputs": [
    {
     "data": {
      "image/png": "[encoded data removed]",
      "text/plain": [
       "<Figure size 432x288 with 1 Axes>"
      ]
     },
     "metadata": {
      "needs_background": "light"
     },
     "output_type": "display_data"
    },
    {
     "data": {
      "image/png": "[encoded data removed]",
      "text/plain": [
       "<Figure size 432x288 with 1 Axes>"
      ]
     },
     "metadata": {
      "needs_background": "light"
     },
     "output_type": "display_data"
    }
   ],
   "source": [
    "ML_object.return_plot(returns_long)"
   ]
  },
  {
   "cell_type": "markdown",
   "metadata": {},
   "source": [
    "## 3. Machine Learning Algorithms \n"
   ]
  },
  {
   "cell_type": "markdown",
   "metadata": {},
   "source": [
    "During the summer, we mainly investigated SVM, Gradient Boosting, LSTM neural network and Kernel Regression, four algorihtms"
   ]
  },
  {
   "cell_type": "markdown",
   "metadata": {},
   "source": [
    "## 3.1 SVM Machine"
   ]
  },
  {
   "cell_type": "code",
   "execution_count": null,
   "metadata": {},
   "outputs": [],
   "source": [
    "param_dict = {'num_stocks':40,\n",
    "              'trading_window' : 12,\n",
    "              'time_list' : ['2015-09-01', '2019-07-01'],\n",
    "              'strategy' : 'long_equal_weighted',\n",
    "              'algorithm': \"SVM\",\n",
    "              'fill_in_method': 'median',\n",
    "              'pca': True\n",
    "}\n",
    "ML_object = one_step_function(raw_data, param_dict)"
   ]
  },
  {
   "cell_type": "markdown",
   "metadata": {},
   "source": [
    "## 3.2 LSTM Neural Network"
   ]
  },
  {
   "cell_type": "markdown",
   "metadata": {},
   "source": [
    "## 3.3 Gradient Boosting"
   ]
  },
  {
   "cell_type": "markdown",
   "metadata": {},
   "source": [
    "## 3.4 Kernel Regression"
   ]
  },
  {
   "cell_type": "code",
   "execution_count": null,
   "metadata": {},
   "outputs": [],
   "source": []
  }
 ],
 "metadata": {
  "kernelspec": {
   "display_name": "Python 3",
   "language": "python",
   "name": "python3"
  },
  "language_info": {
   "codemirror_mode": {
    "name": "ipython",
    "version": 3
   },
   "file_extension": ".py",
   "mimetype": "text/x-python",
   "name": "python",
   "nbconvert_exporter": "python",
   "pygments_lexer": "ipython3",
   "version": "3.7.4"
  },
  "toc": {
   "base_numbering": 1,
   "nav_menu": {},
   "number_sections": false,
   "sideBar": true,
   "skip_h1_title": false,
   "title_cell": "Table of Contents",
   "title_sidebar": "Contents",
   "toc_cell": true,
   "toc_position": {},
   "toc_section_display": true,
   "toc_window_display": true
  },
  "varInspector": {
   "cols": {
    "lenName": 16,
    "lenType": 16,
    "lenVar": 40
   },
   "kernels_config": {
    "python": {
     "delete_cmd_postfix": "",
     "delete_cmd_prefix": "del ",
     "library": "var_list.py",
     "varRefreshCmd": "print(var_dic_list())"
    },
    "r": {
     "delete_cmd_postfix": ") ",
     "delete_cmd_prefix": "rm(",
     "library": "var_list.r",
     "varRefreshCmd": "cat(var_dic_list()) "
    }
   },
   "types_to_exclude": [
    "module",
    "function",
    "builtin_function_or_method",
    "instance",
    "_Feature"
   ],
   "window_display": false
  }
 },
 "nbformat": 4,
 "nbformat_minor": 4
}
