{
 "cells": [
  {
   "cell_type": "code",
   "execution_count": 1,
   "metadata": {},
   "outputs": [
    {
     "name": "stderr",
     "output_type": "stream",
     "text": [
      "Using TensorFlow backend.\n"
     ]
    }
   ],
   "source": [
    "from cleandata import *  # analysis:ignore\n",
    "import pandas as pd\n",
    "from SVM import *  # analysis:ignore\n",
    "from datetime import datetime\n",
    "from dateutil.relativedelta import relativedelta\n",
    "from sklearn.mixture import BayesianGaussianMixture as BGM\n",
    "from LSTM import *\n",
    "from sklearn.preprocessing import StandardScaler\n",
    "from sklearn.decomposition import PCA\n",
    "from cycler import cycler\n",
    "from ML2020 import *\n",
    "import warnings\n",
    "warnings.filterwarnings(\"ignore\")"
   ]
  },
  {
   "cell_type": "markdown",
   "metadata": {},
   "source": [
    "# 1.Data Scraching and Processing"
   ]
  },
  {
   "cell_type": "markdown",
   "metadata": {},
   "source": [
    "## 1.1 Data from WRDS"
   ]
  },
  {
   "cell_type": "markdown",
   "metadata": {},
   "source": [
    "Scatching S&P500 fundamental monthly data from WRDS(Wharton Research Data Services), 'Compustat' database by SAS. The date of the role dataset is from 1/1/2013 to 6/5/2020. The number of companies included in the dataset is more than 3000 from 2014/9 to 2019/9. And number of companies is less than 500 before 2014/9 and after 2019/10. The role dataset contains 309 variables and 25937 entries. "
   ]
  },
  {
   "cell_type": "markdown",
   "metadata": {},
   "source": [
    "## 1.2 Data from Yahoo Finance"
   ]
  },
  {
   "cell_type": "markdown",
   "metadata": {},
   "source": [
    "## 1.3 Processing the data --- Median Algorithm"
   ]
  },
  {
   "cell_type": "markdown",
   "metadata": {},
   "source": [
    "Because of a large number of missing value in the dataset, the data was processed by the median algorithm:\\\n",
    "\n",
    "* Step1: Calculate the percentage of missing data in each columns.\\\n",
    "* Step2: Delete the columns with more than 30 percent missing data, 103 out of 309 variables were deleted.\\\n",
    "* Step3: Fill in each columns with median values.\\\n",
    "* Step4: To deal with the low rank problem of the dataset, random noise $Z_{ij}$ were added to the whole dataset with $Z_{ij}\\sim$ N(0,1)\n"
   ]
  },
  {
   "cell_type": "code",
   "execution_count": 2,
   "metadata": {},
   "outputs": [
    {
     "data": {
      "text/html": [
       "<div>\n",
       "<style scoped>\n",
       "    .dataframe tbody tr th:only-of-type {\n",
       "        vertical-align: middle;\n",
       "    }\n",
       "\n",
       "    .dataframe tbody tr th {\n",
       "        vertical-align: top;\n",
       "    }\n",
       "\n",
       "    .dataframe thead th {\n",
       "        text-align: right;\n",
       "    }\n",
       "</style>\n",
       "<table border=\"1\" class=\"dataframe\">\n",
       "  <thead>\n",
       "    <tr style=\"text-align: right;\">\n",
       "      <th></th>\n",
       "      <th>Unnamed: 0</th>\n",
       "      <th>permno</th>\n",
       "      <th>gvkey</th>\n",
       "      <th>fyear</th>\n",
       "      <th>sic2</th>\n",
       "      <th>spi</th>\n",
       "      <th>mve_f</th>\n",
       "      <th>bm</th>\n",
       "      <th>ep</th>\n",
       "      <th>cashpr</th>\n",
       "      <th>...</th>\n",
       "      <th>STOCHRSI_FASTD</th>\n",
       "      <th>STOCHRSI_FASTK</th>\n",
       "      <th>STOCH_SLOWD</th>\n",
       "      <th>STOCH_SLOWK</th>\n",
       "      <th>TRANGE</th>\n",
       "      <th>TYPPRICE</th>\n",
       "      <th>Volume</th>\n",
       "      <th>WCLPRICE</th>\n",
       "      <th>WILLR</th>\n",
       "      <th>lagClose</th>\n",
       "    </tr>\n",
       "  </thead>\n",
       "  <tbody>\n",
       "    <tr>\n",
       "      <th>0</th>\n",
       "      <td>0</td>\n",
       "      <td>79411</td>\n",
       "      <td>28648</td>\n",
       "      <td>2012</td>\n",
       "      <td>42</td>\n",
       "      <td>-0.002863</td>\n",
       "      <td>6889.63530</td>\n",
       "      <td>0.163084</td>\n",
       "      <td>0.056538</td>\n",
       "      <td>11.502685</td>\n",
       "      <td>...</td>\n",
       "      <td>52.655606</td>\n",
       "      <td>55.05861</td>\n",
       "      <td>60.751473</td>\n",
       "      <td>61.081358</td>\n",
       "      <td>5.87</td>\n",
       "      <td>61.469999</td>\n",
       "      <td>55489800.0</td>\n",
       "      <td>61.56250</td>\n",
       "      <td>-35.50184</td>\n",
       "      <td>61.560001</td>\n",
       "    </tr>\n",
       "    <tr>\n",
       "      <th>1</th>\n",
       "      <td>1</td>\n",
       "      <td>11081</td>\n",
       "      <td>14489</td>\n",
       "      <td>2012</td>\n",
       "      <td>22</td>\n",
       "      <td>-0.002863</td>\n",
       "      <td>23011.12000</td>\n",
       "      <td>0.464123</td>\n",
       "      <td>0.103081</td>\n",
       "      <td>-1.509500</td>\n",
       "      <td>...</td>\n",
       "      <td>52.655606</td>\n",
       "      <td>55.05861</td>\n",
       "      <td>60.751473</td>\n",
       "      <td>61.081358</td>\n",
       "      <td>5.87</td>\n",
       "      <td>61.469999</td>\n",
       "      <td>55489800.0</td>\n",
       "      <td>61.56250</td>\n",
       "      <td>-35.50184</td>\n",
       "      <td>61.560001</td>\n",
       "    </tr>\n",
       "    <tr>\n",
       "      <th>2</th>\n",
       "      <td>2</td>\n",
       "      <td>16678</td>\n",
       "      <td>6502</td>\n",
       "      <td>2012</td>\n",
       "      <td>37</td>\n",
       "      <td>-0.002863</td>\n",
       "      <td>14237.80000</td>\n",
       "      <td>0.295481</td>\n",
       "      <td>0.105143</td>\n",
       "      <td>-3.578541</td>\n",
       "      <td>...</td>\n",
       "      <td>52.655606</td>\n",
       "      <td>55.05861</td>\n",
       "      <td>60.751473</td>\n",
       "      <td>61.081358</td>\n",
       "      <td>5.87</td>\n",
       "      <td>21.068333</td>\n",
       "      <td>132791600.0</td>\n",
       "      <td>21.15625</td>\n",
       "      <td>-35.50184</td>\n",
       "      <td>20.170000</td>\n",
       "    </tr>\n",
       "    <tr>\n",
       "      <th>3</th>\n",
       "      <td>3</td>\n",
       "      <td>18403</td>\n",
       "      <td>8446</td>\n",
       "      <td>2012</td>\n",
       "      <td>36</td>\n",
       "      <td>-0.002863</td>\n",
       "      <td>4458.36900</td>\n",
       "      <td>0.711247</td>\n",
       "      <td>-0.220933</td>\n",
       "      <td>-2.544765</td>\n",
       "      <td>...</td>\n",
       "      <td>52.655606</td>\n",
       "      <td>55.05861</td>\n",
       "      <td>60.751473</td>\n",
       "      <td>61.081358</td>\n",
       "      <td>5.87</td>\n",
       "      <td>61.469999</td>\n",
       "      <td>55489800.0</td>\n",
       "      <td>61.56250</td>\n",
       "      <td>-35.50184</td>\n",
       "      <td>61.560001</td>\n",
       "    </tr>\n",
       "    <tr>\n",
       "      <th>4</th>\n",
       "      <td>4</td>\n",
       "      <td>40539</td>\n",
       "      <td>11672</td>\n",
       "      <td>2012</td>\n",
       "      <td>39</td>\n",
       "      <td>-0.002863</td>\n",
       "      <td>32705.89236</td>\n",
       "      <td>0.112088</td>\n",
       "      <td>0.058298</td>\n",
       "      <td>11.704499</td>\n",
       "      <td>...</td>\n",
       "      <td>52.655606</td>\n",
       "      <td>55.05861</td>\n",
       "      <td>60.751473</td>\n",
       "      <td>61.081358</td>\n",
       "      <td>5.87</td>\n",
       "      <td>29.405000</td>\n",
       "      <td>126245200.0</td>\n",
       "      <td>29.65250</td>\n",
       "      <td>-35.50184</td>\n",
       "      <td>28.195000</td>\n",
       "    </tr>\n",
       "  </tbody>\n",
       "</table>\n",
       "<p>5 rows × 204 columns</p>\n",
       "</div>"
      ],
      "text/plain": [
       "   Unnamed: 0  permno  gvkey  fyear  sic2       spi        mve_f        bm  \\\n",
       "0           0   79411  28648   2012    42 -0.002863   6889.63530  0.163084   \n",
       "1           1   11081  14489   2012    22 -0.002863  23011.12000  0.464123   \n",
       "2           2   16678   6502   2012    37 -0.002863  14237.80000  0.295481   \n",
       "3           3   18403   8446   2012    36 -0.002863   4458.36900  0.711247   \n",
       "4           4   40539  11672   2012    39 -0.002863  32705.89236  0.112088   \n",
       "\n",
       "         ep     cashpr    ...      STOCHRSI_FASTD  STOCHRSI_FASTK  \\\n",
       "0  0.056538  11.502685    ...           52.655606        55.05861   \n",
       "1  0.103081  -1.509500    ...           52.655606        55.05861   \n",
       "2  0.105143  -3.578541    ...           52.655606        55.05861   \n",
       "3 -0.220933  -2.544765    ...           52.655606        55.05861   \n",
       "4  0.058298  11.704499    ...           52.655606        55.05861   \n",
       "\n",
       "   STOCH_SLOWD  STOCH_SLOWK  TRANGE   TYPPRICE       Volume  WCLPRICE  \\\n",
       "0    60.751473    61.081358    5.87  61.469999   55489800.0  61.56250   \n",
       "1    60.751473    61.081358    5.87  61.469999   55489800.0  61.56250   \n",
       "2    60.751473    61.081358    5.87  21.068333  132791600.0  21.15625   \n",
       "3    60.751473    61.081358    5.87  61.469999   55489800.0  61.56250   \n",
       "4    60.751473    61.081358    5.87  29.405000  126245200.0  29.65250   \n",
       "\n",
       "      WILLR   lagClose  \n",
       "0 -35.50184  61.560001  \n",
       "1 -35.50184  61.560001  \n",
       "2 -35.50184  20.170000  \n",
       "3 -35.50184  61.560001  \n",
       "4 -35.50184  28.195000  \n",
       "\n",
       "[5 rows x 204 columns]"
      ]
     },
     "execution_count": 2,
     "metadata": {},
     "output_type": "execute_result"
    }
   ],
   "source": [
    "raw_data = pd.read_csv(\"fun_tech_2013_median.csv\")\n",
    "raw_data.head()"
   ]
  },
  {
   "cell_type": "markdown",
   "metadata": {},
   "source": [
    "## 1.4 Multicolinearity checking---Variance inflation factor(VIF)"
   ]
  },
  {
   "cell_type": "markdown",
   "metadata": {},
   "source": [
    "In order to further dealing with the low rank problem of the dataset. The VIF of the independent variables of the dataset were calculated and compared with each other. Finally 7 more variables, SINH, j, AVGPRICE, COSH, ROCP, SINH, ROCR100 were deleted due to high VIF. "
   ]
  },
  {
   "cell_type": "code",
   "execution_count": 3,
   "metadata": {},
   "outputs": [
    {
     "name": "stdout",
     "output_type": "stream",
     "text": [
      "date format corrected\n",
      "missing indicator variables deleted\n",
      "continous variables containing infinity deleted\n",
      "missing continuous variables filled in with mean\n"
     ]
    }
   ],
   "source": [
    "ML_object = MLEngineer(raw_data, num_stocks=40,\n",
    "                       trading_window = 12, algorithm='SVM', small_sample=False, pca =True)\n",
    "ML_object.data_processing()"
   ]
  },
  {
   "cell_type": "code",
   "execution_count": 4,
   "metadata": {},
   "outputs": [
    {
     "data": {
      "text/plain": [
       "<matplotlib.axes._subplots.AxesSubplot at 0x2b8884142fd0>"
      ]
     },
     "execution_count": 4,
     "metadata": {},
     "output_type": "execute_result"
    },
    {
     "data": {
      "image/png": "[encoded data removed]",
      "text/plain": [
       "<Figure size 432x288 with 1 Axes>"
      ]
     },
     "metadata": {},
     "output_type": "display_data"
    }
   ],
   "source": [
    "vif_df = ML_object.calc_vif()    \n",
    "#vif_inf_flags = np.isinf(vif_df['VIF Factor'])\n",
    "vif_inf_flags = vif_df['VIF Factor'] > 6\n",
    "vif_df.loc[vif_inf_flags==False,:].plot.density()"
   ]
  },
  {
   "cell_type": "code",
   "execution_count": 5,
   "metadata": {},
   "outputs": [
    {
     "data": {
      "text/plain": [
       "Index(['mve_f', 'agr', 'acc', 'cf', 'currat', 'pchcurrat', 'quick', 'pchquick',\n",
       "       'mve_ia', 'prc', 'mve_m', 'mve', 'pps', 'MEANEST', 'mom6m', 'chmom',\n",
       "       'retvol', 'baspread', 'beta', 'betasq', 'rsq1', 'idiovol', 'ADD',\n",
       "       'AROONDOWN', 'AROONOSC', 'AROONUP', 'ATAN', 'ATR', 'AVGPRICE',\n",
       "       'BBANDS_LOWERBAND', 'BBANDS_MIDDLEBAND', 'BBANDS_UPPERBAND', 'CCI',\n",
       "       'CMO', 'Close', 'High', 'LINEARREG', 'LINEARREG_INTERCEPT',\n",
       "       'LINEARREG_SLOPE', 'LOG10', 'Low', 'MIDPOINT', 'MIDPRICE', 'MINUS_DM',\n",
       "       'MOM', 'Open', 'PLUS_DM', 'ROC', 'ROCP', 'ROCR', 'ROCR100', 'RSI',\n",
       "       'SQRT', 'STDDEV', 'STOCHF_FASTD', 'STOCHF_FASTK', 'STOCHRSI_FASTD',\n",
       "       'STOCHRSI_FASTK', 'STOCH_SLOWD', 'STOCH_SLOWK', 'TRANGE', 'TYPPRICE',\n",
       "       'WCLPRICE', 'WILLR', 'lagClose'],\n",
       "      dtype='object')"
      ]
     },
     "execution_count": 5,
     "metadata": {},
     "output_type": "execute_result"
    }
   ],
   "source": [
    "ML_object.data_float.columns[vif_inf_flags]"
   ]
  },
  {
   "cell_type": "code",
   "execution_count": 6,
   "metadata": {},
   "outputs": [],
   "source": [
    "ML_object.clean_data = ML_object.clean_data.drop(ML_object.data_float.columns[vif_inf_flags], axis=1)"
   ]
  },
  {
   "cell_type": "markdown",
   "metadata": {},
   "source": [
    "## 1.5 Valid Trading Period"
   ]
  },
  {
   "cell_type": "code",
   "execution_count": 7,
   "metadata": {},
   "outputs": [
    {
     "data": {
      "text/plain": [
       "Text(0, 0.5, '# Obs (# Company have data at time step)')"
      ]
     },
     "execution_count": 7,
     "metadata": {},
     "output_type": "execute_result"
    },
    {
     "data": {
      "image/png": "[encoded data removed]",
      "text/plain": [
       "<Figure size 576x360 with 1 Axes>"
      ]
     },
     "metadata": {},
     "output_type": "display_data"
    }
   ],
   "source": [
    "import matplotlib.ticker as plticker\n",
    "loc = plticker.MultipleLocator(base=3.0) # this locator puts ticks at regular intervals\n",
    "fig, ax = plt.subplots(figsize=(8,5))\n",
    "ax.xaxis.set_major_locator(loc)\n",
    "\n",
    "#ax.plot(ML_object.date_list.strftime('%Y-%m'), ML_object.clean_data.groupby('DATE').count()['RET'].values)\n",
    "ML_object.clean_data.groupby('DATE').count()['RET'].plot()\n",
    "plt.xticks(rotation=45)\n",
    "plt.ylabel('# Obs (# Company have data at time step)')"
   ]
  },
  {
   "cell_type": "markdown",
   "metadata": {},
   "source": [
    "In our ML training, we focused on the time period between $\\textbf{2015/09}\\ and\\ \\textbf{2019/07}$,during which time, there is at least 400 companies at each month"
   ]
  },
  {
   "cell_type": "markdown",
   "metadata": {},
   "source": [
    "# 2. Machine Learning Trading Framework"
   ]
  },
  {
   "cell_type": "markdown",
   "metadata": {},
   "source": [
    "## 2.1 Time Step $T_i$"
   ]
  },
  {
   "cell_type": "markdown",
   "metadata": {},
   "source": [
    "In our Machine Learning project, we conducted out of sample trading test based upon monthly window, at every timestep $T_i \\in [2015/09, 2019/07]$, we constructed training dataset with $M$ months by looking back M months to timestep $T_i$, Thus for every $T_i$, there are roughtly $M*400 \\approx 4800 (M=12)$ data points as the training dataset to predict the return on time $T_i$\n"
   ]
  },
  {
   "cell_type": "code",
   "execution_count": 8,
   "metadata": {},
   "outputs": [
    {
     "data": {
      "text/html": [
       "<div>\n",
       "<style scoped>\n",
       "    .dataframe tbody tr th:only-of-type {\n",
       "        vertical-align: middle;\n",
       "    }\n",
       "\n",
       "    .dataframe tbody tr th {\n",
       "        vertical-align: top;\n",
       "    }\n",
       "\n",
       "    .dataframe thead th {\n",
       "        text-align: right;\n",
       "    }\n",
       "</style>\n",
       "<table border=\"1\" class=\"dataframe\">\n",
       "  <thead>\n",
       "    <tr style=\"text-align: right;\">\n",
       "      <th></th>\n",
       "      <th>sic2</th>\n",
       "      <th>age</th>\n",
       "      <th>spii</th>\n",
       "      <th>woGW</th>\n",
       "      <th>sin</th>\n",
       "      <th>divi</th>\n",
       "      <th>divo</th>\n",
       "      <th>securedind</th>\n",
       "      <th>convind</th>\n",
       "      <th>rd</th>\n",
       "      <th>...</th>\n",
       "      <th>BETA</th>\n",
       "      <th>BOP</th>\n",
       "      <th>COS</th>\n",
       "      <th>LINEARREG_ANGLE</th>\n",
       "      <th>MFI</th>\n",
       "      <th>MINUS_DI</th>\n",
       "      <th>NATR</th>\n",
       "      <th>OBV</th>\n",
       "      <th>PLUS_DI</th>\n",
       "      <th>Volume</th>\n",
       "    </tr>\n",
       "  </thead>\n",
       "  <tbody>\n",
       "    <tr>\n",
       "      <th>1293</th>\n",
       "      <td>52</td>\n",
       "      <td>1</td>\n",
       "      <td>1</td>\n",
       "      <td>0</td>\n",
       "      <td>0</td>\n",
       "      <td>0</td>\n",
       "      <td>0</td>\n",
       "      <td>1</td>\n",
       "      <td>0</td>\n",
       "      <td>0</td>\n",
       "      <td>...</td>\n",
       "      <td>-0.003996</td>\n",
       "      <td>0.305150</td>\n",
       "      <td>0.311784</td>\n",
       "      <td>0.084701</td>\n",
       "      <td>0.027372</td>\n",
       "      <td>-0.055628</td>\n",
       "      <td>-0.029759</td>\n",
       "      <td>0.430108</td>\n",
       "      <td>-0.079557</td>\n",
       "      <td>1.562245</td>\n",
       "    </tr>\n",
       "    <tr>\n",
       "      <th>1294</th>\n",
       "      <td>52</td>\n",
       "      <td>1</td>\n",
       "      <td>1</td>\n",
       "      <td>0</td>\n",
       "      <td>0</td>\n",
       "      <td>0</td>\n",
       "      <td>0</td>\n",
       "      <td>0</td>\n",
       "      <td>0</td>\n",
       "      <td>0</td>\n",
       "      <td>...</td>\n",
       "      <td>-0.003872</td>\n",
       "      <td>0.158028</td>\n",
       "      <td>-1.471912</td>\n",
       "      <td>0.084701</td>\n",
       "      <td>0.027372</td>\n",
       "      <td>-0.055628</td>\n",
       "      <td>-0.029759</td>\n",
       "      <td>4.544802</td>\n",
       "      <td>-0.079557</td>\n",
       "      <td>4.582742</td>\n",
       "    </tr>\n",
       "    <tr>\n",
       "      <th>1295</th>\n",
       "      <td>45</td>\n",
       "      <td>1</td>\n",
       "      <td>1</td>\n",
       "      <td>0</td>\n",
       "      <td>0</td>\n",
       "      <td>0</td>\n",
       "      <td>0</td>\n",
       "      <td>0</td>\n",
       "      <td>0</td>\n",
       "      <td>0</td>\n",
       "      <td>...</td>\n",
       "      <td>-0.004016</td>\n",
       "      <td>0.567050</td>\n",
       "      <td>1.348948</td>\n",
       "      <td>0.084701</td>\n",
       "      <td>0.027372</td>\n",
       "      <td>-0.055628</td>\n",
       "      <td>-0.029759</td>\n",
       "      <td>-0.233981</td>\n",
       "      <td>-0.079557</td>\n",
       "      <td>-0.360656</td>\n",
       "    </tr>\n",
       "    <tr>\n",
       "      <th>1296</th>\n",
       "      <td>59</td>\n",
       "      <td>1</td>\n",
       "      <td>1</td>\n",
       "      <td>0</td>\n",
       "      <td>0</td>\n",
       "      <td>0</td>\n",
       "      <td>0</td>\n",
       "      <td>0</td>\n",
       "      <td>0</td>\n",
       "      <td>0</td>\n",
       "      <td>...</td>\n",
       "      <td>-0.003631</td>\n",
       "      <td>0.356423</td>\n",
       "      <td>-1.289594</td>\n",
       "      <td>0.084701</td>\n",
       "      <td>0.027372</td>\n",
       "      <td>-0.055628</td>\n",
       "      <td>-0.029759</td>\n",
       "      <td>-0.157283</td>\n",
       "      <td>-0.079557</td>\n",
       "      <td>0.000744</td>\n",
       "    </tr>\n",
       "    <tr>\n",
       "      <th>1297</th>\n",
       "      <td>22</td>\n",
       "      <td>1</td>\n",
       "      <td>1</td>\n",
       "      <td>0</td>\n",
       "      <td>0</td>\n",
       "      <td>0</td>\n",
       "      <td>0</td>\n",
       "      <td>0</td>\n",
       "      <td>0</td>\n",
       "      <td>0</td>\n",
       "      <td>...</td>\n",
       "      <td>-0.003913</td>\n",
       "      <td>0.041615</td>\n",
       "      <td>0.006783</td>\n",
       "      <td>0.084701</td>\n",
       "      <td>0.027372</td>\n",
       "      <td>-0.055628</td>\n",
       "      <td>-0.029759</td>\n",
       "      <td>-0.157000</td>\n",
       "      <td>-0.079557</td>\n",
       "      <td>-0.262713</td>\n",
       "    </tr>\n",
       "    <tr>\n",
       "      <th>1298</th>\n",
       "      <td>23</td>\n",
       "      <td>1</td>\n",
       "      <td>0</td>\n",
       "      <td>0</td>\n",
       "      <td>0</td>\n",
       "      <td>0</td>\n",
       "      <td>0</td>\n",
       "      <td>0</td>\n",
       "      <td>0</td>\n",
       "      <td>0</td>\n",
       "      <td>...</td>\n",
       "      <td>-0.003913</td>\n",
       "      <td>0.041615</td>\n",
       "      <td>0.006783</td>\n",
       "      <td>0.084701</td>\n",
       "      <td>0.027372</td>\n",
       "      <td>-0.055628</td>\n",
       "      <td>-0.029759</td>\n",
       "      <td>-0.157000</td>\n",
       "      <td>-0.079557</td>\n",
       "      <td>-0.262713</td>\n",
       "    </tr>\n",
       "    <tr>\n",
       "      <th>1299</th>\n",
       "      <td>9</td>\n",
       "      <td>1</td>\n",
       "      <td>1</td>\n",
       "      <td>1</td>\n",
       "      <td>0</td>\n",
       "      <td>0</td>\n",
       "      <td>0</td>\n",
       "      <td>0</td>\n",
       "      <td>0</td>\n",
       "      <td>0</td>\n",
       "      <td>...</td>\n",
       "      <td>-0.003467</td>\n",
       "      <td>-0.977920</td>\n",
       "      <td>-1.482907</td>\n",
       "      <td>0.084701</td>\n",
       "      <td>0.027372</td>\n",
       "      <td>-0.055628</td>\n",
       "      <td>-0.029759</td>\n",
       "      <td>-0.070606</td>\n",
       "      <td>-0.079557</td>\n",
       "      <td>0.056911</td>\n",
       "    </tr>\n",
       "    <tr>\n",
       "      <th>1300</th>\n",
       "      <td>52</td>\n",
       "      <td>1</td>\n",
       "      <td>1</td>\n",
       "      <td>0</td>\n",
       "      <td>0</td>\n",
       "      <td>0</td>\n",
       "      <td>0</td>\n",
       "      <td>0</td>\n",
       "      <td>0</td>\n",
       "      <td>0</td>\n",
       "      <td>...</td>\n",
       "      <td>-0.004397</td>\n",
       "      <td>0.905552</td>\n",
       "      <td>-1.469653</td>\n",
       "      <td>0.084701</td>\n",
       "      <td>0.027372</td>\n",
       "      <td>-0.055628</td>\n",
       "      <td>-0.029759</td>\n",
       "      <td>-0.074947</td>\n",
       "      <td>-0.079557</td>\n",
       "      <td>-0.242282</td>\n",
       "    </tr>\n",
       "    <tr>\n",
       "      <th>1301</th>\n",
       "      <td>52</td>\n",
       "      <td>1</td>\n",
       "      <td>1</td>\n",
       "      <td>0</td>\n",
       "      <td>0</td>\n",
       "      <td>0</td>\n",
       "      <td>0</td>\n",
       "      <td>1</td>\n",
       "      <td>0</td>\n",
       "      <td>0</td>\n",
       "      <td>...</td>\n",
       "      <td>-0.004485</td>\n",
       "      <td>0.888484</td>\n",
       "      <td>1.283659</td>\n",
       "      <td>0.084701</td>\n",
       "      <td>0.027372</td>\n",
       "      <td>-0.055628</td>\n",
       "      <td>-0.029759</td>\n",
       "      <td>-0.160922</td>\n",
       "      <td>-0.079557</td>\n",
       "      <td>-0.339451</td>\n",
       "    </tr>\n",
       "    <tr>\n",
       "      <th>1302</th>\n",
       "      <td>9</td>\n",
       "      <td>1</td>\n",
       "      <td>1</td>\n",
       "      <td>0</td>\n",
       "      <td>0</td>\n",
       "      <td>0</td>\n",
       "      <td>0</td>\n",
       "      <td>0</td>\n",
       "      <td>0</td>\n",
       "      <td>0</td>\n",
       "      <td>...</td>\n",
       "      <td>-0.004101</td>\n",
       "      <td>-0.400191</td>\n",
       "      <td>-0.763076</td>\n",
       "      <td>0.084701</td>\n",
       "      <td>0.027372</td>\n",
       "      <td>-0.055628</td>\n",
       "      <td>-0.029759</td>\n",
       "      <td>1.167067</td>\n",
       "      <td>-0.079557</td>\n",
       "      <td>2.618517</td>\n",
       "    </tr>\n",
       "    <tr>\n",
       "      <th>1303</th>\n",
       "      <td>32</td>\n",
       "      <td>1</td>\n",
       "      <td>1</td>\n",
       "      <td>0</td>\n",
       "      <td>0</td>\n",
       "      <td>0</td>\n",
       "      <td>0</td>\n",
       "      <td>0</td>\n",
       "      <td>0</td>\n",
       "      <td>0</td>\n",
       "      <td>...</td>\n",
       "      <td>-0.004113</td>\n",
       "      <td>1.581658</td>\n",
       "      <td>1.268973</td>\n",
       "      <td>0.084701</td>\n",
       "      <td>0.027372</td>\n",
       "      <td>-0.055628</td>\n",
       "      <td>-0.029759</td>\n",
       "      <td>-0.251067</td>\n",
       "      <td>-0.079557</td>\n",
       "      <td>-0.172511</td>\n",
       "    </tr>\n",
       "    <tr>\n",
       "      <th>1304</th>\n",
       "      <td>15</td>\n",
       "      <td>1</td>\n",
       "      <td>1</td>\n",
       "      <td>0</td>\n",
       "      <td>0</td>\n",
       "      <td>0</td>\n",
       "      <td>0</td>\n",
       "      <td>0</td>\n",
       "      <td>0</td>\n",
       "      <td>0</td>\n",
       "      <td>...</td>\n",
       "      <td>-0.003913</td>\n",
       "      <td>0.041615</td>\n",
       "      <td>0.006783</td>\n",
       "      <td>0.084701</td>\n",
       "      <td>0.027372</td>\n",
       "      <td>-0.055628</td>\n",
       "      <td>-0.029759</td>\n",
       "      <td>-0.157000</td>\n",
       "      <td>-0.079557</td>\n",
       "      <td>-0.262713</td>\n",
       "    </tr>\n",
       "    <tr>\n",
       "      <th>1305</th>\n",
       "      <td>25</td>\n",
       "      <td>1</td>\n",
       "      <td>1</td>\n",
       "      <td>0</td>\n",
       "      <td>0</td>\n",
       "      <td>0</td>\n",
       "      <td>0</td>\n",
       "      <td>0</td>\n",
       "      <td>0</td>\n",
       "      <td>0</td>\n",
       "      <td>...</td>\n",
       "      <td>-0.004139</td>\n",
       "      <td>1.328942</td>\n",
       "      <td>1.286269</td>\n",
       "      <td>0.084701</td>\n",
       "      <td>0.027372</td>\n",
       "      <td>-0.055628</td>\n",
       "      <td>-0.029759</td>\n",
       "      <td>-0.257654</td>\n",
       "      <td>-0.079557</td>\n",
       "      <td>-0.455673</td>\n",
       "    </tr>\n",
       "    <tr>\n",
       "      <th>1306</th>\n",
       "      <td>33</td>\n",
       "      <td>1</td>\n",
       "      <td>0</td>\n",
       "      <td>0</td>\n",
       "      <td>0</td>\n",
       "      <td>0</td>\n",
       "      <td>0</td>\n",
       "      <td>0</td>\n",
       "      <td>0</td>\n",
       "      <td>0</td>\n",
       "      <td>...</td>\n",
       "      <td>-0.003926</td>\n",
       "      <td>-0.431862</td>\n",
       "      <td>-1.493653</td>\n",
       "      <td>0.084701</td>\n",
       "      <td>0.027372</td>\n",
       "      <td>-0.055628</td>\n",
       "      <td>-0.029759</td>\n",
       "      <td>-0.272455</td>\n",
       "      <td>-0.079557</td>\n",
       "      <td>0.041454</td>\n",
       "    </tr>\n",
       "    <tr>\n",
       "      <th>1307</th>\n",
       "      <td>32</td>\n",
       "      <td>1</td>\n",
       "      <td>1</td>\n",
       "      <td>0</td>\n",
       "      <td>0</td>\n",
       "      <td>0</td>\n",
       "      <td>0</td>\n",
       "      <td>0</td>\n",
       "      <td>0</td>\n",
       "      <td>0</td>\n",
       "      <td>...</td>\n",
       "      <td>-0.003930</td>\n",
       "      <td>1.681631</td>\n",
       "      <td>1.304409</td>\n",
       "      <td>0.084701</td>\n",
       "      <td>0.027372</td>\n",
       "      <td>-0.055628</td>\n",
       "      <td>-0.029759</td>\n",
       "      <td>-0.228041</td>\n",
       "      <td>-0.079557</td>\n",
       "      <td>-0.397428</td>\n",
       "    </tr>\n",
       "    <tr>\n",
       "      <th>1308</th>\n",
       "      <td>15</td>\n",
       "      <td>1</td>\n",
       "      <td>1</td>\n",
       "      <td>0</td>\n",
       "      <td>0</td>\n",
       "      <td>0</td>\n",
       "      <td>0</td>\n",
       "      <td>1</td>\n",
       "      <td>0</td>\n",
       "      <td>0</td>\n",
       "      <td>...</td>\n",
       "      <td>-0.003913</td>\n",
       "      <td>0.041615</td>\n",
       "      <td>0.006783</td>\n",
       "      <td>0.084701</td>\n",
       "      <td>0.027372</td>\n",
       "      <td>-0.055628</td>\n",
       "      <td>-0.029759</td>\n",
       "      <td>-0.157000</td>\n",
       "      <td>-0.079557</td>\n",
       "      <td>-0.262713</td>\n",
       "    </tr>\n",
       "    <tr>\n",
       "      <th>1309</th>\n",
       "      <td>23</td>\n",
       "      <td>1</td>\n",
       "      <td>1</td>\n",
       "      <td>0</td>\n",
       "      <td>0</td>\n",
       "      <td>0</td>\n",
       "      <td>0</td>\n",
       "      <td>0</td>\n",
       "      <td>0</td>\n",
       "      <td>0</td>\n",
       "      <td>...</td>\n",
       "      <td>-0.004057</td>\n",
       "      <td>0.824259</td>\n",
       "      <td>1.098072</td>\n",
       "      <td>0.084701</td>\n",
       "      <td>0.027372</td>\n",
       "      <td>-0.055628</td>\n",
       "      <td>-0.029759</td>\n",
       "      <td>-0.076256</td>\n",
       "      <td>-0.079557</td>\n",
       "      <td>-0.029350</td>\n",
       "    </tr>\n",
       "    <tr>\n",
       "      <th>1310</th>\n",
       "      <td>16</td>\n",
       "      <td>1</td>\n",
       "      <td>0</td>\n",
       "      <td>0</td>\n",
       "      <td>0</td>\n",
       "      <td>0</td>\n",
       "      <td>0</td>\n",
       "      <td>1</td>\n",
       "      <td>0</td>\n",
       "      <td>0</td>\n",
       "      <td>...</td>\n",
       "      <td>-0.003928</td>\n",
       "      <td>0.398963</td>\n",
       "      <td>-1.165077</td>\n",
       "      <td>0.084701</td>\n",
       "      <td>0.027372</td>\n",
       "      <td>-0.055628</td>\n",
       "      <td>-0.029759</td>\n",
       "      <td>0.738266</td>\n",
       "      <td>-0.079557</td>\n",
       "      <td>1.478051</td>\n",
       "    </tr>\n",
       "    <tr>\n",
       "      <th>1311</th>\n",
       "      <td>32</td>\n",
       "      <td>1</td>\n",
       "      <td>1</td>\n",
       "      <td>1</td>\n",
       "      <td>0</td>\n",
       "      <td>0</td>\n",
       "      <td>0</td>\n",
       "      <td>0</td>\n",
       "      <td>0</td>\n",
       "      <td>0</td>\n",
       "      <td>...</td>\n",
       "      <td>-0.004531</td>\n",
       "      <td>0.556714</td>\n",
       "      <td>0.276101</td>\n",
       "      <td>0.084701</td>\n",
       "      <td>0.027372</td>\n",
       "      <td>-0.055628</td>\n",
       "      <td>-0.029759</td>\n",
       "      <td>-0.113452</td>\n",
       "      <td>-0.079557</td>\n",
       "      <td>-0.302900</td>\n",
       "    </tr>\n",
       "    <tr>\n",
       "      <th>1312</th>\n",
       "      <td>24</td>\n",
       "      <td>1</td>\n",
       "      <td>1</td>\n",
       "      <td>0</td>\n",
       "      <td>0</td>\n",
       "      <td>0</td>\n",
       "      <td>0</td>\n",
       "      <td>0</td>\n",
       "      <td>0</td>\n",
       "      <td>0</td>\n",
       "      <td>...</td>\n",
       "      <td>-0.004362</td>\n",
       "      <td>0.919469</td>\n",
       "      <td>0.048952</td>\n",
       "      <td>0.084701</td>\n",
       "      <td>0.027372</td>\n",
       "      <td>-0.055628</td>\n",
       "      <td>-0.029759</td>\n",
       "      <td>-0.058315</td>\n",
       "      <td>-0.079557</td>\n",
       "      <td>-0.289342</td>\n",
       "    </tr>\n",
       "    <tr>\n",
       "      <th>1313</th>\n",
       "      <td>59</td>\n",
       "      <td>1</td>\n",
       "      <td>1</td>\n",
       "      <td>0</td>\n",
       "      <td>0</td>\n",
       "      <td>0</td>\n",
       "      <td>0</td>\n",
       "      <td>1</td>\n",
       "      <td>0</td>\n",
       "      <td>0</td>\n",
       "      <td>...</td>\n",
       "      <td>-0.003745</td>\n",
       "      <td>0.217844</td>\n",
       "      <td>1.397844</td>\n",
       "      <td>0.084701</td>\n",
       "      <td>0.027372</td>\n",
       "      <td>-0.055628</td>\n",
       "      <td>-0.029759</td>\n",
       "      <td>1.600817</td>\n",
       "      <td>-0.079557</td>\n",
       "      <td>4.549554</td>\n",
       "    </tr>\n",
       "    <tr>\n",
       "      <th>1314</th>\n",
       "      <td>56</td>\n",
       "      <td>1</td>\n",
       "      <td>1</td>\n",
       "      <td>0</td>\n",
       "      <td>0</td>\n",
       "      <td>0</td>\n",
       "      <td>0</td>\n",
       "      <td>1</td>\n",
       "      <td>0</td>\n",
       "      <td>0</td>\n",
       "      <td>...</td>\n",
       "      <td>-0.003290</td>\n",
       "      <td>0.945265</td>\n",
       "      <td>-1.177667</td>\n",
       "      <td>0.084701</td>\n",
       "      <td>0.027372</td>\n",
       "      <td>-0.055628</td>\n",
       "      <td>-0.029759</td>\n",
       "      <td>-0.233330</td>\n",
       "      <td>-0.079557</td>\n",
       "      <td>-0.498146</td>\n",
       "    </tr>\n",
       "    <tr>\n",
       "      <th>1315</th>\n",
       "      <td>43</td>\n",
       "      <td>1</td>\n",
       "      <td>0</td>\n",
       "      <td>0</td>\n",
       "      <td>0</td>\n",
       "      <td>0</td>\n",
       "      <td>0</td>\n",
       "      <td>0</td>\n",
       "      <td>0</td>\n",
       "      <td>0</td>\n",
       "      <td>...</td>\n",
       "      <td>-0.003735</td>\n",
       "      <td>0.126498</td>\n",
       "      <td>-0.700010</td>\n",
       "      <td>0.084701</td>\n",
       "      <td>0.027372</td>\n",
       "      <td>-0.055628</td>\n",
       "      <td>-0.029759</td>\n",
       "      <td>-0.294178</td>\n",
       "      <td>-0.079557</td>\n",
       "      <td>0.053938</td>\n",
       "    </tr>\n",
       "    <tr>\n",
       "      <th>1316</th>\n",
       "      <td>22</td>\n",
       "      <td>1</td>\n",
       "      <td>1</td>\n",
       "      <td>0</td>\n",
       "      <td>0</td>\n",
       "      <td>0</td>\n",
       "      <td>0</td>\n",
       "      <td>0</td>\n",
       "      <td>0</td>\n",
       "      <td>0</td>\n",
       "      <td>...</td>\n",
       "      <td>-0.004117</td>\n",
       "      <td>-0.120254</td>\n",
       "      <td>1.470412</td>\n",
       "      <td>0.084701</td>\n",
       "      <td>0.027372</td>\n",
       "      <td>-0.055628</td>\n",
       "      <td>-0.029759</td>\n",
       "      <td>-0.293347</td>\n",
       "      <td>-0.079557</td>\n",
       "      <td>-0.593773</td>\n",
       "    </tr>\n",
       "    <tr>\n",
       "      <th>1317</th>\n",
       "      <td>52</td>\n",
       "      <td>1</td>\n",
       "      <td>1</td>\n",
       "      <td>0</td>\n",
       "      <td>0</td>\n",
       "      <td>0</td>\n",
       "      <td>0</td>\n",
       "      <td>0</td>\n",
       "      <td>0</td>\n",
       "      <td>0</td>\n",
       "      <td>...</td>\n",
       "      <td>-0.003826</td>\n",
       "      <td>-1.826910</td>\n",
       "      <td>0.742508</td>\n",
       "      <td>0.084701</td>\n",
       "      <td>0.027372</td>\n",
       "      <td>-0.055628</td>\n",
       "      <td>-0.029759</td>\n",
       "      <td>-0.059743</td>\n",
       "      <td>-0.079557</td>\n",
       "      <td>0.288573</td>\n",
       "    </tr>\n",
       "    <tr>\n",
       "      <th>1318</th>\n",
       "      <td>32</td>\n",
       "      <td>1</td>\n",
       "      <td>1</td>\n",
       "      <td>0</td>\n",
       "      <td>0</td>\n",
       "      <td>0</td>\n",
       "      <td>0</td>\n",
       "      <td>0</td>\n",
       "      <td>0</td>\n",
       "      <td>0</td>\n",
       "      <td>...</td>\n",
       "      <td>-0.004067</td>\n",
       "      <td>-0.010403</td>\n",
       "      <td>0.788322</td>\n",
       "      <td>0.084701</td>\n",
       "      <td>0.027372</td>\n",
       "      <td>-0.055628</td>\n",
       "      <td>-0.029759</td>\n",
       "      <td>0.467784</td>\n",
       "      <td>-0.079557</td>\n",
       "      <td>1.459846</td>\n",
       "    </tr>\n",
       "    <tr>\n",
       "      <th>1319</th>\n",
       "      <td>16</td>\n",
       "      <td>1</td>\n",
       "      <td>1</td>\n",
       "      <td>0</td>\n",
       "      <td>0</td>\n",
       "      <td>0</td>\n",
       "      <td>0</td>\n",
       "      <td>1</td>\n",
       "      <td>0</td>\n",
       "      <td>0</td>\n",
       "      <td>...</td>\n",
       "      <td>-0.003739</td>\n",
       "      <td>0.564336</td>\n",
       "      <td>0.140939</td>\n",
       "      <td>0.084701</td>\n",
       "      <td>0.027372</td>\n",
       "      <td>-0.055628</td>\n",
       "      <td>-0.029759</td>\n",
       "      <td>0.030440</td>\n",
       "      <td>-0.079557</td>\n",
       "      <td>0.423237</td>\n",
       "    </tr>\n",
       "    <tr>\n",
       "      <th>1320</th>\n",
       "      <td>22</td>\n",
       "      <td>1</td>\n",
       "      <td>1</td>\n",
       "      <td>1</td>\n",
       "      <td>0</td>\n",
       "      <td>0</td>\n",
       "      <td>0</td>\n",
       "      <td>1</td>\n",
       "      <td>0</td>\n",
       "      <td>0</td>\n",
       "      <td>...</td>\n",
       "      <td>-0.003627</td>\n",
       "      <td>0.246876</td>\n",
       "      <td>0.328800</td>\n",
       "      <td>0.084701</td>\n",
       "      <td>0.027372</td>\n",
       "      <td>-0.055628</td>\n",
       "      <td>-0.029759</td>\n",
       "      <td>-0.223171</td>\n",
       "      <td>-0.079557</td>\n",
       "      <td>-0.431775</td>\n",
       "    </tr>\n",
       "    <tr>\n",
       "      <th>1321</th>\n",
       "      <td>4</td>\n",
       "      <td>1</td>\n",
       "      <td>1</td>\n",
       "      <td>0</td>\n",
       "      <td>0</td>\n",
       "      <td>0</td>\n",
       "      <td>0</td>\n",
       "      <td>0</td>\n",
       "      <td>0</td>\n",
       "      <td>0</td>\n",
       "      <td>...</td>\n",
       "      <td>-0.003653</td>\n",
       "      <td>-1.299878</td>\n",
       "      <td>1.417103</td>\n",
       "      <td>0.084701</td>\n",
       "      <td>0.027372</td>\n",
       "      <td>-0.055628</td>\n",
       "      <td>-0.029759</td>\n",
       "      <td>-0.342301</td>\n",
       "      <td>-0.079557</td>\n",
       "      <td>-0.048778</td>\n",
       "    </tr>\n",
       "    <tr>\n",
       "      <th>1322</th>\n",
       "      <td>52</td>\n",
       "      <td>1</td>\n",
       "      <td>1</td>\n",
       "      <td>0</td>\n",
       "      <td>0</td>\n",
       "      <td>0</td>\n",
       "      <td>0</td>\n",
       "      <td>0</td>\n",
       "      <td>0</td>\n",
       "      <td>0</td>\n",
       "      <td>...</td>\n",
       "      <td>-0.003586</td>\n",
       "      <td>-0.417810</td>\n",
       "      <td>1.126714</td>\n",
       "      <td>0.084701</td>\n",
       "      <td>0.027372</td>\n",
       "      <td>-0.055628</td>\n",
       "      <td>-0.029759</td>\n",
       "      <td>-0.308499</td>\n",
       "      <td>-0.079557</td>\n",
       "      <td>-0.293520</td>\n",
       "    </tr>\n",
       "    <tr>\n",
       "      <th>...</th>\n",
       "      <td>...</td>\n",
       "      <td>...</td>\n",
       "      <td>...</td>\n",
       "      <td>...</td>\n",
       "      <td>...</td>\n",
       "      <td>...</td>\n",
       "      <td>...</td>\n",
       "      <td>...</td>\n",
       "      <td>...</td>\n",
       "      <td>...</td>\n",
       "      <td>...</td>\n",
       "      <td>...</td>\n",
       "      <td>...</td>\n",
       "      <td>...</td>\n",
       "      <td>...</td>\n",
       "      <td>...</td>\n",
       "      <td>...</td>\n",
       "      <td>...</td>\n",
       "      <td>...</td>\n",
       "      <td>...</td>\n",
       "      <td>...</td>\n",
       "    </tr>\n",
       "    <tr>\n",
       "      <th>6737</th>\n",
       "      <td>31</td>\n",
       "      <td>2</td>\n",
       "      <td>1</td>\n",
       "      <td>0</td>\n",
       "      <td>0</td>\n",
       "      <td>0</td>\n",
       "      <td>0</td>\n",
       "      <td>1</td>\n",
       "      <td>0</td>\n",
       "      <td>0</td>\n",
       "      <td>...</td>\n",
       "      <td>-0.003913</td>\n",
       "      <td>0.041615</td>\n",
       "      <td>0.006783</td>\n",
       "      <td>0.084701</td>\n",
       "      <td>0.027372</td>\n",
       "      <td>-0.055628</td>\n",
       "      <td>-0.029759</td>\n",
       "      <td>-0.157000</td>\n",
       "      <td>-0.079557</td>\n",
       "      <td>-0.262713</td>\n",
       "    </tr>\n",
       "    <tr>\n",
       "      <th>6738</th>\n",
       "      <td>4</td>\n",
       "      <td>2</td>\n",
       "      <td>1</td>\n",
       "      <td>1</td>\n",
       "      <td>0</td>\n",
       "      <td>0</td>\n",
       "      <td>0</td>\n",
       "      <td>0</td>\n",
       "      <td>0</td>\n",
       "      <td>0</td>\n",
       "      <td>...</td>\n",
       "      <td>-0.003380</td>\n",
       "      <td>-1.236604</td>\n",
       "      <td>-0.138359</td>\n",
       "      <td>-1.427155</td>\n",
       "      <td>-2.358175</td>\n",
       "      <td>2.538621</td>\n",
       "      <td>-0.023749</td>\n",
       "      <td>-1.120126</td>\n",
       "      <td>-1.580573</td>\n",
       "      <td>0.600066</td>\n",
       "    </tr>\n",
       "    <tr>\n",
       "      <th>6739</th>\n",
       "      <td>45</td>\n",
       "      <td>2</td>\n",
       "      <td>1</td>\n",
       "      <td>0</td>\n",
       "      <td>0</td>\n",
       "      <td>0</td>\n",
       "      <td>0</td>\n",
       "      <td>0</td>\n",
       "      <td>0</td>\n",
       "      <td>0</td>\n",
       "      <td>...</td>\n",
       "      <td>-0.004162</td>\n",
       "      <td>1.424555</td>\n",
       "      <td>-1.489869</td>\n",
       "      <td>0.628536</td>\n",
       "      <td>1.033749</td>\n",
       "      <td>-1.360517</td>\n",
       "      <td>-0.030223</td>\n",
       "      <td>-0.154952</td>\n",
       "      <td>0.389855</td>\n",
       "      <td>-0.462731</td>\n",
       "    </tr>\n",
       "    <tr>\n",
       "      <th>6740</th>\n",
       "      <td>31</td>\n",
       "      <td>2</td>\n",
       "      <td>1</td>\n",
       "      <td>0</td>\n",
       "      <td>0</td>\n",
       "      <td>1</td>\n",
       "      <td>0</td>\n",
       "      <td>1</td>\n",
       "      <td>0</td>\n",
       "      <td>0</td>\n",
       "      <td>...</td>\n",
       "      <td>-0.004055</td>\n",
       "      <td>-0.120254</td>\n",
       "      <td>0.913160</td>\n",
       "      <td>-1.342952</td>\n",
       "      <td>-0.428887</td>\n",
       "      <td>1.263772</td>\n",
       "      <td>-0.027452</td>\n",
       "      <td>-0.622219</td>\n",
       "      <td>-2.220512</td>\n",
       "      <td>-0.111582</td>\n",
       "    </tr>\n",
       "    <tr>\n",
       "      <th>6741</th>\n",
       "      <td>30</td>\n",
       "      <td>2</td>\n",
       "      <td>1</td>\n",
       "      <td>1</td>\n",
       "      <td>0</td>\n",
       "      <td>0</td>\n",
       "      <td>0</td>\n",
       "      <td>0</td>\n",
       "      <td>0</td>\n",
       "      <td>0</td>\n",
       "      <td>...</td>\n",
       "      <td>-0.004156</td>\n",
       "      <td>0.483370</td>\n",
       "      <td>-0.203433</td>\n",
       "      <td>1.482534</td>\n",
       "      <td>1.906398</td>\n",
       "      <td>-1.920078</td>\n",
       "      <td>-0.029469</td>\n",
       "      <td>0.054157</td>\n",
       "      <td>1.470288</td>\n",
       "      <td>-0.371819</td>\n",
       "    </tr>\n",
       "    <tr>\n",
       "      <th>6742</th>\n",
       "      <td>15</td>\n",
       "      <td>2</td>\n",
       "      <td>1</td>\n",
       "      <td>0</td>\n",
       "      <td>0</td>\n",
       "      <td>0</td>\n",
       "      <td>0</td>\n",
       "      <td>0</td>\n",
       "      <td>0</td>\n",
       "      <td>0</td>\n",
       "      <td>...</td>\n",
       "      <td>-0.003791</td>\n",
       "      <td>-1.579836</td>\n",
       "      <td>0.889275</td>\n",
       "      <td>-0.019409</td>\n",
       "      <td>-0.282252</td>\n",
       "      <td>0.061088</td>\n",
       "      <td>-0.028051</td>\n",
       "      <td>0.061594</td>\n",
       "      <td>-0.037192</td>\n",
       "      <td>-0.267194</td>\n",
       "    </tr>\n",
       "    <tr>\n",
       "      <th>6743</th>\n",
       "      <td>45</td>\n",
       "      <td>2</td>\n",
       "      <td>0</td>\n",
       "      <td>0</td>\n",
       "      <td>0</td>\n",
       "      <td>0</td>\n",
       "      <td>0</td>\n",
       "      <td>0</td>\n",
       "      <td>0</td>\n",
       "      <td>0</td>\n",
       "      <td>...</td>\n",
       "      <td>-0.004511</td>\n",
       "      <td>-0.301247</td>\n",
       "      <td>-1.016877</td>\n",
       "      <td>-1.427121</td>\n",
       "      <td>-1.339059</td>\n",
       "      <td>1.701947</td>\n",
       "      <td>-0.029461</td>\n",
       "      <td>-0.218649</td>\n",
       "      <td>-0.913461</td>\n",
       "      <td>-0.439668</td>\n",
       "    </tr>\n",
       "    <tr>\n",
       "      <th>6744</th>\n",
       "      <td>45</td>\n",
       "      <td>2</td>\n",
       "      <td>1</td>\n",
       "      <td>0</td>\n",
       "      <td>0</td>\n",
       "      <td>0</td>\n",
       "      <td>0</td>\n",
       "      <td>0</td>\n",
       "      <td>0</td>\n",
       "      <td>0</td>\n",
       "      <td>...</td>\n",
       "      <td>-0.004144</td>\n",
       "      <td>1.296716</td>\n",
       "      <td>-1.482538</td>\n",
       "      <td>0.412292</td>\n",
       "      <td>0.803102</td>\n",
       "      <td>-1.213383</td>\n",
       "      <td>-0.030099</td>\n",
       "      <td>-0.058894</td>\n",
       "      <td>-0.081325</td>\n",
       "      <td>-0.113738</td>\n",
       "    </tr>\n",
       "    <tr>\n",
       "      <th>6745</th>\n",
       "      <td>31</td>\n",
       "      <td>2</td>\n",
       "      <td>1</td>\n",
       "      <td>0</td>\n",
       "      <td>0</td>\n",
       "      <td>0</td>\n",
       "      <td>0</td>\n",
       "      <td>1</td>\n",
       "      <td>0</td>\n",
       "      <td>0</td>\n",
       "      <td>...</td>\n",
       "      <td>-0.003913</td>\n",
       "      <td>0.041615</td>\n",
       "      <td>0.006783</td>\n",
       "      <td>0.084701</td>\n",
       "      <td>0.027372</td>\n",
       "      <td>-0.055628</td>\n",
       "      <td>-0.029759</td>\n",
       "      <td>-0.157000</td>\n",
       "      <td>-0.079557</td>\n",
       "      <td>-0.262713</td>\n",
       "    </tr>\n",
       "    <tr>\n",
       "      <th>6746</th>\n",
       "      <td>41</td>\n",
       "      <td>2</td>\n",
       "      <td>0</td>\n",
       "      <td>0</td>\n",
       "      <td>0</td>\n",
       "      <td>0</td>\n",
       "      <td>0</td>\n",
       "      <td>1</td>\n",
       "      <td>0</td>\n",
       "      <td>0</td>\n",
       "      <td>...</td>\n",
       "      <td>-0.004105</td>\n",
       "      <td>0.850344</td>\n",
       "      <td>-1.017381</td>\n",
       "      <td>1.394261</td>\n",
       "      <td>-0.915321</td>\n",
       "      <td>-0.785463</td>\n",
       "      <td>-0.029872</td>\n",
       "      <td>-0.286302</td>\n",
       "      <td>1.111872</td>\n",
       "      <td>-0.553449</td>\n",
       "    </tr>\n",
       "    <tr>\n",
       "      <th>6747</th>\n",
       "      <td>50</td>\n",
       "      <td>2</td>\n",
       "      <td>1</td>\n",
       "      <td>0</td>\n",
       "      <td>0</td>\n",
       "      <td>0</td>\n",
       "      <td>0</td>\n",
       "      <td>1</td>\n",
       "      <td>0</td>\n",
       "      <td>0</td>\n",
       "      <td>...</td>\n",
       "      <td>-0.003913</td>\n",
       "      <td>0.041615</td>\n",
       "      <td>0.006783</td>\n",
       "      <td>0.084701</td>\n",
       "      <td>0.027372</td>\n",
       "      <td>-0.055628</td>\n",
       "      <td>-0.029759</td>\n",
       "      <td>-0.157000</td>\n",
       "      <td>-0.079557</td>\n",
       "      <td>-0.262713</td>\n",
       "    </tr>\n",
       "    <tr>\n",
       "      <th>6748</th>\n",
       "      <td>43</td>\n",
       "      <td>2</td>\n",
       "      <td>1</td>\n",
       "      <td>0</td>\n",
       "      <td>0</td>\n",
       "      <td>0</td>\n",
       "      <td>0</td>\n",
       "      <td>1</td>\n",
       "      <td>0</td>\n",
       "      <td>0</td>\n",
       "      <td>...</td>\n",
       "      <td>-0.005041</td>\n",
       "      <td>-0.102719</td>\n",
       "      <td>-0.829868</td>\n",
       "      <td>1.043869</td>\n",
       "      <td>1.568187</td>\n",
       "      <td>0.027537</td>\n",
       "      <td>-0.029776</td>\n",
       "      <td>-0.090650</td>\n",
       "      <td>-0.564781</td>\n",
       "      <td>0.007041</td>\n",
       "    </tr>\n",
       "    <tr>\n",
       "      <th>6749</th>\n",
       "      <td>31</td>\n",
       "      <td>2</td>\n",
       "      <td>1</td>\n",
       "      <td>0</td>\n",
       "      <td>0</td>\n",
       "      <td>0</td>\n",
       "      <td>0</td>\n",
       "      <td>1</td>\n",
       "      <td>0</td>\n",
       "      <td>0</td>\n",
       "      <td>...</td>\n",
       "      <td>-0.003709</td>\n",
       "      <td>-1.047228</td>\n",
       "      <td>1.106986</td>\n",
       "      <td>-2.331441</td>\n",
       "      <td>-2.903687</td>\n",
       "      <td>1.734058</td>\n",
       "      <td>-0.022958</td>\n",
       "      <td>-0.328249</td>\n",
       "      <td>-0.312228</td>\n",
       "      <td>-0.527760</td>\n",
       "    </tr>\n",
       "    <tr>\n",
       "      <th>6750</th>\n",
       "      <td>48</td>\n",
       "      <td>2</td>\n",
       "      <td>1</td>\n",
       "      <td>0</td>\n",
       "      <td>0</td>\n",
       "      <td>0</td>\n",
       "      <td>0</td>\n",
       "      <td>1</td>\n",
       "      <td>0</td>\n",
       "      <td>0</td>\n",
       "      <td>...</td>\n",
       "      <td>-0.003897</td>\n",
       "      <td>-0.690263</td>\n",
       "      <td>0.733051</td>\n",
       "      <td>-0.526099</td>\n",
       "      <td>-0.010602</td>\n",
       "      <td>0.846086</td>\n",
       "      <td>-0.029675</td>\n",
       "      <td>-0.205615</td>\n",
       "      <td>-0.613853</td>\n",
       "      <td>-0.295618</td>\n",
       "    </tr>\n",
       "    <tr>\n",
       "      <th>6751</th>\n",
       "      <td>43</td>\n",
       "      <td>2</td>\n",
       "      <td>1</td>\n",
       "      <td>0</td>\n",
       "      <td>0</td>\n",
       "      <td>0</td>\n",
       "      <td>0</td>\n",
       "      <td>0</td>\n",
       "      <td>0</td>\n",
       "      <td>0</td>\n",
       "      <td>...</td>\n",
       "      <td>-0.003962</td>\n",
       "      <td>0.318456</td>\n",
       "      <td>1.296847</td>\n",
       "      <td>0.020107</td>\n",
       "      <td>-0.418469</td>\n",
       "      <td>0.434756</td>\n",
       "      <td>-0.029469</td>\n",
       "      <td>-0.279006</td>\n",
       "      <td>-0.728825</td>\n",
       "      <td>0.040890</td>\n",
       "    </tr>\n",
       "    <tr>\n",
       "      <th>6752</th>\n",
       "      <td>52</td>\n",
       "      <td>3</td>\n",
       "      <td>1</td>\n",
       "      <td>1</td>\n",
       "      <td>0</td>\n",
       "      <td>0</td>\n",
       "      <td>0</td>\n",
       "      <td>0</td>\n",
       "      <td>0</td>\n",
       "      <td>1</td>\n",
       "      <td>...</td>\n",
       "      <td>-0.004393</td>\n",
       "      <td>-0.038809</td>\n",
       "      <td>-1.333978</td>\n",
       "      <td>0.172483</td>\n",
       "      <td>-0.889931</td>\n",
       "      <td>0.778838</td>\n",
       "      <td>-0.029311</td>\n",
       "      <td>-0.287785</td>\n",
       "      <td>-1.025733</td>\n",
       "      <td>-0.544620</td>\n",
       "    </tr>\n",
       "    <tr>\n",
       "      <th>6753</th>\n",
       "      <td>39</td>\n",
       "      <td>3</td>\n",
       "      <td>0</td>\n",
       "      <td>0</td>\n",
       "      <td>0</td>\n",
       "      <td>0</td>\n",
       "      <td>0</td>\n",
       "      <td>0</td>\n",
       "      <td>0</td>\n",
       "      <td>0</td>\n",
       "      <td>...</td>\n",
       "      <td>-0.004173</td>\n",
       "      <td>0.273711</td>\n",
       "      <td>-0.341968</td>\n",
       "      <td>0.741982</td>\n",
       "      <td>0.023194</td>\n",
       "      <td>-0.998152</td>\n",
       "      <td>-0.029866</td>\n",
       "      <td>-0.401828</td>\n",
       "      <td>0.915064</td>\n",
       "      <td>-0.257108</td>\n",
       "    </tr>\n",
       "    <tr>\n",
       "      <th>6754</th>\n",
       "      <td>23</td>\n",
       "      <td>2</td>\n",
       "      <td>1</td>\n",
       "      <td>0</td>\n",
       "      <td>0</td>\n",
       "      <td>0</td>\n",
       "      <td>0</td>\n",
       "      <td>1</td>\n",
       "      <td>0</td>\n",
       "      <td>0</td>\n",
       "      <td>...</td>\n",
       "      <td>-0.004012</td>\n",
       "      <td>-0.957512</td>\n",
       "      <td>0.480702</td>\n",
       "      <td>-1.689948</td>\n",
       "      <td>-0.309030</td>\n",
       "      <td>0.597309</td>\n",
       "      <td>-0.025326</td>\n",
       "      <td>-0.290479</td>\n",
       "      <td>-0.021549</td>\n",
       "      <td>-0.382668</td>\n",
       "    </tr>\n",
       "    <tr>\n",
       "      <th>6755</th>\n",
       "      <td>32</td>\n",
       "      <td>2</td>\n",
       "      <td>1</td>\n",
       "      <td>0</td>\n",
       "      <td>0</td>\n",
       "      <td>0</td>\n",
       "      <td>0</td>\n",
       "      <td>0</td>\n",
       "      <td>0</td>\n",
       "      <td>0</td>\n",
       "      <td>...</td>\n",
       "      <td>-0.003913</td>\n",
       "      <td>0.041615</td>\n",
       "      <td>0.006783</td>\n",
       "      <td>0.084701</td>\n",
       "      <td>0.027372</td>\n",
       "      <td>-0.055628</td>\n",
       "      <td>-0.029759</td>\n",
       "      <td>-0.157000</td>\n",
       "      <td>-0.079557</td>\n",
       "      <td>-0.262713</td>\n",
       "    </tr>\n",
       "    <tr>\n",
       "      <th>6756</th>\n",
       "      <td>31</td>\n",
       "      <td>2</td>\n",
       "      <td>1</td>\n",
       "      <td>0</td>\n",
       "      <td>0</td>\n",
       "      <td>0</td>\n",
       "      <td>0</td>\n",
       "      <td>1</td>\n",
       "      <td>0</td>\n",
       "      <td>0</td>\n",
       "      <td>...</td>\n",
       "      <td>-0.003913</td>\n",
       "      <td>0.041615</td>\n",
       "      <td>0.006783</td>\n",
       "      <td>0.084701</td>\n",
       "      <td>0.027372</td>\n",
       "      <td>-0.055628</td>\n",
       "      <td>-0.029759</td>\n",
       "      <td>-0.157000</td>\n",
       "      <td>-0.079557</td>\n",
       "      <td>-0.262713</td>\n",
       "    </tr>\n",
       "    <tr>\n",
       "      <th>6757</th>\n",
       "      <td>44</td>\n",
       "      <td>2</td>\n",
       "      <td>1</td>\n",
       "      <td>1</td>\n",
       "      <td>0</td>\n",
       "      <td>0</td>\n",
       "      <td>0</td>\n",
       "      <td>1</td>\n",
       "      <td>0</td>\n",
       "      <td>0</td>\n",
       "      <td>...</td>\n",
       "      <td>-0.003844</td>\n",
       "      <td>-0.233257</td>\n",
       "      <td>-0.238657</td>\n",
       "      <td>-1.397480</td>\n",
       "      <td>-1.498910</td>\n",
       "      <td>0.563252</td>\n",
       "      <td>-0.029814</td>\n",
       "      <td>-0.330628</td>\n",
       "      <td>-1.334497</td>\n",
       "      <td>-0.193222</td>\n",
       "    </tr>\n",
       "    <tr>\n",
       "      <th>6758</th>\n",
       "      <td>52</td>\n",
       "      <td>2</td>\n",
       "      <td>1</td>\n",
       "      <td>0</td>\n",
       "      <td>0</td>\n",
       "      <td>0</td>\n",
       "      <td>0</td>\n",
       "      <td>0</td>\n",
       "      <td>0</td>\n",
       "      <td>0</td>\n",
       "      <td>...</td>\n",
       "      <td>-0.004442</td>\n",
       "      <td>0.185687</td>\n",
       "      <td>-1.159193</td>\n",
       "      <td>-1.514469</td>\n",
       "      <td>-1.953496</td>\n",
       "      <td>1.341207</td>\n",
       "      <td>-0.027408</td>\n",
       "      <td>-0.401267</td>\n",
       "      <td>-1.674359</td>\n",
       "      <td>-0.329866</td>\n",
       "    </tr>\n",
       "    <tr>\n",
       "      <th>6759</th>\n",
       "      <td>10</td>\n",
       "      <td>2</td>\n",
       "      <td>1</td>\n",
       "      <td>0</td>\n",
       "      <td>1</td>\n",
       "      <td>0</td>\n",
       "      <td>0</td>\n",
       "      <td>1</td>\n",
       "      <td>0</td>\n",
       "      <td>0</td>\n",
       "      <td>...</td>\n",
       "      <td>-0.003838</td>\n",
       "      <td>0.248697</td>\n",
       "      <td>-1.054987</td>\n",
       "      <td>-0.874350</td>\n",
       "      <td>-0.574620</td>\n",
       "      <td>0.429713</td>\n",
       "      <td>-0.030223</td>\n",
       "      <td>-0.459408</td>\n",
       "      <td>-0.953151</td>\n",
       "      <td>-0.044727</td>\n",
       "    </tr>\n",
       "    <tr>\n",
       "      <th>6760</th>\n",
       "      <td>43</td>\n",
       "      <td>2</td>\n",
       "      <td>1</td>\n",
       "      <td>0</td>\n",
       "      <td>0</td>\n",
       "      <td>0</td>\n",
       "      <td>0</td>\n",
       "      <td>0</td>\n",
       "      <td>0</td>\n",
       "      <td>0</td>\n",
       "      <td>...</td>\n",
       "      <td>-0.004285</td>\n",
       "      <td>-0.026067</td>\n",
       "      <td>1.256227</td>\n",
       "      <td>0.998429</td>\n",
       "      <td>1.327345</td>\n",
       "      <td>-0.906331</td>\n",
       "      <td>-0.029987</td>\n",
       "      <td>0.474959</td>\n",
       "      <td>0.274714</td>\n",
       "      <td>0.622202</td>\n",
       "    </tr>\n",
       "    <tr>\n",
       "      <th>6761</th>\n",
       "      <td>9</td>\n",
       "      <td>2</td>\n",
       "      <td>1</td>\n",
       "      <td>0</td>\n",
       "      <td>0</td>\n",
       "      <td>0</td>\n",
       "      <td>0</td>\n",
       "      <td>1</td>\n",
       "      <td>0</td>\n",
       "      <td>0</td>\n",
       "      <td>...</td>\n",
       "      <td>-0.003913</td>\n",
       "      <td>0.041615</td>\n",
       "      <td>0.006783</td>\n",
       "      <td>0.084701</td>\n",
       "      <td>0.027372</td>\n",
       "      <td>-0.055628</td>\n",
       "      <td>-0.029759</td>\n",
       "      <td>-0.157000</td>\n",
       "      <td>-0.079557</td>\n",
       "      <td>-0.262713</td>\n",
       "    </tr>\n",
       "    <tr>\n",
       "      <th>6762</th>\n",
       "      <td>46</td>\n",
       "      <td>2</td>\n",
       "      <td>0</td>\n",
       "      <td>0</td>\n",
       "      <td>0</td>\n",
       "      <td>0</td>\n",
       "      <td>0</td>\n",
       "      <td>0</td>\n",
       "      <td>0</td>\n",
       "      <td>0</td>\n",
       "      <td>...</td>\n",
       "      <td>-0.004801</td>\n",
       "      <td>0.254050</td>\n",
       "      <td>-1.455590</td>\n",
       "      <td>1.441814</td>\n",
       "      <td>2.016049</td>\n",
       "      <td>-0.436057</td>\n",
       "      <td>-0.029779</td>\n",
       "      <td>0.349999</td>\n",
       "      <td>-0.199225</td>\n",
       "      <td>-0.026548</td>\n",
       "    </tr>\n",
       "    <tr>\n",
       "      <th>6763</th>\n",
       "      <td>31</td>\n",
       "      <td>2</td>\n",
       "      <td>1</td>\n",
       "      <td>0</td>\n",
       "      <td>0</td>\n",
       "      <td>0</td>\n",
       "      <td>0</td>\n",
       "      <td>0</td>\n",
       "      <td>0</td>\n",
       "      <td>0</td>\n",
       "      <td>...</td>\n",
       "      <td>-0.003913</td>\n",
       "      <td>0.041615</td>\n",
       "      <td>0.006783</td>\n",
       "      <td>0.084701</td>\n",
       "      <td>0.027372</td>\n",
       "      <td>-0.055628</td>\n",
       "      <td>-0.029759</td>\n",
       "      <td>-0.157000</td>\n",
       "      <td>-0.079557</td>\n",
       "      <td>-0.262713</td>\n",
       "    </tr>\n",
       "    <tr>\n",
       "      <th>6764</th>\n",
       "      <td>9</td>\n",
       "      <td>2</td>\n",
       "      <td>1</td>\n",
       "      <td>0</td>\n",
       "      <td>0</td>\n",
       "      <td>0</td>\n",
       "      <td>0</td>\n",
       "      <td>0</td>\n",
       "      <td>0</td>\n",
       "      <td>0</td>\n",
       "      <td>...</td>\n",
       "      <td>-0.003913</td>\n",
       "      <td>0.041615</td>\n",
       "      <td>0.006783</td>\n",
       "      <td>0.084701</td>\n",
       "      <td>0.027372</td>\n",
       "      <td>-0.055628</td>\n",
       "      <td>-0.029759</td>\n",
       "      <td>-0.157000</td>\n",
       "      <td>-0.079557</td>\n",
       "      <td>-0.262713</td>\n",
       "    </tr>\n",
       "    <tr>\n",
       "      <th>6765</th>\n",
       "      <td>36</td>\n",
       "      <td>3</td>\n",
       "      <td>1</td>\n",
       "      <td>0</td>\n",
       "      <td>0</td>\n",
       "      <td>0</td>\n",
       "      <td>0</td>\n",
       "      <td>1</td>\n",
       "      <td>0</td>\n",
       "      <td>0</td>\n",
       "      <td>...</td>\n",
       "      <td>-0.003968</td>\n",
       "      <td>-0.357238</td>\n",
       "      <td>-1.469413</td>\n",
       "      <td>0.916789</td>\n",
       "      <td>0.157912</td>\n",
       "      <td>-0.545540</td>\n",
       "      <td>-0.029976</td>\n",
       "      <td>-0.180984</td>\n",
       "      <td>0.434092</td>\n",
       "      <td>-0.122522</td>\n",
       "    </tr>\n",
       "    <tr>\n",
       "      <th>6766</th>\n",
       "      <td>4</td>\n",
       "      <td>2</td>\n",
       "      <td>1</td>\n",
       "      <td>0</td>\n",
       "      <td>0</td>\n",
       "      <td>0</td>\n",
       "      <td>0</td>\n",
       "      <td>0</td>\n",
       "      <td>0</td>\n",
       "      <td>0</td>\n",
       "      <td>...</td>\n",
       "      <td>-0.004195</td>\n",
       "      <td>-0.834723</td>\n",
       "      <td>1.470013</td>\n",
       "      <td>-1.671894</td>\n",
       "      <td>-2.526517</td>\n",
       "      <td>2.445098</td>\n",
       "      <td>-0.023825</td>\n",
       "      <td>-0.609401</td>\n",
       "      <td>-1.606504</td>\n",
       "      <td>-0.102699</td>\n",
       "    </tr>\n",
       "  </tbody>\n",
       "</table>\n",
       "<p>5474 rows × 131 columns</p>\n",
       "</div>"
      ],
      "text/plain": [
       "      sic2  age  spii  woGW  sin  divi  divo  securedind  convind  rd  \\\n",
       "1293    52    1     1     0    0     0     0           1        0   0   \n",
       "1294    52    1     1     0    0     0     0           0        0   0   \n",
       "1295    45    1     1     0    0     0     0           0        0   0   \n",
       "1296    59    1     1     0    0     0     0           0        0   0   \n",
       "1297    22    1     1     0    0     0     0           0        0   0   \n",
       "1298    23    1     0     0    0     0     0           0        0   0   \n",
       "1299     9    1     1     1    0     0     0           0        0   0   \n",
       "1300    52    1     1     0    0     0     0           0        0   0   \n",
       "1301    52    1     1     0    0     0     0           1        0   0   \n",
       "1302     9    1     1     0    0     0     0           0        0   0   \n",
       "1303    32    1     1     0    0     0     0           0        0   0   \n",
       "1304    15    1     1     0    0     0     0           0        0   0   \n",
       "1305    25    1     1     0    0     0     0           0        0   0   \n",
       "1306    33    1     0     0    0     0     0           0        0   0   \n",
       "1307    32    1     1     0    0     0     0           0        0   0   \n",
       "1308    15    1     1     0    0     0     0           1        0   0   \n",
       "1309    23    1     1     0    0     0     0           0        0   0   \n",
       "1310    16    1     0     0    0     0     0           1        0   0   \n",
       "1311    32    1     1     1    0     0     0           0        0   0   \n",
       "1312    24    1     1     0    0     0     0           0        0   0   \n",
       "1313    59    1     1     0    0     0     0           1        0   0   \n",
       "1314    56    1     1     0    0     0     0           1        0   0   \n",
       "1315    43    1     0     0    0     0     0           0        0   0   \n",
       "1316    22    1     1     0    0     0     0           0        0   0   \n",
       "1317    52    1     1     0    0     0     0           0        0   0   \n",
       "1318    32    1     1     0    0     0     0           0        0   0   \n",
       "1319    16    1     1     0    0     0     0           1        0   0   \n",
       "1320    22    1     1     1    0     0     0           1        0   0   \n",
       "1321     4    1     1     0    0     0     0           0        0   0   \n",
       "1322    52    1     1     0    0     0     0           0        0   0   \n",
       "...    ...  ...   ...   ...  ...   ...   ...         ...      ...  ..   \n",
       "6737    31    2     1     0    0     0     0           1        0   0   \n",
       "6738     4    2     1     1    0     0     0           0        0   0   \n",
       "6739    45    2     1     0    0     0     0           0        0   0   \n",
       "6740    31    2     1     0    0     1     0           1        0   0   \n",
       "6741    30    2     1     1    0     0     0           0        0   0   \n",
       "6742    15    2     1     0    0     0     0           0        0   0   \n",
       "6743    45    2     0     0    0     0     0           0        0   0   \n",
       "6744    45    2     1     0    0     0     0           0        0   0   \n",
       "6745    31    2     1     0    0     0     0           1        0   0   \n",
       "6746    41    2     0     0    0     0     0           1        0   0   \n",
       "6747    50    2     1     0    0     0     0           1        0   0   \n",
       "6748    43    2     1     0    0     0     0           1        0   0   \n",
       "6749    31    2     1     0    0     0     0           1        0   0   \n",
       "6750    48    2     1     0    0     0     0           1        0   0   \n",
       "6751    43    2     1     0    0     0     0           0        0   0   \n",
       "6752    52    3     1     1    0     0     0           0        0   1   \n",
       "6753    39    3     0     0    0     0     0           0        0   0   \n",
       "6754    23    2     1     0    0     0     0           1        0   0   \n",
       "6755    32    2     1     0    0     0     0           0        0   0   \n",
       "6756    31    2     1     0    0     0     0           1        0   0   \n",
       "6757    44    2     1     1    0     0     0           1        0   0   \n",
       "6758    52    2     1     0    0     0     0           0        0   0   \n",
       "6759    10    2     1     0    1     0     0           1        0   0   \n",
       "6760    43    2     1     0    0     0     0           0        0   0   \n",
       "6761     9    2     1     0    0     0     0           1        0   0   \n",
       "6762    46    2     0     0    0     0     0           0        0   0   \n",
       "6763    31    2     1     0    0     0     0           0        0   0   \n",
       "6764     9    2     1     0    0     0     0           0        0   0   \n",
       "6765    36    3     1     0    0     0     0           1        0   0   \n",
       "6766     4    2     1     0    0     0     0           0        0   0   \n",
       "\n",
       "        ...         BETA       BOP       COS  LINEARREG_ANGLE       MFI  \\\n",
       "1293    ...    -0.003996  0.305150  0.311784         0.084701  0.027372   \n",
       "1294    ...    -0.003872  0.158028 -1.471912         0.084701  0.027372   \n",
       "1295    ...    -0.004016  0.567050  1.348948         0.084701  0.027372   \n",
       "1296    ...    -0.003631  0.356423 -1.289594         0.084701  0.027372   \n",
       "1297    ...    -0.003913  0.041615  0.006783         0.084701  0.027372   \n",
       "1298    ...    -0.003913  0.041615  0.006783         0.084701  0.027372   \n",
       "1299    ...    -0.003467 -0.977920 -1.482907         0.084701  0.027372   \n",
       "1300    ...    -0.004397  0.905552 -1.469653         0.084701  0.027372   \n",
       "1301    ...    -0.004485  0.888484  1.283659         0.084701  0.027372   \n",
       "1302    ...    -0.004101 -0.400191 -0.763076         0.084701  0.027372   \n",
       "1303    ...    -0.004113  1.581658  1.268973         0.084701  0.027372   \n",
       "1304    ...    -0.003913  0.041615  0.006783         0.084701  0.027372   \n",
       "1305    ...    -0.004139  1.328942  1.286269         0.084701  0.027372   \n",
       "1306    ...    -0.003926 -0.431862 -1.493653         0.084701  0.027372   \n",
       "1307    ...    -0.003930  1.681631  1.304409         0.084701  0.027372   \n",
       "1308    ...    -0.003913  0.041615  0.006783         0.084701  0.027372   \n",
       "1309    ...    -0.004057  0.824259  1.098072         0.084701  0.027372   \n",
       "1310    ...    -0.003928  0.398963 -1.165077         0.084701  0.027372   \n",
       "1311    ...    -0.004531  0.556714  0.276101         0.084701  0.027372   \n",
       "1312    ...    -0.004362  0.919469  0.048952         0.084701  0.027372   \n",
       "1313    ...    -0.003745  0.217844  1.397844         0.084701  0.027372   \n",
       "1314    ...    -0.003290  0.945265 -1.177667         0.084701  0.027372   \n",
       "1315    ...    -0.003735  0.126498 -0.700010         0.084701  0.027372   \n",
       "1316    ...    -0.004117 -0.120254  1.470412         0.084701  0.027372   \n",
       "1317    ...    -0.003826 -1.826910  0.742508         0.084701  0.027372   \n",
       "1318    ...    -0.004067 -0.010403  0.788322         0.084701  0.027372   \n",
       "1319    ...    -0.003739  0.564336  0.140939         0.084701  0.027372   \n",
       "1320    ...    -0.003627  0.246876  0.328800         0.084701  0.027372   \n",
       "1321    ...    -0.003653 -1.299878  1.417103         0.084701  0.027372   \n",
       "1322    ...    -0.003586 -0.417810  1.126714         0.084701  0.027372   \n",
       "...     ...          ...       ...       ...              ...       ...   \n",
       "6737    ...    -0.003913  0.041615  0.006783         0.084701  0.027372   \n",
       "6738    ...    -0.003380 -1.236604 -0.138359        -1.427155 -2.358175   \n",
       "6739    ...    -0.004162  1.424555 -1.489869         0.628536  1.033749   \n",
       "6740    ...    -0.004055 -0.120254  0.913160        -1.342952 -0.428887   \n",
       "6741    ...    -0.004156  0.483370 -0.203433         1.482534  1.906398   \n",
       "6742    ...    -0.003791 -1.579836  0.889275        -0.019409 -0.282252   \n",
       "6743    ...    -0.004511 -0.301247 -1.016877        -1.427121 -1.339059   \n",
       "6744    ...    -0.004144  1.296716 -1.482538         0.412292  0.803102   \n",
       "6745    ...    -0.003913  0.041615  0.006783         0.084701  0.027372   \n",
       "6746    ...    -0.004105  0.850344 -1.017381         1.394261 -0.915321   \n",
       "6747    ...    -0.003913  0.041615  0.006783         0.084701  0.027372   \n",
       "6748    ...    -0.005041 -0.102719 -0.829868         1.043869  1.568187   \n",
       "6749    ...    -0.003709 -1.047228  1.106986        -2.331441 -2.903687   \n",
       "6750    ...    -0.003897 -0.690263  0.733051        -0.526099 -0.010602   \n",
       "6751    ...    -0.003962  0.318456  1.296847         0.020107 -0.418469   \n",
       "6752    ...    -0.004393 -0.038809 -1.333978         0.172483 -0.889931   \n",
       "6753    ...    -0.004173  0.273711 -0.341968         0.741982  0.023194   \n",
       "6754    ...    -0.004012 -0.957512  0.480702        -1.689948 -0.309030   \n",
       "6755    ...    -0.003913  0.041615  0.006783         0.084701  0.027372   \n",
       "6756    ...    -0.003913  0.041615  0.006783         0.084701  0.027372   \n",
       "6757    ...    -0.003844 -0.233257 -0.238657        -1.397480 -1.498910   \n",
       "6758    ...    -0.004442  0.185687 -1.159193        -1.514469 -1.953496   \n",
       "6759    ...    -0.003838  0.248697 -1.054987        -0.874350 -0.574620   \n",
       "6760    ...    -0.004285 -0.026067  1.256227         0.998429  1.327345   \n",
       "6761    ...    -0.003913  0.041615  0.006783         0.084701  0.027372   \n",
       "6762    ...    -0.004801  0.254050 -1.455590         1.441814  2.016049   \n",
       "6763    ...    -0.003913  0.041615  0.006783         0.084701  0.027372   \n",
       "6764    ...    -0.003913  0.041615  0.006783         0.084701  0.027372   \n",
       "6765    ...    -0.003968 -0.357238 -1.469413         0.916789  0.157912   \n",
       "6766    ...    -0.004195 -0.834723  1.470013        -1.671894 -2.526517   \n",
       "\n",
       "      MINUS_DI      NATR       OBV   PLUS_DI    Volume  \n",
       "1293 -0.055628 -0.029759  0.430108 -0.079557  1.562245  \n",
       "1294 -0.055628 -0.029759  4.544802 -0.079557  4.582742  \n",
       "1295 -0.055628 -0.029759 -0.233981 -0.079557 -0.360656  \n",
       "1296 -0.055628 -0.029759 -0.157283 -0.079557  0.000744  \n",
       "1297 -0.055628 -0.029759 -0.157000 -0.079557 -0.262713  \n",
       "1298 -0.055628 -0.029759 -0.157000 -0.079557 -0.262713  \n",
       "1299 -0.055628 -0.029759 -0.070606 -0.079557  0.056911  \n",
       "1300 -0.055628 -0.029759 -0.074947 -0.079557 -0.242282  \n",
       "1301 -0.055628 -0.029759 -0.160922 -0.079557 -0.339451  \n",
       "1302 -0.055628 -0.029759  1.167067 -0.079557  2.618517  \n",
       "1303 -0.055628 -0.029759 -0.251067 -0.079557 -0.172511  \n",
       "1304 -0.055628 -0.029759 -0.157000 -0.079557 -0.262713  \n",
       "1305 -0.055628 -0.029759 -0.257654 -0.079557 -0.455673  \n",
       "1306 -0.055628 -0.029759 -0.272455 -0.079557  0.041454  \n",
       "1307 -0.055628 -0.029759 -0.228041 -0.079557 -0.397428  \n",
       "1308 -0.055628 -0.029759 -0.157000 -0.079557 -0.262713  \n",
       "1309 -0.055628 -0.029759 -0.076256 -0.079557 -0.029350  \n",
       "1310 -0.055628 -0.029759  0.738266 -0.079557  1.478051  \n",
       "1311 -0.055628 -0.029759 -0.113452 -0.079557 -0.302900  \n",
       "1312 -0.055628 -0.029759 -0.058315 -0.079557 -0.289342  \n",
       "1313 -0.055628 -0.029759  1.600817 -0.079557  4.549554  \n",
       "1314 -0.055628 -0.029759 -0.233330 -0.079557 -0.498146  \n",
       "1315 -0.055628 -0.029759 -0.294178 -0.079557  0.053938  \n",
       "1316 -0.055628 -0.029759 -0.293347 -0.079557 -0.593773  \n",
       "1317 -0.055628 -0.029759 -0.059743 -0.079557  0.288573  \n",
       "1318 -0.055628 -0.029759  0.467784 -0.079557  1.459846  \n",
       "1319 -0.055628 -0.029759  0.030440 -0.079557  0.423237  \n",
       "1320 -0.055628 -0.029759 -0.223171 -0.079557 -0.431775  \n",
       "1321 -0.055628 -0.029759 -0.342301 -0.079557 -0.048778  \n",
       "1322 -0.055628 -0.029759 -0.308499 -0.079557 -0.293520  \n",
       "...        ...       ...       ...       ...       ...  \n",
       "6737 -0.055628 -0.029759 -0.157000 -0.079557 -0.262713  \n",
       "6738  2.538621 -0.023749 -1.120126 -1.580573  0.600066  \n",
       "6739 -1.360517 -0.030223 -0.154952  0.389855 -0.462731  \n",
       "6740  1.263772 -0.027452 -0.622219 -2.220512 -0.111582  \n",
       "6741 -1.920078 -0.029469  0.054157  1.470288 -0.371819  \n",
       "6742  0.061088 -0.028051  0.061594 -0.037192 -0.267194  \n",
       "6743  1.701947 -0.029461 -0.218649 -0.913461 -0.439668  \n",
       "6744 -1.213383 -0.030099 -0.058894 -0.081325 -0.113738  \n",
       "6745 -0.055628 -0.029759 -0.157000 -0.079557 -0.262713  \n",
       "6746 -0.785463 -0.029872 -0.286302  1.111872 -0.553449  \n",
       "6747 -0.055628 -0.029759 -0.157000 -0.079557 -0.262713  \n",
       "6748  0.027537 -0.029776 -0.090650 -0.564781  0.007041  \n",
       "6749  1.734058 -0.022958 -0.328249 -0.312228 -0.527760  \n",
       "6750  0.846086 -0.029675 -0.205615 -0.613853 -0.295618  \n",
       "6751  0.434756 -0.029469 -0.279006 -0.728825  0.040890  \n",
       "6752  0.778838 -0.029311 -0.287785 -1.025733 -0.544620  \n",
       "6753 -0.998152 -0.029866 -0.401828  0.915064 -0.257108  \n",
       "6754  0.597309 -0.025326 -0.290479 -0.021549 -0.382668  \n",
       "6755 -0.055628 -0.029759 -0.157000 -0.079557 -0.262713  \n",
       "6756 -0.055628 -0.029759 -0.157000 -0.079557 -0.262713  \n",
       "6757  0.563252 -0.029814 -0.330628 -1.334497 -0.193222  \n",
       "6758  1.341207 -0.027408 -0.401267 -1.674359 -0.329866  \n",
       "6759  0.429713 -0.030223 -0.459408 -0.953151 -0.044727  \n",
       "6760 -0.906331 -0.029987  0.474959  0.274714  0.622202  \n",
       "6761 -0.055628 -0.029759 -0.157000 -0.079557 -0.262713  \n",
       "6762 -0.436057 -0.029779  0.349999 -0.199225 -0.026548  \n",
       "6763 -0.055628 -0.029759 -0.157000 -0.079557 -0.262713  \n",
       "6764 -0.055628 -0.029759 -0.157000 -0.079557 -0.262713  \n",
       "6765 -0.545540 -0.029976 -0.180984  0.434092 -0.122522  \n",
       "6766  2.445098 -0.023825 -0.609401 -1.606504 -0.102699  \n",
       "\n",
       "[5474 rows x 131 columns]"
      ]
     },
     "execution_count": 8,
     "metadata": {},
     "output_type": "execute_result"
    }
   ],
   "source": [
    "time_step = pd.to_datetime('2015/09').to_period('M')\n",
    "ML_object.split_date( time_step)[0]"
   ]
  },
  {
   "cell_type": "markdown",
   "metadata": {},
   "source": [
    "## 2.2 Clustering on Time Step T_i"
   ]
  },
  {
   "cell_type": "markdown",
   "metadata": {},
   "source": [
    "Based upon the 4800 companies'data at each time step $T_i$, we proceed with first clustering the training set with $\\textbf{Bayesian Gassusian Mixture Model}$, which automatically cluster the data to maximum of 20 clusters of data. Then for each cluster of the data, our machine uses user specified ML algorithm to train from cluster to cluster"
   ]
  },
  {
   "cell_type": "code",
   "execution_count": 9,
   "metadata": {},
   "outputs": [
    {
     "data": {
      "image/png": "[encoded data removed]",
      "text/plain": [
       "<Figure size 409.425x360 with 1 Axes>"
      ]
     },
     "metadata": {},
     "output_type": "display_data"
    }
   ],
   "source": [
    "portfoli_permno, indx_rank = ML_object.opti_stocks(time_step)"
   ]
  },
  {
   "cell_type": "markdown",
   "metadata": {},
   "source": [
    "The above plot visualize the clustering of $400*M$ data points using Principle Component Reduction, the whole dataframe was reduced into 2 principle components and is then plotted with different color as their cluster"
   ]
  },
  {
   "cell_type": "markdown",
   "metadata": {},
   "source": [
    "## 2.2 Portfolio On Time Step $T_i$"
   ]
  },
  {
   "cell_type": "markdown",
   "metadata": {},
   "source": [
    "Then based upon the timestep $T_i$, we can use user-specified machine learning algorithm to predict the return on date $T_i$, and construct a portfolio consist of $K$ stocks based upon the prediction"
   ]
  },
  {
   "cell_type": "code",
   "execution_count": 10,
   "metadata": {},
   "outputs": [
    {
     "name": "stdout",
     "output_type": "stream",
     "text": [
      "[40272 40125 39917 37284 39538 39642 38762 27422 38703 38156 37584 27633\n",
      " 39490 28345 27043 10145 57568 56573 25582 28222 91392 58683 23579 53065\n",
      " 19561 87657 20626 44601 86339 86111 28388 86102 77605 77702 65330 12872\n",
      " 84129 12431 77338 43350]\n"
     ]
    }
   ],
   "source": [
    "print(portfoli_permno)"
   ]
  },
  {
   "cell_type": "markdown",
   "metadata": {},
   "source": [
    "## 2.3 Return along the whole trading period"
   ]
  },
  {
   "cell_type": "markdown",
   "metadata": {},
   "source": [
    "As we move $T_i$ along the whole trading period of $2015/09$ to $2019/07$, we could construct a series of portfolios and analyze the returns, \n",
    "* At each time steps $T_i \\in [2015/09, 2019/07]$,  we \n",
    "    * find the correspoding training set by looking back $M$ months\n",
    "        * cluster the $M$ months data upto 20 clusters\n",
    "            * Train our machine on cluster j\n",
    "            * predict return on timestep $T_i$ that fall into cluster j\n",
    "        * form portfolio consists of K stocks based upon the prediction\n",
    "* Generate return plot for analysis        \n",
    "            "
   ]
  },
  {
   "cell_type": "code",
   "execution_count": 11,
   "metadata": {},
   "outputs": [
    {
     "name": "stdout",
     "output_type": "stream",
     "text": [
      "2018-09\n",
      "2018-10\n",
      "2018-11\n",
      "2018-12\n",
      "2019-01\n",
      "2019-02\n",
      "2019-03\n",
      "2019-04\n",
      "2019-05\n",
      "2019-06\n",
      "2019-07\n"
     ]
    }
   ],
   "source": [
    "time_list =['2018-09', '2019-07']\n",
    "returns_long = ML_object.profit_construct(time_list, strategy ='long_equal_weighted')"
   ]
  },
  {
   "cell_type": "markdown",
   "metadata": {},
   "source": [
    "In our later algorithm research, we automated the whole Mahcine Learning framework into a onestep function taking necessary input parameters"
   ]
  },
  {
   "cell_type": "code",
   "execution_count": 12,
   "metadata": {},
   "outputs": [
    {
     "data": {
      "image/png": "[encoded data removed]",
      "text/plain": [
       "<Figure size 432x288 with 1 Axes>"
      ]
     },
     "metadata": {},
     "output_type": "display_data"
    },
    {
     "data": {
      "image/png": "[encoded data removed]",
      "text/plain": [
       "<Figure size 432x288 with 1 Axes>"
      ]
     },
     "metadata": {},
     "output_type": "display_data"
    }
   ],
   "source": [
    "ML_object.return_plot(returns_long)"
   ]
  },
  {
   "cell_type": "markdown",
   "metadata": {},
   "source": [
    "## 3. Machine Learning Algorithms \n"
   ]
  },
  {
   "cell_type": "markdown",
   "metadata": {},
   "source": [
    "During the summer, we mainly investigated SVM, Gradient Boosting, LSTM neural network and Kernel Regression, four algorihtms"
   ]
  },
  {
   "cell_type": "markdown",
   "metadata": {},
   "source": [
    "## 3.1 SVM Machine"
   ]
  },
  {
   "cell_type": "code",
   "execution_count": 13,
   "metadata": {},
   "outputs": [
    {
     "name": "stdout",
     "output_type": "stream",
     "text": [
      "date format corrected\n",
      "missing indicator variables deleted\n",
      "continous variables containing infinity deleted\n",
      "missing continuous variables filled in with median\n",
      "2015-09\n"
     ]
    },
    {
     "data": {
      "image/png": "[encoded data removed]",
      "text/plain": [
       "<Figure size 409.425x360 with 1 Axes>"
      ]
     },
     "metadata": {},
     "output_type": "display_data"
    },
    {
     "name": "stdout",
     "output_type": "stream",
     "text": [
      "2015-10\n",
      "2015-11\n",
      "2015-12\n",
      "2016-01\n",
      "2016-02\n",
      "2016-03\n",
      "2016-04\n",
      "2016-05\n",
      "2016-06\n",
      "2016-07\n",
      "2016-08\n",
      "2016-09\n"
     ]
    },
    {
     "data": {
      "image/png": "[encoded data removed]",
      "text/plain": [
       "<Figure size 409.425x360 with 1 Axes>"
      ]
     },
     "metadata": {},
     "output_type": "display_data"
    },
    {
     "name": "stdout",
     "output_type": "stream",
     "text": [
      "2016-10\n",
      "2016-11\n",
      "2016-12\n",
      "2017-01\n",
      "2017-02\n",
      "2017-03\n",
      "2017-04\n",
      "2017-05\n",
      "2017-06\n",
      "2017-07\n",
      "2017-08\n",
      "2017-09\n"
     ]
    },
    {
     "data": {
      "image/png": "[encoded data removed]",
      "text/plain": [
       "<Figure size 409.425x360 with 1 Axes>"
      ]
     },
     "metadata": {},
     "output_type": "display_data"
    },
    {
     "name": "stdout",
     "output_type": "stream",
     "text": [
      "2017-10\n",
      "2017-11\n",
      "2017-12\n",
      "2018-01\n",
      "2018-02\n",
      "2018-03\n",
      "2018-04\n",
      "2018-05\n",
      "2018-06\n",
      "2018-07\n",
      "2018-08\n",
      "2018-09\n"
     ]
    },
    {
     "data": {
      "image/png": "[encoded data removed]",
      "text/plain": [
       "<Figure size 409.425x360 with 1 Axes>"
      ]
     },
     "metadata": {},
     "output_type": "display_data"
    },
    {
     "name": "stdout",
     "output_type": "stream",
     "text": [
      "2018-10\n",
      "2018-11\n",
      "2018-12\n",
      "2019-01\n",
      "2019-02\n",
      "2019-03\n",
      "2019-04\n",
      "2019-05\n",
      "2019-06\n",
      "2019-07\n"
     ]
    },
    {
     "data": {
      "image/png": "[encoded data removed]",
      "text/plain": [
       "<Figure size 432x288 with 1 Axes>"
      ]
     },
     "metadata": {},
     "output_type": "display_data"
    },
    {
     "data": {
      "image/png": "[encoded data removed]",
      "text/plain": [
       "<Figure size 432x288 with 1 Axes>"
      ]
     },
     "metadata": {},
     "output_type": "display_data"
    }
   ],
   "source": [
    "param_dict = {'num_stocks':40,\n",
    "              'trading_window' : 12,\n",
    "              'time_list' : ['2015-09-01', '2019-07-01'],\n",
    "              'strategy' : 'long_equal_weighted',\n",
    "              'algorithm': \"SVM\",\n",
    "              'fill_in_method': 'median',\n",
    "              'pca': True\n",
    "}\n",
    "ML_object = one_step_function(raw_data, param_dict)"
   ]
  },
  {
   "cell_type": "markdown",
   "metadata": {},
   "source": [
    "## 3.2 LSTM Neural Network"
   ]
  },
  {
   "cell_type": "code",
   "execution_count": 16,
   "metadata": {},
   "outputs": [
    {
     "data": {
      "text/html": [
       "<script>\n",
       "var code_show_err = false; \n",
       "var code_toggle_err = function() {\n",
       " var stderrNodes = document.querySelectorAll('[data-mime-type=\"application/vnd.jupyter.stderr\"]')\n",
       " var stderr = Array.from(stderrNodes)\n",
       " if (code_show_err){\n",
       "     stderr.forEach(ele => ele.style.display = 'block');\n",
       " } else {\n",
       "     stderr.forEach(ele => ele.style.display = 'none');\n",
       " }\n",
       " code_show_err = !code_show_err\n",
       "} \n",
       "document.addEventListener('DOMContentLoaded', code_toggle_err);\n",
       "</script>\n",
       "To toggle on/off output_stderr, click <a onclick=\"javascript:code_toggle_err()\">here</a>."
      ],
      "text/plain": [
       "<IPython.core.display.HTML object>"
      ]
     },
     "execution_count": 16,
     "metadata": {},
     "output_type": "execute_result"
    }
   ],
   "source": [
    "from IPython.display import HTML\n",
    "HTML('''<script>\n",
    "var code_show_err = false; \n",
    "var code_toggle_err = function() {\n",
    " var stderrNodes = document.querySelectorAll('[data-mime-type=\"application/vnd.jupyter.stderr\"]')\n",
    " var stderr = Array.from(stderrNodes)\n",
    " if (code_show_err){\n",
    "     stderr.forEach(ele => ele.style.display = 'block');\n",
    " } else {\n",
    "     stderr.forEach(ele => ele.style.display = 'none');\n",
    " }\n",
    " code_show_err = !code_show_err\n",
    "} \n",
    "document.addEventListener('DOMContentLoaded', code_toggle_err);\n",
    "</script>\n",
    "To toggle on/off output_stderr, click <a onclick=\"javascript:code_toggle_err()\">here</a>.''')"
   ]
  },
  {
   "cell_type": "code",
   "execution_count": 18,
   "metadata": {},
   "outputs": [
    {
     "name": "stdout",
     "output_type": "stream",
     "text": [
      "date format corrected\n",
      "missing indicator variables deleted\n",
      "continous variables containing infinity deleted\n",
      "missing continuous variables filled in with median\n",
      "2015-09\n"
     ]
    },
    {
     "data": {
      "image/png": "[encoded data removed]",
      "text/plain": [
       "<Figure size 409.425x360 with 1 Axes>"
      ]
     },
     "metadata": {},
     "output_type": "display_data"
    },
    {
     "name": "stdout",
     "output_type": "stream",
     "text": [
      "WARNING:tensorflow:5 out of the last 11 calls to <function Model.make_predict_function.<locals>.predict_function at 0x2b888ccb8a60> triggered tf.function retracing. Tracing is expensive and the excessive number of tracings could be due to (1) creating @tf.function repeatedly in a loop, (2) passing tensors with different shapes, (3) passing Python objects instead of tensors. For (1), please define your @tf.function outside of the loop. For (2), @tf.function has experimental_relax_shapes=True option that relaxes argument shapes that can avoid unnecessary retracing. For (3), please refer to https://www.tensorflow.org/tutorials/customization/performance#python_or_tensor_args and https://www.tensorflow.org/api_docs/python/tf/function for  more details.\n"
     ]
    },
    {
     "name": "stderr",
     "output_type": "stream",
     "text": [
      "WARNING:tensorflow:5 out of the last 11 calls to <function Model.make_predict_function.<locals>.predict_function at 0x2b888ccb8a60> triggered tf.function retracing. Tracing is expensive and the excessive number of tracings could be due to (1) creating @tf.function repeatedly in a loop, (2) passing tensors with different shapes, (3) passing Python objects instead of tensors. For (1), please define your @tf.function outside of the loop. For (2), @tf.function has experimental_relax_shapes=True option that relaxes argument shapes that can avoid unnecessary retracing. For (3), please refer to https://www.tensorflow.org/tutorials/customization/performance#python_or_tensor_args and https://www.tensorflow.org/api_docs/python/tf/function for  more details.\n"
     ]
    },
    {
     "name": "stdout",
     "output_type": "stream",
     "text": [
      "WARNING:tensorflow:5 out of the last 16 calls to <function Model.make_predict_function.<locals>.predict_function at 0x2b897c554e18> triggered tf.function retracing. Tracing is expensive and the excessive number of tracings could be due to (1) creating @tf.function repeatedly in a loop, (2) passing tensors with different shapes, (3) passing Python objects instead of tensors. For (1), please define your @tf.function outside of the loop. For (2), @tf.function has experimental_relax_shapes=True option that relaxes argument shapes that can avoid unnecessary retracing. For (3), please refer to https://www.tensorflow.org/tutorials/customization/performance#python_or_tensor_args and https://www.tensorflow.org/api_docs/python/tf/function for  more details.\n"
     ]
    },
    {
     "name": "stderr",
     "output_type": "stream",
     "text": [
      "WARNING:tensorflow:5 out of the last 16 calls to <function Model.make_predict_function.<locals>.predict_function at 0x2b897c554e18> triggered tf.function retracing. Tracing is expensive and the excessive number of tracings could be due to (1) creating @tf.function repeatedly in a loop, (2) passing tensors with different shapes, (3) passing Python objects instead of tensors. For (1), please define your @tf.function outside of the loop. For (2), @tf.function has experimental_relax_shapes=True option that relaxes argument shapes that can avoid unnecessary retracing. For (3), please refer to https://www.tensorflow.org/tutorials/customization/performance#python_or_tensor_args and https://www.tensorflow.org/api_docs/python/tf/function for  more details.\n"
     ]
    },
    {
     "name": "stdout",
     "output_type": "stream",
     "text": [
      "WARNING:tensorflow:6 out of the last 17 calls to <function Model.make_predict_function.<locals>.predict_function at 0x2b897c7568c8> triggered tf.function retracing. Tracing is expensive and the excessive number of tracings could be due to (1) creating @tf.function repeatedly in a loop, (2) passing tensors with different shapes, (3) passing Python objects instead of tensors. For (1), please define your @tf.function outside of the loop. For (2), @tf.function has experimental_relax_shapes=True option that relaxes argument shapes that can avoid unnecessary retracing. For (3), please refer to https://www.tensorflow.org/tutorials/customization/performance#python_or_tensor_args and https://www.tensorflow.org/api_docs/python/tf/function for  more details.\n"
     ]
    },
    {
     "name": "stderr",
     "output_type": "stream",
     "text": [
      "WARNING:tensorflow:6 out of the last 17 calls to <function Model.make_predict_function.<locals>.predict_function at 0x2b897c7568c8> triggered tf.function retracing. Tracing is expensive and the excessive number of tracings could be due to (1) creating @tf.function repeatedly in a loop, (2) passing tensors with different shapes, (3) passing Python objects instead of tensors. For (1), please define your @tf.function outside of the loop. For (2), @tf.function has experimental_relax_shapes=True option that relaxes argument shapes that can avoid unnecessary retracing. For (3), please refer to https://www.tensorflow.org/tutorials/customization/performance#python_or_tensor_args and https://www.tensorflow.org/api_docs/python/tf/function for  more details.\n"
     ]
    },
    {
     "name": "stdout",
     "output_type": "stream",
     "text": [
      "2015-10\n",
      "WARNING:tensorflow:7 out of the last 18 calls to <function Model.make_predict_function.<locals>.predict_function at 0x2b89911ff8c8> triggered tf.function retracing. Tracing is expensive and the excessive number of tracings could be due to (1) creating @tf.function repeatedly in a loop, (2) passing tensors with different shapes, (3) passing Python objects instead of tensors. For (1), please define your @tf.function outside of the loop. For (2), @tf.function has experimental_relax_shapes=True option that relaxes argument shapes that can avoid unnecessary retracing. For (3), please refer to https://www.tensorflow.org/tutorials/customization/performance#python_or_tensor_args and https://www.tensorflow.org/api_docs/python/tf/function for  more details.\n"
     ]
    },
    {
     "name": "stderr",
     "output_type": "stream",
     "text": [
      "WARNING:tensorflow:7 out of the last 18 calls to <function Model.make_predict_function.<locals>.predict_function at 0x2b89911ff8c8> triggered tf.function retracing. Tracing is expensive and the excessive number of tracings could be due to (1) creating @tf.function repeatedly in a loop, (2) passing tensors with different shapes, (3) passing Python objects instead of tensors. For (1), please define your @tf.function outside of the loop. For (2), @tf.function has experimental_relax_shapes=True option that relaxes argument shapes that can avoid unnecessary retracing. For (3), please refer to https://www.tensorflow.org/tutorials/customization/performance#python_or_tensor_args and https://www.tensorflow.org/api_docs/python/tf/function for  more details.\n"
     ]
    },
    {
     "name": "stdout",
     "output_type": "stream",
     "text": [
      "WARNING:tensorflow:5 out of the last 15 calls to <function Model.make_predict_function.<locals>.predict_function at 0x2b89906e9d90> triggered tf.function retracing. Tracing is expensive and the excessive number of tracings could be due to (1) creating @tf.function repeatedly in a loop, (2) passing tensors with different shapes, (3) passing Python objects instead of tensors. For (1), please define your @tf.function outside of the loop. For (2), @tf.function has experimental_relax_shapes=True option that relaxes argument shapes that can avoid unnecessary retracing. For (3), please refer to https://www.tensorflow.org/tutorials/customization/performance#python_or_tensor_args and https://www.tensorflow.org/api_docs/python/tf/function for  more details.\n"
     ]
    },
    {
     "name": "stderr",
     "output_type": "stream",
     "text": [
      "WARNING:tensorflow:5 out of the last 15 calls to <function Model.make_predict_function.<locals>.predict_function at 0x2b89906e9d90> triggered tf.function retracing. Tracing is expensive and the excessive number of tracings could be due to (1) creating @tf.function repeatedly in a loop, (2) passing tensors with different shapes, (3) passing Python objects instead of tensors. For (1), please define your @tf.function outside of the loop. For (2), @tf.function has experimental_relax_shapes=True option that relaxes argument shapes that can avoid unnecessary retracing. For (3), please refer to https://www.tensorflow.org/tutorials/customization/performance#python_or_tensor_args and https://www.tensorflow.org/api_docs/python/tf/function for  more details.\n"
     ]
    },
    {
     "name": "stdout",
     "output_type": "stream",
     "text": [
      "WARNING:tensorflow:6 out of the last 16 calls to <function Model.make_predict_function.<locals>.predict_function at 0x2b897edc7840> triggered tf.function retracing. Tracing is expensive and the excessive number of tracings could be due to (1) creating @tf.function repeatedly in a loop, (2) passing tensors with different shapes, (3) passing Python objects instead of tensors. For (1), please define your @tf.function outside of the loop. For (2), @tf.function has experimental_relax_shapes=True option that relaxes argument shapes that can avoid unnecessary retracing. For (3), please refer to https://www.tensorflow.org/tutorials/customization/performance#python_or_tensor_args and https://www.tensorflow.org/api_docs/python/tf/function for  more details.\n"
     ]
    },
    {
     "name": "stderr",
     "output_type": "stream",
     "text": [
      "WARNING:tensorflow:6 out of the last 16 calls to <function Model.make_predict_function.<locals>.predict_function at 0x2b897edc7840> triggered tf.function retracing. Tracing is expensive and the excessive number of tracings could be due to (1) creating @tf.function repeatedly in a loop, (2) passing tensors with different shapes, (3) passing Python objects instead of tensors. For (1), please define your @tf.function outside of the loop. For (2), @tf.function has experimental_relax_shapes=True option that relaxes argument shapes that can avoid unnecessary retracing. For (3), please refer to https://www.tensorflow.org/tutorials/customization/performance#python_or_tensor_args and https://www.tensorflow.org/api_docs/python/tf/function for  more details.\n"
     ]
    },
    {
     "name": "stdout",
     "output_type": "stream",
     "text": [
      "2015-11\n",
      "WARNING:tensorflow:6 out of the last 11 calls to <function Model.make_predict_function.<locals>.predict_function at 0x2b89920577b8> triggered tf.function retracing. Tracing is expensive and the excessive number of tracings could be due to (1) creating @tf.function repeatedly in a loop, (2) passing tensors with different shapes, (3) passing Python objects instead of tensors. For (1), please define your @tf.function outside of the loop. For (2), @tf.function has experimental_relax_shapes=True option that relaxes argument shapes that can avoid unnecessary retracing. For (3), please refer to https://www.tensorflow.org/tutorials/customization/performance#python_or_tensor_args and https://www.tensorflow.org/api_docs/python/tf/function for  more details.\n"
     ]
    },
    {
     "name": "stderr",
     "output_type": "stream",
     "text": [
      "WARNING:tensorflow:6 out of the last 11 calls to <function Model.make_predict_function.<locals>.predict_function at 0x2b89920577b8> triggered tf.function retracing. Tracing is expensive and the excessive number of tracings could be due to (1) creating @tf.function repeatedly in a loop, (2) passing tensors with different shapes, (3) passing Python objects instead of tensors. For (1), please define your @tf.function outside of the loop. For (2), @tf.function has experimental_relax_shapes=True option that relaxes argument shapes that can avoid unnecessary retracing. For (3), please refer to https://www.tensorflow.org/tutorials/customization/performance#python_or_tensor_args and https://www.tensorflow.org/api_docs/python/tf/function for  more details.\n"
     ]
    },
    {
     "name": "stdout",
     "output_type": "stream",
     "text": [
      "WARNING:tensorflow:6 out of the last 11 calls to <function Model.make_predict_function.<locals>.predict_function at 0x2b897e0ded08> triggered tf.function retracing. Tracing is expensive and the excessive number of tracings could be due to (1) creating @tf.function repeatedly in a loop, (2) passing tensors with different shapes, (3) passing Python objects instead of tensors. For (1), please define your @tf.function outside of the loop. For (2), @tf.function has experimental_relax_shapes=True option that relaxes argument shapes that can avoid unnecessary retracing. For (3), please refer to https://www.tensorflow.org/tutorials/customization/performance#python_or_tensor_args and https://www.tensorflow.org/api_docs/python/tf/function for  more details.\n"
     ]
    },
    {
     "name": "stderr",
     "output_type": "stream",
     "text": [
      "WARNING:tensorflow:6 out of the last 11 calls to <function Model.make_predict_function.<locals>.predict_function at 0x2b897e0ded08> triggered tf.function retracing. Tracing is expensive and the excessive number of tracings could be due to (1) creating @tf.function repeatedly in a loop, (2) passing tensors with different shapes, (3) passing Python objects instead of tensors. For (1), please define your @tf.function outside of the loop. For (2), @tf.function has experimental_relax_shapes=True option that relaxes argument shapes that can avoid unnecessary retracing. For (3), please refer to https://www.tensorflow.org/tutorials/customization/performance#python_or_tensor_args and https://www.tensorflow.org/api_docs/python/tf/function for  more details.\n"
     ]
    },
    {
     "name": "stdout",
     "output_type": "stream",
     "text": [
      "WARNING:tensorflow:6 out of the last 14 calls to <function Model.make_predict_function.<locals>.predict_function at 0x2b89923a6950> triggered tf.function retracing. Tracing is expensive and the excessive number of tracings could be due to (1) creating @tf.function repeatedly in a loop, (2) passing tensors with different shapes, (3) passing Python objects instead of tensors. For (1), please define your @tf.function outside of the loop. For (2), @tf.function has experimental_relax_shapes=True option that relaxes argument shapes that can avoid unnecessary retracing. For (3), please refer to https://www.tensorflow.org/tutorials/customization/performance#python_or_tensor_args and https://www.tensorflow.org/api_docs/python/tf/function for  more details.\n"
     ]
    },
    {
     "name": "stderr",
     "output_type": "stream",
     "text": [
      "WARNING:tensorflow:6 out of the last 14 calls to <function Model.make_predict_function.<locals>.predict_function at 0x2b89923a6950> triggered tf.function retracing. Tracing is expensive and the excessive number of tracings could be due to (1) creating @tf.function repeatedly in a loop, (2) passing tensors with different shapes, (3) passing Python objects instead of tensors. For (1), please define your @tf.function outside of the loop. For (2), @tf.function has experimental_relax_shapes=True option that relaxes argument shapes that can avoid unnecessary retracing. For (3), please refer to https://www.tensorflow.org/tutorials/customization/performance#python_or_tensor_args and https://www.tensorflow.org/api_docs/python/tf/function for  more details.\n"
     ]
    },
    {
     "name": "stdout",
     "output_type": "stream",
     "text": [
      "WARNING:tensorflow:5 out of the last 11 calls to <function Model.make_predict_function.<locals>.predict_function at 0x2b8992ec4d90> triggered tf.function retracing. Tracing is expensive and the excessive number of tracings could be due to (1) creating @tf.function repeatedly in a loop, (2) passing tensors with different shapes, (3) passing Python objects instead of tensors. For (1), please define your @tf.function outside of the loop. For (2), @tf.function has experimental_relax_shapes=True option that relaxes argument shapes that can avoid unnecessary retracing. For (3), please refer to https://www.tensorflow.org/tutorials/customization/performance#python_or_tensor_args and https://www.tensorflow.org/api_docs/python/tf/function for  more details.\n"
     ]
    },
    {
     "name": "stderr",
     "output_type": "stream",
     "text": [
      "WARNING:tensorflow:5 out of the last 11 calls to <function Model.make_predict_function.<locals>.predict_function at 0x2b8992ec4d90> triggered tf.function retracing. Tracing is expensive and the excessive number of tracings could be due to (1) creating @tf.function repeatedly in a loop, (2) passing tensors with different shapes, (3) passing Python objects instead of tensors. For (1), please define your @tf.function outside of the loop. For (2), @tf.function has experimental_relax_shapes=True option that relaxes argument shapes that can avoid unnecessary retracing. For (3), please refer to https://www.tensorflow.org/tutorials/customization/performance#python_or_tensor_args and https://www.tensorflow.org/api_docs/python/tf/function for  more details.\n"
     ]
    },
    {
     "name": "stdout",
     "output_type": "stream",
     "text": [
      "WARNING:tensorflow:5 out of the last 11 calls to <function Model.make_predict_function.<locals>.predict_function at 0x2b89925596a8> triggered tf.function retracing. Tracing is expensive and the excessive number of tracings could be due to (1) creating @tf.function repeatedly in a loop, (2) passing tensors with different shapes, (3) passing Python objects instead of tensors. For (1), please define your @tf.function outside of the loop. For (2), @tf.function has experimental_relax_shapes=True option that relaxes argument shapes that can avoid unnecessary retracing. For (3), please refer to https://www.tensorflow.org/tutorials/customization/performance#python_or_tensor_args and https://www.tensorflow.org/api_docs/python/tf/function for  more details.\n"
     ]
    },
    {
     "name": "stderr",
     "output_type": "stream",
     "text": [
      "WARNING:tensorflow:5 out of the last 11 calls to <function Model.make_predict_function.<locals>.predict_function at 0x2b89925596a8> triggered tf.function retracing. Tracing is expensive and the excessive number of tracings could be due to (1) creating @tf.function repeatedly in a loop, (2) passing tensors with different shapes, (3) passing Python objects instead of tensors. For (1), please define your @tf.function outside of the loop. For (2), @tf.function has experimental_relax_shapes=True option that relaxes argument shapes that can avoid unnecessary retracing. For (3), please refer to https://www.tensorflow.org/tutorials/customization/performance#python_or_tensor_args and https://www.tensorflow.org/api_docs/python/tf/function for  more details.\n"
     ]
    },
    {
     "name": "stdout",
     "output_type": "stream",
     "text": [
      "WARNING:tensorflow:5 out of the last 11 calls to <function Model.make_predict_function.<locals>.predict_function at 0x2b89916092f0> triggered tf.function retracing. Tracing is expensive and the excessive number of tracings could be due to (1) creating @tf.function repeatedly in a loop, (2) passing tensors with different shapes, (3) passing Python objects instead of tensors. For (1), please define your @tf.function outside of the loop. For (2), @tf.function has experimental_relax_shapes=True option that relaxes argument shapes that can avoid unnecessary retracing. For (3), please refer to https://www.tensorflow.org/tutorials/customization/performance#python_or_tensor_args and https://www.tensorflow.org/api_docs/python/tf/function for  more details.\n"
     ]
    },
    {
     "name": "stderr",
     "output_type": "stream",
     "text": [
      "WARNING:tensorflow:5 out of the last 11 calls to <function Model.make_predict_function.<locals>.predict_function at 0x2b89916092f0> triggered tf.function retracing. Tracing is expensive and the excessive number of tracings could be due to (1) creating @tf.function repeatedly in a loop, (2) passing tensors with different shapes, (3) passing Python objects instead of tensors. For (1), please define your @tf.function outside of the loop. For (2), @tf.function has experimental_relax_shapes=True option that relaxes argument shapes that can avoid unnecessary retracing. For (3), please refer to https://www.tensorflow.org/tutorials/customization/performance#python_or_tensor_args and https://www.tensorflow.org/api_docs/python/tf/function for  more details.\n"
     ]
    },
    {
     "name": "stdout",
     "output_type": "stream",
     "text": [
      "2015-12\n",
      "WARNING:tensorflow:5 out of the last 13 calls to <function Model.make_predict_function.<locals>.predict_function at 0x2b89938bb950> triggered tf.function retracing. Tracing is expensive and the excessive number of tracings could be due to (1) creating @tf.function repeatedly in a loop, (2) passing tensors with different shapes, (3) passing Python objects instead of tensors. For (1), please define your @tf.function outside of the loop. For (2), @tf.function has experimental_relax_shapes=True option that relaxes argument shapes that can avoid unnecessary retracing. For (3), please refer to https://www.tensorflow.org/tutorials/customization/performance#python_or_tensor_args and https://www.tensorflow.org/api_docs/python/tf/function for  more details.\n"
     ]
    },
    {
     "name": "stderr",
     "output_type": "stream",
     "text": [
      "WARNING:tensorflow:5 out of the last 13 calls to <function Model.make_predict_function.<locals>.predict_function at 0x2b89938bb950> triggered tf.function retracing. Tracing is expensive and the excessive number of tracings could be due to (1) creating @tf.function repeatedly in a loop, (2) passing tensors with different shapes, (3) passing Python objects instead of tensors. For (1), please define your @tf.function outside of the loop. For (2), @tf.function has experimental_relax_shapes=True option that relaxes argument shapes that can avoid unnecessary retracing. For (3), please refer to https://www.tensorflow.org/tutorials/customization/performance#python_or_tensor_args and https://www.tensorflow.org/api_docs/python/tf/function for  more details.\n"
     ]
    },
    {
     "name": "stdout",
     "output_type": "stream",
     "text": [
      "WARNING:tensorflow:6 out of the last 14 calls to <function Model.make_predict_function.<locals>.predict_function at 0x2b8990e6d488> triggered tf.function retracing. Tracing is expensive and the excessive number of tracings could be due to (1) creating @tf.function repeatedly in a loop, (2) passing tensors with different shapes, (3) passing Python objects instead of tensors. For (1), please define your @tf.function outside of the loop. For (2), @tf.function has experimental_relax_shapes=True option that relaxes argument shapes that can avoid unnecessary retracing. For (3), please refer to https://www.tensorflow.org/tutorials/customization/performance#python_or_tensor_args and https://www.tensorflow.org/api_docs/python/tf/function for  more details.\n"
     ]
    },
    {
     "name": "stderr",
     "output_type": "stream",
     "text": [
      "WARNING:tensorflow:6 out of the last 14 calls to <function Model.make_predict_function.<locals>.predict_function at 0x2b8990e6d488> triggered tf.function retracing. Tracing is expensive and the excessive number of tracings could be due to (1) creating @tf.function repeatedly in a loop, (2) passing tensors with different shapes, (3) passing Python objects instead of tensors. For (1), please define your @tf.function outside of the loop. For (2), @tf.function has experimental_relax_shapes=True option that relaxes argument shapes that can avoid unnecessary retracing. For (3), please refer to https://www.tensorflow.org/tutorials/customization/performance#python_or_tensor_args and https://www.tensorflow.org/api_docs/python/tf/function for  more details.\n"
     ]
    },
    {
     "name": "stdout",
     "output_type": "stream",
     "text": [
      "2016-01\n",
      "WARNING:tensorflow:7 out of the last 15 calls to <function Model.make_predict_function.<locals>.predict_function at 0x2b8991ab0a60> triggered tf.function retracing. Tracing is expensive and the excessive number of tracings could be due to (1) creating @tf.function repeatedly in a loop, (2) passing tensors with different shapes, (3) passing Python objects instead of tensors. For (1), please define your @tf.function outside of the loop. For (2), @tf.function has experimental_relax_shapes=True option that relaxes argument shapes that can avoid unnecessary retracing. For (3), please refer to https://www.tensorflow.org/tutorials/customization/performance#python_or_tensor_args and https://www.tensorflow.org/api_docs/python/tf/function for  more details.\n"
     ]
    },
    {
     "name": "stderr",
     "output_type": "stream",
     "text": [
      "WARNING:tensorflow:7 out of the last 15 calls to <function Model.make_predict_function.<locals>.predict_function at 0x2b8991ab0a60> triggered tf.function retracing. Tracing is expensive and the excessive number of tracings could be due to (1) creating @tf.function repeatedly in a loop, (2) passing tensors with different shapes, (3) passing Python objects instead of tensors. For (1), please define your @tf.function outside of the loop. For (2), @tf.function has experimental_relax_shapes=True option that relaxes argument shapes that can avoid unnecessary retracing. For (3), please refer to https://www.tensorflow.org/tutorials/customization/performance#python_or_tensor_args and https://www.tensorflow.org/api_docs/python/tf/function for  more details.\n"
     ]
    },
    {
     "name": "stdout",
     "output_type": "stream",
     "text": [
      "WARNING:tensorflow:8 out of the last 16 calls to <function Model.make_predict_function.<locals>.predict_function at 0x2b8990b98048> triggered tf.function retracing. Tracing is expensive and the excessive number of tracings could be due to (1) creating @tf.function repeatedly in a loop, (2) passing tensors with different shapes, (3) passing Python objects instead of tensors. For (1), please define your @tf.function outside of the loop. For (2), @tf.function has experimental_relax_shapes=True option that relaxes argument shapes that can avoid unnecessary retracing. For (3), please refer to https://www.tensorflow.org/tutorials/customization/performance#python_or_tensor_args and https://www.tensorflow.org/api_docs/python/tf/function for  more details.\n"
     ]
    },
    {
     "name": "stderr",
     "output_type": "stream",
     "text": [
      "WARNING:tensorflow:8 out of the last 16 calls to <function Model.make_predict_function.<locals>.predict_function at 0x2b8990b98048> triggered tf.function retracing. Tracing is expensive and the excessive number of tracings could be due to (1) creating @tf.function repeatedly in a loop, (2) passing tensors with different shapes, (3) passing Python objects instead of tensors. For (1), please define your @tf.function outside of the loop. For (2), @tf.function has experimental_relax_shapes=True option that relaxes argument shapes that can avoid unnecessary retracing. For (3), please refer to https://www.tensorflow.org/tutorials/customization/performance#python_or_tensor_args and https://www.tensorflow.org/api_docs/python/tf/function for  more details.\n"
     ]
    },
    {
     "name": "stdout",
     "output_type": "stream",
     "text": [
      "WARNING:tensorflow:9 out of the last 19 calls to <function Model.make_predict_function.<locals>.predict_function at 0x2b89a098b7b8> triggered tf.function retracing. Tracing is expensive and the excessive number of tracings could be due to (1) creating @tf.function repeatedly in a loop, (2) passing tensors with different shapes, (3) passing Python objects instead of tensors. For (1), please define your @tf.function outside of the loop. For (2), @tf.function has experimental_relax_shapes=True option that relaxes argument shapes that can avoid unnecessary retracing. For (3), please refer to https://www.tensorflow.org/tutorials/customization/performance#python_or_tensor_args and https://www.tensorflow.org/api_docs/python/tf/function for  more details.\n"
     ]
    },
    {
     "name": "stderr",
     "output_type": "stream",
     "text": [
      "WARNING:tensorflow:9 out of the last 19 calls to <function Model.make_predict_function.<locals>.predict_function at 0x2b89a098b7b8> triggered tf.function retracing. Tracing is expensive and the excessive number of tracings could be due to (1) creating @tf.function repeatedly in a loop, (2) passing tensors with different shapes, (3) passing Python objects instead of tensors. For (1), please define your @tf.function outside of the loop. For (2), @tf.function has experimental_relax_shapes=True option that relaxes argument shapes that can avoid unnecessary retracing. For (3), please refer to https://www.tensorflow.org/tutorials/customization/performance#python_or_tensor_args and https://www.tensorflow.org/api_docs/python/tf/function for  more details.\n"
     ]
    },
    {
     "name": "stdout",
     "output_type": "stream",
     "text": [
      "WARNING:tensorflow:9 out of the last 11 calls to <function Model.make_predict_function.<locals>.predict_function at 0x2b899134f620> triggered tf.function retracing. Tracing is expensive and the excessive number of tracings could be due to (1) creating @tf.function repeatedly in a loop, (2) passing tensors with different shapes, (3) passing Python objects instead of tensors. For (1), please define your @tf.function outside of the loop. For (2), @tf.function has experimental_relax_shapes=True option that relaxes argument shapes that can avoid unnecessary retracing. For (3), please refer to https://www.tensorflow.org/tutorials/customization/performance#python_or_tensor_args and https://www.tensorflow.org/api_docs/python/tf/function for  more details.\n"
     ]
    },
    {
     "name": "stderr",
     "output_type": "stream",
     "text": [
      "WARNING:tensorflow:9 out of the last 11 calls to <function Model.make_predict_function.<locals>.predict_function at 0x2b899134f620> triggered tf.function retracing. Tracing is expensive and the excessive number of tracings could be due to (1) creating @tf.function repeatedly in a loop, (2) passing tensors with different shapes, (3) passing Python objects instead of tensors. For (1), please define your @tf.function outside of the loop. For (2), @tf.function has experimental_relax_shapes=True option that relaxes argument shapes that can avoid unnecessary retracing. For (3), please refer to https://www.tensorflow.org/tutorials/customization/performance#python_or_tensor_args and https://www.tensorflow.org/api_docs/python/tf/function for  more details.\n"
     ]
    },
    {
     "name": "stdout",
     "output_type": "stream",
     "text": [
      "2016-02\n",
      "WARNING:tensorflow:5 out of the last 16 calls to <function Model.make_predict_function.<locals>.predict_function at 0x2b899367d950> triggered tf.function retracing. Tracing is expensive and the excessive number of tracings could be due to (1) creating @tf.function repeatedly in a loop, (2) passing tensors with different shapes, (3) passing Python objects instead of tensors. For (1), please define your @tf.function outside of the loop. For (2), @tf.function has experimental_relax_shapes=True option that relaxes argument shapes that can avoid unnecessary retracing. For (3), please refer to https://www.tensorflow.org/tutorials/customization/performance#python_or_tensor_args and https://www.tensorflow.org/api_docs/python/tf/function for  more details.\n"
     ]
    },
    {
     "name": "stderr",
     "output_type": "stream",
     "text": [
      "WARNING:tensorflow:5 out of the last 16 calls to <function Model.make_predict_function.<locals>.predict_function at 0x2b899367d950> triggered tf.function retracing. Tracing is expensive and the excessive number of tracings could be due to (1) creating @tf.function repeatedly in a loop, (2) passing tensors with different shapes, (3) passing Python objects instead of tensors. For (1), please define your @tf.function outside of the loop. For (2), @tf.function has experimental_relax_shapes=True option that relaxes argument shapes that can avoid unnecessary retracing. For (3), please refer to https://www.tensorflow.org/tutorials/customization/performance#python_or_tensor_args and https://www.tensorflow.org/api_docs/python/tf/function for  more details.\n"
     ]
    },
    {
     "name": "stdout",
     "output_type": "stream",
     "text": [
      "WARNING:tensorflow:5 out of the last 13 calls to <function Model.make_predict_function.<locals>.predict_function at 0x2b89a0472378> triggered tf.function retracing. Tracing is expensive and the excessive number of tracings could be due to (1) creating @tf.function repeatedly in a loop, (2) passing tensors with different shapes, (3) passing Python objects instead of tensors. For (1), please define your @tf.function outside of the loop. For (2), @tf.function has experimental_relax_shapes=True option that relaxes argument shapes that can avoid unnecessary retracing. For (3), please refer to https://www.tensorflow.org/tutorials/customization/performance#python_or_tensor_args and https://www.tensorflow.org/api_docs/python/tf/function for  more details.\n"
     ]
    },
    {
     "name": "stderr",
     "output_type": "stream",
     "text": [
      "WARNING:tensorflow:5 out of the last 13 calls to <function Model.make_predict_function.<locals>.predict_function at 0x2b89a0472378> triggered tf.function retracing. Tracing is expensive and the excessive number of tracings could be due to (1) creating @tf.function repeatedly in a loop, (2) passing tensors with different shapes, (3) passing Python objects instead of tensors. For (1), please define your @tf.function outside of the loop. For (2), @tf.function has experimental_relax_shapes=True option that relaxes argument shapes that can avoid unnecessary retracing. For (3), please refer to https://www.tensorflow.org/tutorials/customization/performance#python_or_tensor_args and https://www.tensorflow.org/api_docs/python/tf/function for  more details.\n"
     ]
    },
    {
     "name": "stdout",
     "output_type": "stream",
     "text": [
      "WARNING:tensorflow:5 out of the last 11 calls to <function Model.make_predict_function.<locals>.predict_function at 0x2b899100a158> triggered tf.function retracing. Tracing is expensive and the excessive number of tracings could be due to (1) creating @tf.function repeatedly in a loop, (2) passing tensors with different shapes, (3) passing Python objects instead of tensors. For (1), please define your @tf.function outside of the loop. For (2), @tf.function has experimental_relax_shapes=True option that relaxes argument shapes that can avoid unnecessary retracing. For (3), please refer to https://www.tensorflow.org/tutorials/customization/performance#python_or_tensor_args and https://www.tensorflow.org/api_docs/python/tf/function for  more details.\n"
     ]
    },
    {
     "name": "stderr",
     "output_type": "stream",
     "text": [
      "WARNING:tensorflow:5 out of the last 11 calls to <function Model.make_predict_function.<locals>.predict_function at 0x2b899100a158> triggered tf.function retracing. Tracing is expensive and the excessive number of tracings could be due to (1) creating @tf.function repeatedly in a loop, (2) passing tensors with different shapes, (3) passing Python objects instead of tensors. For (1), please define your @tf.function outside of the loop. For (2), @tf.function has experimental_relax_shapes=True option that relaxes argument shapes that can avoid unnecessary retracing. For (3), please refer to https://www.tensorflow.org/tutorials/customization/performance#python_or_tensor_args and https://www.tensorflow.org/api_docs/python/tf/function for  more details.\n"
     ]
    },
    {
     "name": "stdout",
     "output_type": "stream",
     "text": [
      "2016-03\n",
      "WARNING:tensorflow:6 out of the last 16 calls to <function Model.make_predict_function.<locals>.predict_function at 0x2b89a10d90d0> triggered tf.function retracing. Tracing is expensive and the excessive number of tracings could be due to (1) creating @tf.function repeatedly in a loop, (2) passing tensors with different shapes, (3) passing Python objects instead of tensors. For (1), please define your @tf.function outside of the loop. For (2), @tf.function has experimental_relax_shapes=True option that relaxes argument shapes that can avoid unnecessary retracing. For (3), please refer to https://www.tensorflow.org/tutorials/customization/performance#python_or_tensor_args and https://www.tensorflow.org/api_docs/python/tf/function for  more details.\n"
     ]
    },
    {
     "name": "stderr",
     "output_type": "stream",
     "text": [
      "WARNING:tensorflow:6 out of the last 16 calls to <function Model.make_predict_function.<locals>.predict_function at 0x2b89a10d90d0> triggered tf.function retracing. Tracing is expensive and the excessive number of tracings could be due to (1) creating @tf.function repeatedly in a loop, (2) passing tensors with different shapes, (3) passing Python objects instead of tensors. For (1), please define your @tf.function outside of the loop. For (2), @tf.function has experimental_relax_shapes=True option that relaxes argument shapes that can avoid unnecessary retracing. For (3), please refer to https://www.tensorflow.org/tutorials/customization/performance#python_or_tensor_args and https://www.tensorflow.org/api_docs/python/tf/function for  more details.\n"
     ]
    },
    {
     "name": "stdout",
     "output_type": "stream",
     "text": [
      "WARNING:tensorflow:7 out of the last 17 calls to <function Model.make_predict_function.<locals>.predict_function at 0x2b89a1c706a8> triggered tf.function retracing. Tracing is expensive and the excessive number of tracings could be due to (1) creating @tf.function repeatedly in a loop, (2) passing tensors with different shapes, (3) passing Python objects instead of tensors. For (1), please define your @tf.function outside of the loop. For (2), @tf.function has experimental_relax_shapes=True option that relaxes argument shapes that can avoid unnecessary retracing. For (3), please refer to https://www.tensorflow.org/tutorials/customization/performance#python_or_tensor_args and https://www.tensorflow.org/api_docs/python/tf/function for  more details.\n"
     ]
    },
    {
     "name": "stderr",
     "output_type": "stream",
     "text": [
      "WARNING:tensorflow:7 out of the last 17 calls to <function Model.make_predict_function.<locals>.predict_function at 0x2b89a1c706a8> triggered tf.function retracing. Tracing is expensive and the excessive number of tracings could be due to (1) creating @tf.function repeatedly in a loop, (2) passing tensors with different shapes, (3) passing Python objects instead of tensors. For (1), please define your @tf.function outside of the loop. For (2), @tf.function has experimental_relax_shapes=True option that relaxes argument shapes that can avoid unnecessary retracing. For (3), please refer to https://www.tensorflow.org/tutorials/customization/performance#python_or_tensor_args and https://www.tensorflow.org/api_docs/python/tf/function for  more details.\n"
     ]
    },
    {
     "name": "stdout",
     "output_type": "stream",
     "text": [
      "WARNING:tensorflow:5 out of the last 13 calls to <function Model.make_predict_function.<locals>.predict_function at 0x2b89916ccd08> triggered tf.function retracing. Tracing is expensive and the excessive number of tracings could be due to (1) creating @tf.function repeatedly in a loop, (2) passing tensors with different shapes, (3) passing Python objects instead of tensors. For (1), please define your @tf.function outside of the loop. For (2), @tf.function has experimental_relax_shapes=True option that relaxes argument shapes that can avoid unnecessary retracing. For (3), please refer to https://www.tensorflow.org/tutorials/customization/performance#python_or_tensor_args and https://www.tensorflow.org/api_docs/python/tf/function for  more details.\n"
     ]
    },
    {
     "name": "stderr",
     "output_type": "stream",
     "text": [
      "WARNING:tensorflow:5 out of the last 13 calls to <function Model.make_predict_function.<locals>.predict_function at 0x2b89916ccd08> triggered tf.function retracing. Tracing is expensive and the excessive number of tracings could be due to (1) creating @tf.function repeatedly in a loop, (2) passing tensors with different shapes, (3) passing Python objects instead of tensors. For (1), please define your @tf.function outside of the loop. For (2), @tf.function has experimental_relax_shapes=True option that relaxes argument shapes that can avoid unnecessary retracing. For (3), please refer to https://www.tensorflow.org/tutorials/customization/performance#python_or_tensor_args and https://www.tensorflow.org/api_docs/python/tf/function for  more details.\n"
     ]
    },
    {
     "name": "stdout",
     "output_type": "stream",
     "text": [
      "WARNING:tensorflow:6 out of the last 14 calls to <function Model.make_predict_function.<locals>.predict_function at 0x2b89a21f1048> triggered tf.function retracing. Tracing is expensive and the excessive number of tracings could be due to (1) creating @tf.function repeatedly in a loop, (2) passing tensors with different shapes, (3) passing Python objects instead of tensors. For (1), please define your @tf.function outside of the loop. For (2), @tf.function has experimental_relax_shapes=True option that relaxes argument shapes that can avoid unnecessary retracing. For (3), please refer to https://www.tensorflow.org/tutorials/customization/performance#python_or_tensor_args and https://www.tensorflow.org/api_docs/python/tf/function for  more details.\n"
     ]
    },
    {
     "name": "stderr",
     "output_type": "stream",
     "text": [
      "WARNING:tensorflow:6 out of the last 14 calls to <function Model.make_predict_function.<locals>.predict_function at 0x2b89a21f1048> triggered tf.function retracing. Tracing is expensive and the excessive number of tracings could be due to (1) creating @tf.function repeatedly in a loop, (2) passing tensors with different shapes, (3) passing Python objects instead of tensors. For (1), please define your @tf.function outside of the loop. For (2), @tf.function has experimental_relax_shapes=True option that relaxes argument shapes that can avoid unnecessary retracing. For (3), please refer to https://www.tensorflow.org/tutorials/customization/performance#python_or_tensor_args and https://www.tensorflow.org/api_docs/python/tf/function for  more details.\n"
     ]
    },
    {
     "name": "stdout",
     "output_type": "stream",
     "text": [
      "2016-04\n",
      "2016-05\n",
      "2016-06\n",
      "WARNING:tensorflow:5 out of the last 14 calls to <function Model.make_predict_function.<locals>.predict_function at 0x2b89a08d9d90> triggered tf.function retracing. Tracing is expensive and the excessive number of tracings could be due to (1) creating @tf.function repeatedly in a loop, (2) passing tensors with different shapes, (3) passing Python objects instead of tensors. For (1), please define your @tf.function outside of the loop. For (2), @tf.function has experimental_relax_shapes=True option that relaxes argument shapes that can avoid unnecessary retracing. For (3), please refer to https://www.tensorflow.org/tutorials/customization/performance#python_or_tensor_args and https://www.tensorflow.org/api_docs/python/tf/function for  more details.\n"
     ]
    },
    {
     "name": "stderr",
     "output_type": "stream",
     "text": [
      "WARNING:tensorflow:5 out of the last 14 calls to <function Model.make_predict_function.<locals>.predict_function at 0x2b89a08d9d90> triggered tf.function retracing. Tracing is expensive and the excessive number of tracings could be due to (1) creating @tf.function repeatedly in a loop, (2) passing tensors with different shapes, (3) passing Python objects instead of tensors. For (1), please define your @tf.function outside of the loop. For (2), @tf.function has experimental_relax_shapes=True option that relaxes argument shapes that can avoid unnecessary retracing. For (3), please refer to https://www.tensorflow.org/tutorials/customization/performance#python_or_tensor_args and https://www.tensorflow.org/api_docs/python/tf/function for  more details.\n"
     ]
    },
    {
     "name": "stdout",
     "output_type": "stream",
     "text": [
      "WARNING:tensorflow:6 out of the last 18 calls to <function Model.make_predict_function.<locals>.predict_function at 0x2b8993f25158> triggered tf.function retracing. Tracing is expensive and the excessive number of tracings could be due to (1) creating @tf.function repeatedly in a loop, (2) passing tensors with different shapes, (3) passing Python objects instead of tensors. For (1), please define your @tf.function outside of the loop. For (2), @tf.function has experimental_relax_shapes=True option that relaxes argument shapes that can avoid unnecessary retracing. For (3), please refer to https://www.tensorflow.org/tutorials/customization/performance#python_or_tensor_args and https://www.tensorflow.org/api_docs/python/tf/function for  more details.\n"
     ]
    },
    {
     "name": "stderr",
     "output_type": "stream",
     "text": [
      "WARNING:tensorflow:6 out of the last 18 calls to <function Model.make_predict_function.<locals>.predict_function at 0x2b8993f25158> triggered tf.function retracing. Tracing is expensive and the excessive number of tracings could be due to (1) creating @tf.function repeatedly in a loop, (2) passing tensors with different shapes, (3) passing Python objects instead of tensors. For (1), please define your @tf.function outside of the loop. For (2), @tf.function has experimental_relax_shapes=True option that relaxes argument shapes that can avoid unnecessary retracing. For (3), please refer to https://www.tensorflow.org/tutorials/customization/performance#python_or_tensor_args and https://www.tensorflow.org/api_docs/python/tf/function for  more details.\n"
     ]
    },
    {
     "name": "stdout",
     "output_type": "stream",
     "text": [
      "WARNING:tensorflow:6 out of the last 11 calls to <function Model.make_predict_function.<locals>.predict_function at 0x2b89a337e048> triggered tf.function retracing. Tracing is expensive and the excessive number of tracings could be due to (1) creating @tf.function repeatedly in a loop, (2) passing tensors with different shapes, (3) passing Python objects instead of tensors. For (1), please define your @tf.function outside of the loop. For (2), @tf.function has experimental_relax_shapes=True option that relaxes argument shapes that can avoid unnecessary retracing. For (3), please refer to https://www.tensorflow.org/tutorials/customization/performance#python_or_tensor_args and https://www.tensorflow.org/api_docs/python/tf/function for  more details.\n"
     ]
    },
    {
     "name": "stderr",
     "output_type": "stream",
     "text": [
      "WARNING:tensorflow:6 out of the last 11 calls to <function Model.make_predict_function.<locals>.predict_function at 0x2b89a337e048> triggered tf.function retracing. Tracing is expensive and the excessive number of tracings could be due to (1) creating @tf.function repeatedly in a loop, (2) passing tensors with different shapes, (3) passing Python objects instead of tensors. For (1), please define your @tf.function outside of the loop. For (2), @tf.function has experimental_relax_shapes=True option that relaxes argument shapes that can avoid unnecessary retracing. For (3), please refer to https://www.tensorflow.org/tutorials/customization/performance#python_or_tensor_args and https://www.tensorflow.org/api_docs/python/tf/function for  more details.\n"
     ]
    },
    {
     "name": "stdout",
     "output_type": "stream",
     "text": [
      "WARNING:tensorflow:6 out of the last 11 calls to <function Model.make_predict_function.<locals>.predict_function at 0x2b89a34d48c8> triggered tf.function retracing. Tracing is expensive and the excessive number of tracings could be due to (1) creating @tf.function repeatedly in a loop, (2) passing tensors with different shapes, (3) passing Python objects instead of tensors. For (1), please define your @tf.function outside of the loop. For (2), @tf.function has experimental_relax_shapes=True option that relaxes argument shapes that can avoid unnecessary retracing. For (3), please refer to https://www.tensorflow.org/tutorials/customization/performance#python_or_tensor_args and https://www.tensorflow.org/api_docs/python/tf/function for  more details.\n"
     ]
    },
    {
     "name": "stderr",
     "output_type": "stream",
     "text": [
      "WARNING:tensorflow:6 out of the last 11 calls to <function Model.make_predict_function.<locals>.predict_function at 0x2b89a34d48c8> triggered tf.function retracing. Tracing is expensive and the excessive number of tracings could be due to (1) creating @tf.function repeatedly in a loop, (2) passing tensors with different shapes, (3) passing Python objects instead of tensors. For (1), please define your @tf.function outside of the loop. For (2), @tf.function has experimental_relax_shapes=True option that relaxes argument shapes that can avoid unnecessary retracing. For (3), please refer to https://www.tensorflow.org/tutorials/customization/performance#python_or_tensor_args and https://www.tensorflow.org/api_docs/python/tf/function for  more details.\n"
     ]
    },
    {
     "name": "stdout",
     "output_type": "stream",
     "text": [
      "WARNING:tensorflow:7 out of the last 12 calls to <function Model.make_predict_function.<locals>.predict_function at 0x2b8992ef8598> triggered tf.function retracing. Tracing is expensive and the excessive number of tracings could be due to (1) creating @tf.function repeatedly in a loop, (2) passing tensors with different shapes, (3) passing Python objects instead of tensors. For (1), please define your @tf.function outside of the loop. For (2), @tf.function has experimental_relax_shapes=True option that relaxes argument shapes that can avoid unnecessary retracing. For (3), please refer to https://www.tensorflow.org/tutorials/customization/performance#python_or_tensor_args and https://www.tensorflow.org/api_docs/python/tf/function for  more details.\n"
     ]
    },
    {
     "name": "stderr",
     "output_type": "stream",
     "text": [
      "WARNING:tensorflow:7 out of the last 12 calls to <function Model.make_predict_function.<locals>.predict_function at 0x2b8992ef8598> triggered tf.function retracing. Tracing is expensive and the excessive number of tracings could be due to (1) creating @tf.function repeatedly in a loop, (2) passing tensors with different shapes, (3) passing Python objects instead of tensors. For (1), please define your @tf.function outside of the loop. For (2), @tf.function has experimental_relax_shapes=True option that relaxes argument shapes that can avoid unnecessary retracing. For (3), please refer to https://www.tensorflow.org/tutorials/customization/performance#python_or_tensor_args and https://www.tensorflow.org/api_docs/python/tf/function for  more details.\n"
     ]
    },
    {
     "name": "stdout",
     "output_type": "stream",
     "text": [
      "2016-07\n",
      "WARNING:tensorflow:5 out of the last 11 calls to <function Model.make_predict_function.<locals>.predict_function at 0x2b89a05c3268> triggered tf.function retracing. Tracing is expensive and the excessive number of tracings could be due to (1) creating @tf.function repeatedly in a loop, (2) passing tensors with different shapes, (3) passing Python objects instead of tensors. For (1), please define your @tf.function outside of the loop. For (2), @tf.function has experimental_relax_shapes=True option that relaxes argument shapes that can avoid unnecessary retracing. For (3), please refer to https://www.tensorflow.org/tutorials/customization/performance#python_or_tensor_args and https://www.tensorflow.org/api_docs/python/tf/function for  more details.\n"
     ]
    },
    {
     "name": "stderr",
     "output_type": "stream",
     "text": [
      "WARNING:tensorflow:5 out of the last 11 calls to <function Model.make_predict_function.<locals>.predict_function at 0x2b89a05c3268> triggered tf.function retracing. Tracing is expensive and the excessive number of tracings could be due to (1) creating @tf.function repeatedly in a loop, (2) passing tensors with different shapes, (3) passing Python objects instead of tensors. For (1), please define your @tf.function outside of the loop. For (2), @tf.function has experimental_relax_shapes=True option that relaxes argument shapes that can avoid unnecessary retracing. For (3), please refer to https://www.tensorflow.org/tutorials/customization/performance#python_or_tensor_args and https://www.tensorflow.org/api_docs/python/tf/function for  more details.\n"
     ]
    },
    {
     "name": "stdout",
     "output_type": "stream",
     "text": [
      "WARNING:tensorflow:5 out of the last 11 calls to <function Model.make_predict_function.<locals>.predict_function at 0x2b89a033c400> triggered tf.function retracing. Tracing is expensive and the excessive number of tracings could be due to (1) creating @tf.function repeatedly in a loop, (2) passing tensors with different shapes, (3) passing Python objects instead of tensors. For (1), please define your @tf.function outside of the loop. For (2), @tf.function has experimental_relax_shapes=True option that relaxes argument shapes that can avoid unnecessary retracing. For (3), please refer to https://www.tensorflow.org/tutorials/customization/performance#python_or_tensor_args and https://www.tensorflow.org/api_docs/python/tf/function for  more details.\n"
     ]
    },
    {
     "name": "stderr",
     "output_type": "stream",
     "text": [
      "WARNING:tensorflow:5 out of the last 11 calls to <function Model.make_predict_function.<locals>.predict_function at 0x2b89a033c400> triggered tf.function retracing. Tracing is expensive and the excessive number of tracings could be due to (1) creating @tf.function repeatedly in a loop, (2) passing tensors with different shapes, (3) passing Python objects instead of tensors. For (1), please define your @tf.function outside of the loop. For (2), @tf.function has experimental_relax_shapes=True option that relaxes argument shapes that can avoid unnecessary retracing. For (3), please refer to https://www.tensorflow.org/tutorials/customization/performance#python_or_tensor_args and https://www.tensorflow.org/api_docs/python/tf/function for  more details.\n"
     ]
    },
    {
     "name": "stdout",
     "output_type": "stream",
     "text": [
      "WARNING:tensorflow:5 out of the last 17 calls to <function Model.make_predict_function.<locals>.predict_function at 0x2b89acee0d90> triggered tf.function retracing. Tracing is expensive and the excessive number of tracings could be due to (1) creating @tf.function repeatedly in a loop, (2) passing tensors with different shapes, (3) passing Python objects instead of tensors. For (1), please define your @tf.function outside of the loop. For (2), @tf.function has experimental_relax_shapes=True option that relaxes argument shapes that can avoid unnecessary retracing. For (3), please refer to https://www.tensorflow.org/tutorials/customization/performance#python_or_tensor_args and https://www.tensorflow.org/api_docs/python/tf/function for  more details.\n"
     ]
    },
    {
     "name": "stderr",
     "output_type": "stream",
     "text": [
      "WARNING:tensorflow:5 out of the last 17 calls to <function Model.make_predict_function.<locals>.predict_function at 0x2b89acee0d90> triggered tf.function retracing. Tracing is expensive and the excessive number of tracings could be due to (1) creating @tf.function repeatedly in a loop, (2) passing tensors with different shapes, (3) passing Python objects instead of tensors. For (1), please define your @tf.function outside of the loop. For (2), @tf.function has experimental_relax_shapes=True option that relaxes argument shapes that can avoid unnecessary retracing. For (3), please refer to https://www.tensorflow.org/tutorials/customization/performance#python_or_tensor_args and https://www.tensorflow.org/api_docs/python/tf/function for  more details.\n"
     ]
    },
    {
     "name": "stdout",
     "output_type": "stream",
     "text": [
      "2016-08\n",
      "WARNING:tensorflow:5 out of the last 12 calls to <function Model.make_predict_function.<locals>.predict_function at 0x2b89a377b598> triggered tf.function retracing. Tracing is expensive and the excessive number of tracings could be due to (1) creating @tf.function repeatedly in a loop, (2) passing tensors with different shapes, (3) passing Python objects instead of tensors. For (1), please define your @tf.function outside of the loop. For (2), @tf.function has experimental_relax_shapes=True option that relaxes argument shapes that can avoid unnecessary retracing. For (3), please refer to https://www.tensorflow.org/tutorials/customization/performance#python_or_tensor_args and https://www.tensorflow.org/api_docs/python/tf/function for  more details.\n"
     ]
    },
    {
     "name": "stderr",
     "output_type": "stream",
     "text": [
      "WARNING:tensorflow:5 out of the last 12 calls to <function Model.make_predict_function.<locals>.predict_function at 0x2b89a377b598> triggered tf.function retracing. Tracing is expensive and the excessive number of tracings could be due to (1) creating @tf.function repeatedly in a loop, (2) passing tensors with different shapes, (3) passing Python objects instead of tensors. For (1), please define your @tf.function outside of the loop. For (2), @tf.function has experimental_relax_shapes=True option that relaxes argument shapes that can avoid unnecessary retracing. For (3), please refer to https://www.tensorflow.org/tutorials/customization/performance#python_or_tensor_args and https://www.tensorflow.org/api_docs/python/tf/function for  more details.\n"
     ]
    },
    {
     "name": "stdout",
     "output_type": "stream",
     "text": [
      "WARNING:tensorflow:5 out of the last 15 calls to <function Model.make_predict_function.<locals>.predict_function at 0x2b89a2417b70> triggered tf.function retracing. Tracing is expensive and the excessive number of tracings could be due to (1) creating @tf.function repeatedly in a loop, (2) passing tensors with different shapes, (3) passing Python objects instead of tensors. For (1), please define your @tf.function outside of the loop. For (2), @tf.function has experimental_relax_shapes=True option that relaxes argument shapes that can avoid unnecessary retracing. For (3), please refer to https://www.tensorflow.org/tutorials/customization/performance#python_or_tensor_args and https://www.tensorflow.org/api_docs/python/tf/function for  more details.\n"
     ]
    },
    {
     "name": "stderr",
     "output_type": "stream",
     "text": [
      "WARNING:tensorflow:5 out of the last 15 calls to <function Model.make_predict_function.<locals>.predict_function at 0x2b89a2417b70> triggered tf.function retracing. Tracing is expensive and the excessive number of tracings could be due to (1) creating @tf.function repeatedly in a loop, (2) passing tensors with different shapes, (3) passing Python objects instead of tensors. For (1), please define your @tf.function outside of the loop. For (2), @tf.function has experimental_relax_shapes=True option that relaxes argument shapes that can avoid unnecessary retracing. For (3), please refer to https://www.tensorflow.org/tutorials/customization/performance#python_or_tensor_args and https://www.tensorflow.org/api_docs/python/tf/function for  more details.\n"
     ]
    },
    {
     "name": "stdout",
     "output_type": "stream",
     "text": [
      "WARNING:tensorflow:6 out of the last 16 calls to <function Model.make_predict_function.<locals>.predict_function at 0x2b8886def0d0> triggered tf.function retracing. Tracing is expensive and the excessive number of tracings could be due to (1) creating @tf.function repeatedly in a loop, (2) passing tensors with different shapes, (3) passing Python objects instead of tensors. For (1), please define your @tf.function outside of the loop. For (2), @tf.function has experimental_relax_shapes=True option that relaxes argument shapes that can avoid unnecessary retracing. For (3), please refer to https://www.tensorflow.org/tutorials/customization/performance#python_or_tensor_args and https://www.tensorflow.org/api_docs/python/tf/function for  more details.\n"
     ]
    },
    {
     "name": "stderr",
     "output_type": "stream",
     "text": [
      "WARNING:tensorflow:6 out of the last 16 calls to <function Model.make_predict_function.<locals>.predict_function at 0x2b8886def0d0> triggered tf.function retracing. Tracing is expensive and the excessive number of tracings could be due to (1) creating @tf.function repeatedly in a loop, (2) passing tensors with different shapes, (3) passing Python objects instead of tensors. For (1), please define your @tf.function outside of the loop. For (2), @tf.function has experimental_relax_shapes=True option that relaxes argument shapes that can avoid unnecessary retracing. For (3), please refer to https://www.tensorflow.org/tutorials/customization/performance#python_or_tensor_args and https://www.tensorflow.org/api_docs/python/tf/function for  more details.\n"
     ]
    },
    {
     "name": "stdout",
     "output_type": "stream",
     "text": [
      "2016-09\n"
     ]
    },
    {
     "data": {
      "image/png": "[encoded data removed]",
      "text/plain": [
       "<Figure size 409.425x360 with 1 Axes>"
      ]
     },
     "metadata": {},
     "output_type": "display_data"
    },
    {
     "name": "stdout",
     "output_type": "stream",
     "text": [
      "WARNING:tensorflow:6 out of the last 11 calls to <function Model.make_predict_function.<locals>.predict_function at 0x2b89ade6ea60> triggered tf.function retracing. Tracing is expensive and the excessive number of tracings could be due to (1) creating @tf.function repeatedly in a loop, (2) passing tensors with different shapes, (3) passing Python objects instead of tensors. For (1), please define your @tf.function outside of the loop. For (2), @tf.function has experimental_relax_shapes=True option that relaxes argument shapes that can avoid unnecessary retracing. For (3), please refer to https://www.tensorflow.org/tutorials/customization/performance#python_or_tensor_args and https://www.tensorflow.org/api_docs/python/tf/function for  more details.\n"
     ]
    },
    {
     "name": "stderr",
     "output_type": "stream",
     "text": [
      "WARNING:tensorflow:6 out of the last 11 calls to <function Model.make_predict_function.<locals>.predict_function at 0x2b89ade6ea60> triggered tf.function retracing. Tracing is expensive and the excessive number of tracings could be due to (1) creating @tf.function repeatedly in a loop, (2) passing tensors with different shapes, (3) passing Python objects instead of tensors. For (1), please define your @tf.function outside of the loop. For (2), @tf.function has experimental_relax_shapes=True option that relaxes argument shapes that can avoid unnecessary retracing. For (3), please refer to https://www.tensorflow.org/tutorials/customization/performance#python_or_tensor_args and https://www.tensorflow.org/api_docs/python/tf/function for  more details.\n"
     ]
    },
    {
     "name": "stdout",
     "output_type": "stream",
     "text": [
      "WARNING:tensorflow:5 out of the last 11 calls to <function Model.make_predict_function.<locals>.predict_function at 0x2b89a3c47ae8> triggered tf.function retracing. Tracing is expensive and the excessive number of tracings could be due to (1) creating @tf.function repeatedly in a loop, (2) passing tensors with different shapes, (3) passing Python objects instead of tensors. For (1), please define your @tf.function outside of the loop. For (2), @tf.function has experimental_relax_shapes=True option that relaxes argument shapes that can avoid unnecessary retracing. For (3), please refer to https://www.tensorflow.org/tutorials/customization/performance#python_or_tensor_args and https://www.tensorflow.org/api_docs/python/tf/function for  more details.\n"
     ]
    },
    {
     "name": "stderr",
     "output_type": "stream",
     "text": [
      "WARNING:tensorflow:5 out of the last 11 calls to <function Model.make_predict_function.<locals>.predict_function at 0x2b89a3c47ae8> triggered tf.function retracing. Tracing is expensive and the excessive number of tracings could be due to (1) creating @tf.function repeatedly in a loop, (2) passing tensors with different shapes, (3) passing Python objects instead of tensors. For (1), please define your @tf.function outside of the loop. For (2), @tf.function has experimental_relax_shapes=True option that relaxes argument shapes that can avoid unnecessary retracing. For (3), please refer to https://www.tensorflow.org/tutorials/customization/performance#python_or_tensor_args and https://www.tensorflow.org/api_docs/python/tf/function for  more details.\n"
     ]
    },
    {
     "name": "stdout",
     "output_type": "stream",
     "text": [
      "2016-10\n",
      "WARNING:tensorflow:5 out of the last 12 calls to <function Model.make_predict_function.<locals>.predict_function at 0x2b89916cc950> triggered tf.function retracing. Tracing is expensive and the excessive number of tracings could be due to (1) creating @tf.function repeatedly in a loop, (2) passing tensors with different shapes, (3) passing Python objects instead of tensors. For (1), please define your @tf.function outside of the loop. For (2), @tf.function has experimental_relax_shapes=True option that relaxes argument shapes that can avoid unnecessary retracing. For (3), please refer to https://www.tensorflow.org/tutorials/customization/performance#python_or_tensor_args and https://www.tensorflow.org/api_docs/python/tf/function for  more details.\n"
     ]
    },
    {
     "name": "stderr",
     "output_type": "stream",
     "text": [
      "WARNING:tensorflow:5 out of the last 12 calls to <function Model.make_predict_function.<locals>.predict_function at 0x2b89916cc950> triggered tf.function retracing. Tracing is expensive and the excessive number of tracings could be due to (1) creating @tf.function repeatedly in a loop, (2) passing tensors with different shapes, (3) passing Python objects instead of tensors. For (1), please define your @tf.function outside of the loop. For (2), @tf.function has experimental_relax_shapes=True option that relaxes argument shapes that can avoid unnecessary retracing. For (3), please refer to https://www.tensorflow.org/tutorials/customization/performance#python_or_tensor_args and https://www.tensorflow.org/api_docs/python/tf/function for  more details.\n"
     ]
    },
    {
     "name": "stdout",
     "output_type": "stream",
     "text": [
      "2016-11\n",
      "2016-12\n",
      "2017-01\n",
      "WARNING:tensorflow:5 out of the last 18 calls to <function Model.make_predict_function.<locals>.predict_function at 0x2b89ac464510> triggered tf.function retracing. Tracing is expensive and the excessive number of tracings could be due to (1) creating @tf.function repeatedly in a loop, (2) passing tensors with different shapes, (3) passing Python objects instead of tensors. For (1), please define your @tf.function outside of the loop. For (2), @tf.function has experimental_relax_shapes=True option that relaxes argument shapes that can avoid unnecessary retracing. For (3), please refer to https://www.tensorflow.org/tutorials/customization/performance#python_or_tensor_args and https://www.tensorflow.org/api_docs/python/tf/function for  more details.\n"
     ]
    },
    {
     "name": "stderr",
     "output_type": "stream",
     "text": [
      "WARNING:tensorflow:5 out of the last 18 calls to <function Model.make_predict_function.<locals>.predict_function at 0x2b89ac464510> triggered tf.function retracing. Tracing is expensive and the excessive number of tracings could be due to (1) creating @tf.function repeatedly in a loop, (2) passing tensors with different shapes, (3) passing Python objects instead of tensors. For (1), please define your @tf.function outside of the loop. For (2), @tf.function has experimental_relax_shapes=True option that relaxes argument shapes that can avoid unnecessary retracing. For (3), please refer to https://www.tensorflow.org/tutorials/customization/performance#python_or_tensor_args and https://www.tensorflow.org/api_docs/python/tf/function for  more details.\n"
     ]
    },
    {
     "name": "stdout",
     "output_type": "stream",
     "text": [
      "2017-02\n",
      "WARNING:tensorflow:5 out of the last 13 calls to <function Model.make_predict_function.<locals>.predict_function at 0x2b89a347d488> triggered tf.function retracing. Tracing is expensive and the excessive number of tracings could be due to (1) creating @tf.function repeatedly in a loop, (2) passing tensors with different shapes, (3) passing Python objects instead of tensors. For (1), please define your @tf.function outside of the loop. For (2), @tf.function has experimental_relax_shapes=True option that relaxes argument shapes that can avoid unnecessary retracing. For (3), please refer to https://www.tensorflow.org/tutorials/customization/performance#python_or_tensor_args and https://www.tensorflow.org/api_docs/python/tf/function for  more details.\n"
     ]
    },
    {
     "name": "stderr",
     "output_type": "stream",
     "text": [
      "WARNING:tensorflow:5 out of the last 13 calls to <function Model.make_predict_function.<locals>.predict_function at 0x2b89a347d488> triggered tf.function retracing. Tracing is expensive and the excessive number of tracings could be due to (1) creating @tf.function repeatedly in a loop, (2) passing tensors with different shapes, (3) passing Python objects instead of tensors. For (1), please define your @tf.function outside of the loop. For (2), @tf.function has experimental_relax_shapes=True option that relaxes argument shapes that can avoid unnecessary retracing. For (3), please refer to https://www.tensorflow.org/tutorials/customization/performance#python_or_tensor_args and https://www.tensorflow.org/api_docs/python/tf/function for  more details.\n"
     ]
    },
    {
     "name": "stdout",
     "output_type": "stream",
     "text": [
      "WARNING:tensorflow:6 out of the last 14 calls to <function Model.make_predict_function.<locals>.predict_function at 0x2b8990e6de18> triggered tf.function retracing. Tracing is expensive and the excessive number of tracings could be due to (1) creating @tf.function repeatedly in a loop, (2) passing tensors with different shapes, (3) passing Python objects instead of tensors. For (1), please define your @tf.function outside of the loop. For (2), @tf.function has experimental_relax_shapes=True option that relaxes argument shapes that can avoid unnecessary retracing. For (3), please refer to https://www.tensorflow.org/tutorials/customization/performance#python_or_tensor_args and https://www.tensorflow.org/api_docs/python/tf/function for  more details.\n"
     ]
    },
    {
     "name": "stderr",
     "output_type": "stream",
     "text": [
      "WARNING:tensorflow:6 out of the last 14 calls to <function Model.make_predict_function.<locals>.predict_function at 0x2b8990e6de18> triggered tf.function retracing. Tracing is expensive and the excessive number of tracings could be due to (1) creating @tf.function repeatedly in a loop, (2) passing tensors with different shapes, (3) passing Python objects instead of tensors. For (1), please define your @tf.function outside of the loop. For (2), @tf.function has experimental_relax_shapes=True option that relaxes argument shapes that can avoid unnecessary retracing. For (3), please refer to https://www.tensorflow.org/tutorials/customization/performance#python_or_tensor_args and https://www.tensorflow.org/api_docs/python/tf/function for  more details.\n"
     ]
    },
    {
     "name": "stdout",
     "output_type": "stream",
     "text": [
      "2017-03\n"
     ]
    },
    {
     "ename": "KeyboardInterrupt",
     "evalue": "",
     "output_type": "error",
     "traceback": [
      "\u001b[0;31m---------------------------------------------------------------------------\u001b[0m",
      "\u001b[0;31mKeyboardInterrupt\u001b[0m                         Traceback (most recent call last)",
      "\u001b[0;32m<ipython-input-18-d79531b97878>\u001b[0m in \u001b[0;36m<module>\u001b[0;34m()\u001b[0m\n\u001b[1;32m      1\u001b[0m \u001b[0mparam_dict\u001b[0m \u001b[0;34m[\u001b[0m\u001b[0;34m'algorithm'\u001b[0m\u001b[0;34m]\u001b[0m \u001b[0;34m=\u001b[0m \u001b[0;34m'LSTM'\u001b[0m\u001b[0;34m\u001b[0m\u001b[0m\n\u001b[0;32m----> 2\u001b[0;31m \u001b[0mML_object\u001b[0m \u001b[0;34m=\u001b[0m \u001b[0mone_step_function\u001b[0m\u001b[0;34m(\u001b[0m\u001b[0mraw_data\u001b[0m\u001b[0;34m,\u001b[0m \u001b[0mparam_dict\u001b[0m\u001b[0;34m)\u001b[0m\u001b[0;34m\u001b[0m\u001b[0m\n\u001b[0m",
      "\u001b[0;32m/projectnb2/powermc/robustvb/2020_Summer_ML/Summer_ML/ML2020.py\u001b[0m in \u001b[0;36mone_step_function\u001b[0;34m(raw_data, param_dict)\u001b[0m\n\u001b[1;32m     28\u001b[0m     \u001b[0mML_object\u001b[0m\u001b[0;34m.\u001b[0m\u001b[0mdata_processing\u001b[0m\u001b[0;34m(\u001b[0m\u001b[0;34m)\u001b[0m\u001b[0;34m\u001b[0m\u001b[0m\n\u001b[1;32m     29\u001b[0m \u001b[0;34m\u001b[0m\u001b[0m\n\u001b[0;32m---> 30\u001b[0;31m     \u001b[0mreturns\u001b[0m \u001b[0;34m=\u001b[0m \u001b[0mML_object\u001b[0m\u001b[0;34m.\u001b[0m\u001b[0mprofit_construct\u001b[0m\u001b[0;34m(\u001b[0m\u001b[0mparam_dict\u001b[0m\u001b[0;34m[\u001b[0m\u001b[0;34m'time_list'\u001b[0m\u001b[0;34m]\u001b[0m\u001b[0;34m,\u001b[0m \u001b[0mstrategy\u001b[0m \u001b[0;34m=\u001b[0m \u001b[0mparam_dict\u001b[0m\u001b[0;34m[\u001b[0m\u001b[0;34m'strategy'\u001b[0m\u001b[0;34m]\u001b[0m\u001b[0;34m)\u001b[0m\u001b[0;34m\u001b[0m\u001b[0m\n\u001b[0m\u001b[1;32m     31\u001b[0m \u001b[0;34m\u001b[0m\u001b[0m\n\u001b[1;32m     32\u001b[0m     \u001b[0mML_object\u001b[0m\u001b[0;34m.\u001b[0m\u001b[0mreturn_plot\u001b[0m\u001b[0;34m(\u001b[0m\u001b[0mreturns\u001b[0m\u001b[0;34m)\u001b[0m\u001b[0;34m\u001b[0m\u001b[0m\n",
      "\u001b[0;32m/projectnb2/powermc/robustvb/2020_Summer_ML/Summer_ML/ML2020.py\u001b[0m in \u001b[0;36mprofit_construct\u001b[0;34m(self, time_list, strategy)\u001b[0m\n\u001b[1;32m    192\u001b[0m         \u001b[0;32mwhile\u001b[0m \u001b[0mtime_step\u001b[0m \u001b[0;34m!=\u001b[0m \u001b[0mtime_end\u001b[0m\u001b[0;34m:\u001b[0m\u001b[0;34m\u001b[0m\u001b[0m\n\u001b[1;32m    193\u001b[0m             \u001b[0mprint\u001b[0m\u001b[0;34m(\u001b[0m\u001b[0mtime_step\u001b[0m\u001b[0;34m)\u001b[0m\u001b[0;34m\u001b[0m\u001b[0m\n\u001b[0;32m--> 194\u001b[0;31m             \u001b[0mport_id\u001b[0m\u001b[0;34m,\u001b[0m \u001b[0mindx_rank\u001b[0m \u001b[0;34m=\u001b[0m \u001b[0mself\u001b[0m\u001b[0;34m.\u001b[0m\u001b[0mopti_stocks\u001b[0m\u001b[0;34m(\u001b[0m\u001b[0mtime_step\u001b[0m\u001b[0;34m)\u001b[0m\u001b[0;34m\u001b[0m\u001b[0m\n\u001b[0m\u001b[1;32m    195\u001b[0m             \u001b[0mtemp\u001b[0m \u001b[0;34m=\u001b[0m \u001b[0;34m(\u001b[0m\u001b[0mself\u001b[0m\u001b[0;34m.\u001b[0m\u001b[0my_test\u001b[0m \u001b[0;34m*\u001b[0m \u001b[0mself\u001b[0m\u001b[0;34m.\u001b[0m\u001b[0my_std\u001b[0m\u001b[0;34m)\u001b[0m \u001b[0;34m+\u001b[0m \u001b[0mself\u001b[0m\u001b[0;34m.\u001b[0m\u001b[0my_mean\u001b[0m\u001b[0;34m\u001b[0m\u001b[0m\n\u001b[1;32m    196\u001b[0m \u001b[0;34m\u001b[0m\u001b[0m\n",
      "\u001b[0;32m/projectnb2/powermc/robustvb/2020_Summer_ML/Summer_ML/ML2020.py\u001b[0m in \u001b[0;36mopti_stocks\u001b[0;34m(self, time_step)\u001b[0m\n\u001b[1;32m    163\u001b[0m             \u001b[0mMethod\u001b[0m \u001b[0mto\u001b[0m \u001b[0moutput\u001b[0m \u001b[0moptimally\u001b[0m \u001b[0mselected\u001b[0m \u001b[0mstocks\u001b[0m\u001b[0;34m\u001b[0m\u001b[0m\n\u001b[1;32m    164\u001b[0m         \"\"\"\n\u001b[0;32m--> 165\u001b[0;31m         \u001b[0my_hat\u001b[0m\u001b[0;34m,\u001b[0m \u001b[0my_test\u001b[0m \u001b[0;34m=\u001b[0m \u001b[0mself\u001b[0m\u001b[0;34m.\u001b[0m\u001b[0mreturn_prediction\u001b[0m\u001b[0;34m(\u001b[0m\u001b[0mtime_step\u001b[0m\u001b[0;34m)\u001b[0m\u001b[0;34m\u001b[0m\u001b[0m\n\u001b[0m\u001b[1;32m    166\u001b[0m         \u001b[0mindx_rank\u001b[0m \u001b[0;34m=\u001b[0m \u001b[0mnp\u001b[0m\u001b[0;34m.\u001b[0m\u001b[0margsort\u001b[0m\u001b[0;34m(\u001b[0m\u001b[0my_hat\u001b[0m\u001b[0;34m)\u001b[0m\u001b[0;34m\u001b[0m\u001b[0m\n\u001b[1;32m    167\u001b[0m \u001b[0;31m#        print(y_hat)\u001b[0m\u001b[0;34m\u001b[0m\u001b[0;34m\u001b[0m\u001b[0m\n",
      "\u001b[0;32m/projectnb2/powermc/robustvb/2020_Summer_ML/Summer_ML/ML2020.py\u001b[0m in \u001b[0;36mreturn_prediction\u001b[0;34m(self, time_step)\u001b[0m\n\u001b[1;32m     77\u001b[0m \u001b[0;34m\u001b[0m\u001b[0m\n\u001b[1;32m     78\u001b[0m         \u001b[0;32mif\u001b[0m \u001b[0mself\u001b[0m\u001b[0;34m.\u001b[0m\u001b[0mpca\u001b[0m\u001b[0;34m:\u001b[0m\u001b[0;34m\u001b[0m\u001b[0m\n\u001b[0;32m---> 79\u001b[0;31m             \u001b[0mself\u001b[0m\u001b[0;34m.\u001b[0m\u001b[0mx_train\u001b[0m\u001b[0;34m,\u001b[0m \u001b[0mself\u001b[0m\u001b[0;34m.\u001b[0m\u001b[0my_train\u001b[0m\u001b[0;34m,\u001b[0m \u001b[0mself\u001b[0m\u001b[0;34m.\u001b[0m\u001b[0mx_test\u001b[0m\u001b[0;34m,\u001b[0m \u001b[0mself\u001b[0m\u001b[0;34m.\u001b[0m\u001b[0my_test\u001b[0m \u001b[0;34m=\u001b[0m \u001b[0mself\u001b[0m\u001b[0;34m.\u001b[0m\u001b[0mPCA\u001b[0m\u001b[0;34m(\u001b[0m\u001b[0mtime_step\u001b[0m\u001b[0;34m)\u001b[0m\u001b[0;34m\u001b[0m\u001b[0m\n\u001b[0m\u001b[1;32m     80\u001b[0m \u001b[0;34m\u001b[0m\u001b[0m\n\u001b[1;32m     81\u001b[0m         \u001b[0mself\u001b[0m\u001b[0;34m.\u001b[0m\u001b[0mreturn_clustering\u001b[0m\u001b[0;34m(\u001b[0m\u001b[0mtime_step\u001b[0m\u001b[0;34m)\u001b[0m\u001b[0;34m\u001b[0m\u001b[0m\n",
      "\u001b[0;32m/projectnb2/powermc/robustvb/2020_Summer_ML/Summer_ML/ML2020.py\u001b[0m in \u001b[0;36mPCA\u001b[0;34m(self, time_step, pc, verbose)\u001b[0m\n\u001b[1;32m    116\u001b[0m         \u001b[0;34m'''pc: number of PC components.'''\u001b[0m\u001b[0;34m\u001b[0m\u001b[0m\n\u001b[1;32m    117\u001b[0m \u001b[0;34m\u001b[0m\u001b[0m\n\u001b[0;32m--> 118\u001b[0;31m         \u001b[0mX_train_set\u001b[0m\u001b[0;34m,\u001b[0m \u001b[0my_train\u001b[0m\u001b[0;34m,\u001b[0m \u001b[0mX_test_set\u001b[0m\u001b[0;34m,\u001b[0m \u001b[0my_test\u001b[0m \u001b[0;34m=\u001b[0m \u001b[0mself\u001b[0m\u001b[0;34m.\u001b[0m\u001b[0msplit_date\u001b[0m\u001b[0;34m(\u001b[0m\u001b[0mtime_step\u001b[0m\u001b[0;34m)\u001b[0m\u001b[0;34m\u001b[0m\u001b[0m\n\u001b[0m\u001b[1;32m    119\u001b[0m         \u001b[0mscaler\u001b[0m \u001b[0;34m=\u001b[0m \u001b[0mStandardScaler\u001b[0m\u001b[0;34m(\u001b[0m\u001b[0;34m)\u001b[0m\u001b[0;34m.\u001b[0m\u001b[0mfit\u001b[0m\u001b[0;34m(\u001b[0m\u001b[0mX_train_set\u001b[0m\u001b[0;34m)\u001b[0m\u001b[0;34m\u001b[0m\u001b[0m\n\u001b[1;32m    120\u001b[0m         \u001b[0mX_train_set\u001b[0m \u001b[0;34m=\u001b[0m \u001b[0mscaler\u001b[0m\u001b[0;34m.\u001b[0m\u001b[0mtransform\u001b[0m\u001b[0;34m(\u001b[0m\u001b[0mX_train_set\u001b[0m\u001b[0;34m)\u001b[0m\u001b[0;34m\u001b[0m\u001b[0m\n",
      "\u001b[0;32m/projectnb2/powermc/robustvb/2020_Summer_ML/Summer_ML/ML2020.py\u001b[0m in \u001b[0;36msplit_date\u001b[0;34m(self, time_step)\u001b[0m\n\u001b[1;32m    146\u001b[0m \u001b[0;34m\u001b[0m\u001b[0m\n\u001b[1;32m    147\u001b[0m         train = dataset.loc[(dataset['DATE'] > time_train_start)\n\u001b[0;32m--> 148\u001b[0;31m                             & (dataset['DATE'] <= time)]\n\u001b[0m\u001b[1;32m    149\u001b[0m         \u001b[0mtest\u001b[0m \u001b[0;34m=\u001b[0m \u001b[0mdataset\u001b[0m\u001b[0;34m.\u001b[0m\u001b[0mloc\u001b[0m\u001b[0;34m[\u001b[0m\u001b[0mdataset\u001b[0m\u001b[0;34m[\u001b[0m\u001b[0;34m'DATE'\u001b[0m\u001b[0;34m]\u001b[0m \u001b[0;34m==\u001b[0m \u001b[0mtime_test_end\u001b[0m\u001b[0;34m]\u001b[0m\u001b[0;34m\u001b[0m\u001b[0m\n\u001b[1;32m    150\u001b[0m \u001b[0;34m\u001b[0m\u001b[0m\n",
      "\u001b[0;32m/share/pkg.7/python3/3.6.5/install/lib/python3.6/site-packages/pandas/core/ops.py\u001b[0m in \u001b[0;36mwrapper\u001b[0;34m(self, other, axis)\u001b[0m\n\u001b[1;32m   1281\u001b[0m \u001b[0;34m\u001b[0m\u001b[0m\n\u001b[1;32m   1282\u001b[0m             \u001b[0;32mwith\u001b[0m \u001b[0mnp\u001b[0m\u001b[0;34m.\u001b[0m\u001b[0merrstate\u001b[0m\u001b[0;34m(\u001b[0m\u001b[0mall\u001b[0m\u001b[0;34m=\u001b[0m\u001b[0;34m'ignore'\u001b[0m\u001b[0;34m)\u001b[0m\u001b[0;34m:\u001b[0m\u001b[0;34m\u001b[0m\u001b[0m\n\u001b[0;32m-> 1283\u001b[0;31m                 \u001b[0mres\u001b[0m \u001b[0;34m=\u001b[0m \u001b[0mna_op\u001b[0m\u001b[0;34m(\u001b[0m\u001b[0mvalues\u001b[0m\u001b[0;34m,\u001b[0m \u001b[0mother\u001b[0m\u001b[0;34m)\u001b[0m\u001b[0;34m\u001b[0m\u001b[0m\n\u001b[0m\u001b[1;32m   1284\u001b[0m             \u001b[0;32mif\u001b[0m \u001b[0mis_scalar\u001b[0m\u001b[0;34m(\u001b[0m\u001b[0mres\u001b[0m\u001b[0;34m)\u001b[0m\u001b[0;34m:\u001b[0m\u001b[0;34m\u001b[0m\u001b[0m\n\u001b[1;32m   1285\u001b[0m                 raise TypeError('Could not compare {typ} type with Series'\n",
      "\u001b[0;32m/share/pkg.7/python3/3.6.5/install/lib/python3.6/site-packages/pandas/core/ops.py\u001b[0m in \u001b[0;36mna_op\u001b[0;34m(x, y)\u001b[0m\n\u001b[1;32m   1141\u001b[0m \u001b[0;34m\u001b[0m\u001b[0m\n\u001b[1;32m   1142\u001b[0m         \u001b[0;32melif\u001b[0m \u001b[0mis_object_dtype\u001b[0m\u001b[0;34m(\u001b[0m\u001b[0mx\u001b[0m\u001b[0;34m.\u001b[0m\u001b[0mdtype\u001b[0m\u001b[0;34m)\u001b[0m\u001b[0;34m:\u001b[0m\u001b[0;34m\u001b[0m\u001b[0m\n\u001b[0;32m-> 1143\u001b[0;31m             \u001b[0mresult\u001b[0m \u001b[0;34m=\u001b[0m \u001b[0m_comp_method_OBJECT_ARRAY\u001b[0m\u001b[0;34m(\u001b[0m\u001b[0mop\u001b[0m\u001b[0;34m,\u001b[0m \u001b[0mx\u001b[0m\u001b[0;34m,\u001b[0m \u001b[0my\u001b[0m\u001b[0;34m)\u001b[0m\u001b[0;34m\u001b[0m\u001b[0m\n\u001b[0m\u001b[1;32m   1144\u001b[0m \u001b[0;34m\u001b[0m\u001b[0m\n\u001b[1;32m   1145\u001b[0m         \u001b[0;32melif\u001b[0m \u001b[0mis_datetimelike_v_numeric\u001b[0m\u001b[0;34m(\u001b[0m\u001b[0mx\u001b[0m\u001b[0;34m,\u001b[0m \u001b[0my\u001b[0m\u001b[0;34m)\u001b[0m\u001b[0;34m:\u001b[0m\u001b[0;34m\u001b[0m\u001b[0m\n",
      "\u001b[0;32m/share/pkg.7/python3/3.6.5/install/lib/python3.6/site-packages/pandas/core/ops.py\u001b[0m in \u001b[0;36m_comp_method_OBJECT_ARRAY\u001b[0;34m(op, x, y)\u001b[0m\n\u001b[1;32m   1120\u001b[0m         \u001b[0mresult\u001b[0m \u001b[0;34m=\u001b[0m \u001b[0mlibops\u001b[0m\u001b[0;34m.\u001b[0m\u001b[0mvec_compare\u001b[0m\u001b[0;34m(\u001b[0m\u001b[0mx\u001b[0m\u001b[0;34m,\u001b[0m \u001b[0my\u001b[0m\u001b[0;34m,\u001b[0m \u001b[0mop\u001b[0m\u001b[0;34m)\u001b[0m\u001b[0;34m\u001b[0m\u001b[0m\n\u001b[1;32m   1121\u001b[0m     \u001b[0;32melse\u001b[0m\u001b[0;34m:\u001b[0m\u001b[0;34m\u001b[0m\u001b[0m\n\u001b[0;32m-> 1122\u001b[0;31m         \u001b[0mresult\u001b[0m \u001b[0;34m=\u001b[0m \u001b[0mlibops\u001b[0m\u001b[0;34m.\u001b[0m\u001b[0mscalar_compare\u001b[0m\u001b[0;34m(\u001b[0m\u001b[0mx\u001b[0m\u001b[0;34m,\u001b[0m \u001b[0my\u001b[0m\u001b[0;34m,\u001b[0m \u001b[0mop\u001b[0m\u001b[0;34m)\u001b[0m\u001b[0;34m\u001b[0m\u001b[0m\n\u001b[0m\u001b[1;32m   1123\u001b[0m     \u001b[0;32mreturn\u001b[0m \u001b[0mresult\u001b[0m\u001b[0;34m\u001b[0m\u001b[0m\n\u001b[1;32m   1124\u001b[0m \u001b[0;34m\u001b[0m\u001b[0m\n",
      "\u001b[0;32mpandas/_libs/ops.pyx\u001b[0m in \u001b[0;36mpandas._libs.ops.scalar_compare\u001b[0;34m()\u001b[0m\n",
      "\u001b[0;32mpandas/_libs/tslibs/period.pyx\u001b[0m in \u001b[0;36mpandas._libs.tslibs.period._Period.__richcmp__\u001b[0;34m()\u001b[0m\n",
      "\u001b[0;32m/share/pkg.7/python3/3.6.5/install/lib/python3.6/site-packages/pandas/tseries/offsets.py\u001b[0m in \u001b[0;36m__ne__\u001b[0;34m(self, other)\u001b[0m\n\u001b[1;32m    335\u001b[0m \u001b[0;34m\u001b[0m\u001b[0m\n\u001b[1;32m    336\u001b[0m     \u001b[0;32mdef\u001b[0m \u001b[0m__ne__\u001b[0m\u001b[0;34m(\u001b[0m\u001b[0mself\u001b[0m\u001b[0;34m,\u001b[0m \u001b[0mother\u001b[0m\u001b[0;34m)\u001b[0m\u001b[0;34m:\u001b[0m\u001b[0;34m\u001b[0m\u001b[0m\n\u001b[0;32m--> 337\u001b[0;31m         \u001b[0;32mreturn\u001b[0m \u001b[0;32mnot\u001b[0m \u001b[0mself\u001b[0m \u001b[0;34m==\u001b[0m \u001b[0mother\u001b[0m\u001b[0;34m\u001b[0m\u001b[0m\n\u001b[0m\u001b[1;32m    338\u001b[0m \u001b[0;34m\u001b[0m\u001b[0m\n\u001b[1;32m    339\u001b[0m     \u001b[0;32mdef\u001b[0m \u001b[0m__hash__\u001b[0m\u001b[0;34m(\u001b[0m\u001b[0mself\u001b[0m\u001b[0;34m)\u001b[0m\u001b[0;34m:\u001b[0m\u001b[0;34m\u001b[0m\u001b[0m\n",
      "\u001b[0;32m/share/pkg.7/python3/3.6.5/install/lib/python3.6/site-packages/pandas/tseries/offsets.py\u001b[0m in \u001b[0;36m__eq__\u001b[0;34m(self, other)\u001b[0m\n\u001b[1;32m    324\u001b[0m             \u001b[0;32mreturn\u001b[0m \u001b[0;32mFalse\u001b[0m\u001b[0;34m\u001b[0m\u001b[0m\n\u001b[1;32m    325\u001b[0m \u001b[0;34m\u001b[0m\u001b[0m\n\u001b[0;32m--> 326\u001b[0;31m         \u001b[0;32mif\u001b[0m \u001b[0misinstance\u001b[0m\u001b[0;34m(\u001b[0m\u001b[0mother\u001b[0m\u001b[0;34m,\u001b[0m \u001b[0mcompat\u001b[0m\u001b[0;34m.\u001b[0m\u001b[0mstring_types\u001b[0m\u001b[0;34m)\u001b[0m\u001b[0;34m:\u001b[0m\u001b[0;34m\u001b[0m\u001b[0m\n\u001b[0m\u001b[1;32m    327\u001b[0m             \u001b[0;32mfrom\u001b[0m \u001b[0mpandas\u001b[0m\u001b[0;34m.\u001b[0m\u001b[0mtseries\u001b[0m\u001b[0;34m.\u001b[0m\u001b[0mfrequencies\u001b[0m \u001b[0;32mimport\u001b[0m \u001b[0mto_offset\u001b[0m\u001b[0;34m\u001b[0m\u001b[0m\n\u001b[1;32m    328\u001b[0m \u001b[0;34m\u001b[0m\u001b[0m\n",
      "\u001b[0;31mKeyboardInterrupt\u001b[0m: "
     ]
    }
   ],
   "source": [
    "param_dict ['algorithm'] = 'LSTM'\n",
    "ML_object = one_step_function(raw_data, param_dict)"
   ]
  },
  {
   "cell_type": "markdown",
   "metadata": {},
   "source": [
    "## 3.3 Gradient Boosting"
   ]
  },
  {
   "cell_type": "markdown",
   "metadata": {},
   "source": [
    "\n",
    "\n",
    "\\section{Introduction}\n",
    "\n",
    "In general, the boosting algorithm is a method to iteratively enhance the performance of many weak learners by merging them together, and if we adopt a decision tree regression as the basic learner, we would have a gradient boosting tree regressor. Consider the training data $\\mathcal{T}=\\{(x_i, y_i)\\}_{i=1,...,n}$, with the input $x_i=(x_{1i}, x_{2i},...,x_{ki})$ and the output $y_i$, that is, we have $n$ observations, and for each observation, there are $k$ features and 1 response. Then, we will split the features of our training dataset sequentially based on regression tree, and perform multiple regressions in different regions to train the machine, and therefore we can use this trained machine to do further prediction if we have testing features. Computationally, we can use the forward stagewise additive modeling(FSAM), whose main algorithm is to keep updating the values in each new split region as we increase the number of splits, and add the trees together to form the machine. In this report, we will use the method introduced above to predict the future returns of the SP500 stocks, and build portfolios accordingly.\n",
    "\n",
    "\\subsection{Gradient Boosting Regression Tree and FSAM}\n",
    "GBRT regressor are additive models whose prediction $\\hat{y_i}$ for a give input $x_i$ is of the following form:\n",
    "\\begin{equation*}\n",
    "    \\hat{y_i}=F_M(x_i)=\\sum_{m=1}^M T_m(x_i)\n",
    "\\end{equation*}\n",
    "where $T$ is a simple decision tree regressor, and hence\n",
    "\\begin{equation*}\n",
    "    F_m(x)=F_{m-1}(x) + T_m(x)\n",
    "\\end{equation*}\n",
    "where the newly added tree $T_m$ is fitted to minimize a sum of losses $L_m$, given the previous ensemble $F_{m-1}$:\n",
    "\\begin{equation*}\n",
    "    T_m=\\text{arg}\\underset{T}{\\text{min}}L_m=\\text{arg}\\underset{T}{\\text{min}}\\sum_{i=1}^n l(y_i,F_{m-1}(x_i)+T(x_i)),\n",
    "\\end{equation*}\n",
    "where $l$ is a differentiable loss function. And if we perform a first order Taylor expansion to $L_m$ around $F_{m-1}(x_i)+T(x_i)$, the value of the loss can be estimated as follows:\n",
    "\\begin{equation*}\n",
    "    l(y_i,F_{m-1}(x_i)+T(x_i))\\approx l(y_i,F_{m-1}(x_i)) + T_m(x_i)\\left[\\frac{\\partial l(y_i,F(x_i))}{\\partial F(x_i)}\\right]_{F=F_{m-1}}\n",
    "\\end{equation*}\n",
    "After removing the terms that do not include $T$, we can approximate each decision tree regressor in the following way:\n",
    "\\begin{equation*}\n",
    "    T_m\\approx\\text{arg}\\underset{T}{\\text{min}}\\sum_{i=1}^n T(x_i)\\left[\\frac{\\partial l(y_i,F(x_i))}{\\partial F(x_i)}\\right]_{F=F_{m-1}}\n",
    "\\end{equation*}\n",
    "\\\\\n",
    "To elaborate the details of GBRT machine, let's consider the GBRT regressor with squared error loss\n",
    "\\begin{equation*}\n",
    "    L(y,f(x))=(y-f(x))^2\n",
    "\\end{equation*}\n",
    "and the number of weak learners is $M$, and hence we will split the features into M regions.\n",
    "\\\\\n",
    "The prediction rule is\n",
    "\\begin{equation*}\n",
    "    f(x;\\beta)=\\sum_{m=1}^{M}T(x;\\beta_m)\n",
    "\\end{equation*}\n",
    "where $\\beta=(\\beta_1,...,\\beta_M)$, $T(x;\\beta_m)$ is a stump with parameters $\\beta=(R,\\gamma), R=(j,c)$. $j$ is the index of a feature, and $c$ is the value at the knot of a feature, so $j$ and $c$ can help us determine the split. For instance,\n",
    "\\begin{center}\n",
    "    $R_1(j,c)=(x:x_j\\leq c)$,\n",
    "    \n",
    "    $R_2(j,c)=(x:x_j> c)$.\n",
    "\\end{center}\n",
    "And hence $R$ indicates our choice of split, with number of splits $M$, and $\\gamma$ is the estimated value in each region. Since each weak learner is a decision tree regression, $\\hat{\\gamma}$ would be the mean in that region. We then adopt the FSAM algorithm which is built in a greedy fashion to fit the model. In FSAM, as we increase the number of splits, in each \n",
    "region we add, we fit the newly added tree in order to minimize the total loss, and we will use the fitted value in each region. Mathematically speaking, for $m=1,...,M$, $\\hat{\\beta}_m = \\text{arg}\\underset{\\beta}{\\text{min}}\\sum_{i=1}^{N}L(y_i,f_{m-1}(x_i)+T(x_i;\\beta))$. The summary of FSAM algorithm is as following:\n",
    "\\begin{algorithm} \n",
    " \\caption{Forward Stagewise} \n",
    " \\label{alg:ideal hmc} \n",
    " \\begin{algorithmic}[1]\n",
    "  \\STATE Initialize: $f_0(x_i)=0,i=1,...,N$\n",
    "  \\FOR{$m = 1,...,M$,}\n",
    "  \\STATE Compute  $(\\hat{R}_m, \\hat{\\gamma}_m) = \\text{arg}\\underset{(R_m,\\gamma_m)}{\\text{min}}\\sum_{i=1}^{N}L(y_i,f_{m-1}(x_i)+\\gamma_m G(x_i;R_m))$.\n",
    "  \\STATE $f_m(x_i) = f_{m-1} (x_i) + \\hat{\\gamma}_m G(x_i;\\hat{R_m})$\n",
    "  \\ENDFOR\n",
    "  \\STATE $\\hat{f}(x)=\\sum_{m=1}^{M} \\hat{\\gamma}_m G(x;\\hat{R}_m))$\n",
    " \\end{algorithmic}\n",
    "\\end{algorithm}\n",
    "\n",
    "\\subsection{Dataset}\n",
    "The dataset we used was scrapped from Wharton Research Data Services(WRDS) and Yahoo Finance, and it consists of the monthly data of the companies in SP500 from January 2014 to December 2019. The response is the monthly return(RET) of each stock and the features are the corresponding technical and fundamental indicators. The features include categorical and numerical data. Some columns in the dataset include missing values. We would split the dataset into training set(January 2014 to December 2018) and testing set(January 2019 to December 2019). After training the machine using the training set, we will use the features in testing set to predict the returns in 2019 and build the portfolio accordingly, and finally compare with the true return to evaluate the portfolio. \n",
    "\n",
    "\\section{Machine Setup}\n",
    "In this section, we would briefly summarize how we built up our machine. We used the built-in function \"GradientBoostingRegressor\" found in the package of \"scikit learn\" in python to perform the regression. \n",
    "\n",
    "\\subsection{Data Cleaning and Features Selection}\n",
    "We dropped all the categorical features in the dataset, because the regressor needs to split the features at some knots (i.e. $x_j>c$ and $x_j\\leq c$), but categorical data cannot be divided into two halves at the knots.\n",
    "\\\\\n",
    "Despite the fact that we came up with some ways (either using the median or randomly generalizing some numbers around a specific value) to fill up the missing values in the original dataset, we still decided to drop all the observations with missing values in any of the numerical features. A decision tree would split the features at the knots\n",
    "to minimize the total losses. If we filled the missing values with the medians or with some close numbers, we would end up with the features with a lot of repeat or close values. Thus, in order to minimize the loss, the decision tree would very likely to split the features right at the knots that we filled in. Namely, we determine the choice of split which is supposed to be determined by the data.\n",
    "\n",
    "\\subsection{Modeling}\n",
    "We decided to look back one month, that is, to train the machine we would regress the return of the stock price of a company in the current month on the features of this company last month; to do the prediction on the next month, we would use the features this month.\n",
    "\\subsubsection{Machine training}\n",
    "We use our regressor to regress the monthly return of each company from February 2014 to December 2018 on the features of the corresponding companies from January 2014 to November 2018. After the training is done, we then use features of each company from December 2018 to November 2019 to predict the corresponding returns from January 2019 to December 2019.\n",
    "\\subsubsection{Parameters tuning}\n",
    "There are 4 basic parameters in the machine, i.e. n\\_estimators, max\\_depth, min\\_samples\\_split, learning\\_rate. max\\_depth and learning\\_rate are the ones to be tuned.\n",
    "\\begin{center}\n",
    "\\begin{tabular}{ |c|c|c| } \n",
    " \\hline\n",
    " parameters & functions & values \\\\ \n",
    " \\hline\n",
    " n\\_estimators & number of boosting stages that will be performed & 500 \\\\ \n",
    " max\\_depth & limits the number of nodes in the tree & 5,6,...,15 \\\\ \n",
    " min\\_samples\\_split &  minimum number of samples required to split & 5 \\\\\n",
    " learning\\_rate & how quickly the error is corrected & 0.05,0.10,...,0.4 \\\\\n",
    " \\hline\n",
    "\\end{tabular}\n",
    "\\end{center}\n",
    "max\\_depth somehow controls the number of trees that we need to add in the machine, a small value of max\\_depth leads to underfit while a large value may lead to overfit.\n",
    "learning\\_rate can be regarded as the step size when minimizing the loss. A small value of learning\\_rate could cause a very slow convergence or being trapped in a local minimum, while a large value could lead to jumping over around the global minimum.\n",
    "\\\\\n",
    "There are three ways to tune these two parameters:\n",
    "\n",
    "(1) Create a 2-dimensional grid of the values of these two parameters. For each pair of the values, calculate the corresponding sum squared errors, and choose the pair with the smallest error. However, this method is computationally expensive and may take a lot of time to run the program;\n",
    "\n",
    "(2) Initialize the values of these two parameters as 0. Fix the first parameter, and minimize the sum square errors over the values of the second parameter and update its value; and then fix the second parameter and update the first one. Iterate the above steps until convergence. This method takes shorter time to run but it could lead to a local minimum of the total loss;\n",
    "\n",
    "(3) Follow the skeleton of the previous methods, but randomly select the initial values of the parameters, and perform the optimization multiple times. This would slightly increase the running time but would decrease the possibility to be trapped in local minimum.\n"
   ]
  },
  {
   "cell_type": "markdown",
   "metadata": {},
   "source": [
    "## 3.4 Kernel Regression"
   ]
  },
  {
   "cell_type": "code",
   "execution_count": null,
   "metadata": {},
   "outputs": [],
   "source": []
  },
  {
   "cell_type": "code",
   "execution_count": null,
   "metadata": {},
   "outputs": [],
   "source": []
  },
  {
   "cell_type": "code",
   "execution_count": null,
   "metadata": {},
   "outputs": [],
   "source": []
  },
  {
   "cell_type": "code",
   "execution_count": null,
   "metadata": {},
   "outputs": [],
   "source": []
  }
 ],
 "metadata": {
  "kernelspec": {
   "display_name": "Python 3",
   "language": "python",
   "name": "python3"
  },
  "language_info": {
   "codemirror_mode": {
    "name": "ipython",
    "version": 3
   },
   "file_extension": ".py",
   "mimetype": "text/x-python",
   "name": "python",
   "nbconvert_exporter": "python",
   "pygments_lexer": "ipython3",
   "version": "3.6.5"
  },
  "toc": {
   "base_numbering": 1,
   "nav_menu": {},
   "number_sections": false,
   "sideBar": true,
   "skip_h1_title": false,
   "title_cell": "Table of Contents",
   "title_sidebar": "Contents",
   "toc_cell": true,
   "toc_position": {},
   "toc_section_display": true,
   "toc_window_display": true
  },
  "varInspector": {
   "cols": {
    "lenName": 16,
    "lenType": 16,
    "lenVar": 40
   },
   "kernels_config": {
    "python": {
     "delete_cmd_postfix": "",
     "delete_cmd_prefix": "del ",
     "library": "var_list.py",
     "varRefreshCmd": "print(var_dic_list())"
    },
    "r": {
     "delete_cmd_postfix": ") ",
     "delete_cmd_prefix": "rm(",
     "library": "var_list.r",
     "varRefreshCmd": "cat(var_dic_list()) "
    }
   },
   "types_to_exclude": [
    "module",
    "function",
    "builtin_function_or_method",
    "instance",
    "_Feature"
   ],
   "window_display": false
  }
 },
 "nbformat": 4,
 "nbformat_minor": 4
}
